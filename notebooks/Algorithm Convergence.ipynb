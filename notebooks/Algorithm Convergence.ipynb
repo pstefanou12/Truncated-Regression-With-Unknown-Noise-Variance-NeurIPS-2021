{
 "cells": [
  {
   "cell_type": "markdown",
   "metadata": {},
   "source": [
    "# Algorithm Convergence\n",
    "In this notebook, we explore the theoretical guarantees of oru algorithm. In particular, we check to make sure that oru algorithm error bounds hold as we increase the number of smaples that fall within the truncation set."
   ]
  },
  {
   "cell_type": "code",
   "execution_count": 11,
   "metadata": {},
   "outputs": [],
   "source": [
    "import sys \n",
    "sys.path.append('..')\n",
    "import torch as ch\n",
    "from torch import Tensor\n",
    "import torch.linalg as LA\n",
    "from torch.distributions import Uniform, Laplace\n",
    "from torch.distributions.multivariate_normal import MultivariateNormal\n",
    "import pandas as pd\n",
    "import numpy as np\n",
    "import csv\n",
    "import json\n",
    "from cox.utils import Parameters\n",
    "from cox.store import Store\n",
    "from cox.readers import CollectionReader\n",
    "from sklearn.linear_model import LinearRegression\n",
    "from sklearn.metrics import r2_score\n",
    "import datetime\n",
    "import seaborn as sns\n",
    "import matplotlib.pyplot as plt\n",
    "import datetime\n",
    "import math \n",
    "import IPython\n",
    "\n",
    "from delphi.stats.linear_regression import TruncatedRegression\n",
    "from delphi import oracle\n",
    "\n",
    "TABLE_NAME = 'logs'"
   ]
  },
  {
   "cell_type": "markdown",
   "metadata": {},
   "source": [
    "# Experiment Hyperparameters\n",
    "Here, are the hyperparameters that you can use for modify for each run of the experiment. Please make sure to fill in teh out_dir and exp keys in the dictionary"
   ]
  },
  {
   "cell_type": "code",
   "execution_count": 12,
   "metadata": {},
   "outputs": [],
   "source": [
    "args = Parameters({\n",
    "    \"bias\": True,\n",
    "    \"samples\": 1000,\n",
    "    \"lr\": 1e-1,\n",
    "    \"var_\": 1,\n",
    "    \"trials\": 3,\n",
    "    \"steps\": 1000,\n",
    "    \"x_lower\": -10,\n",
    "    \"x_upper\": 10,\n",
    "    \"lower\": -1,\n",
    "    \"upper\": 1,\n",
    "#     'out_dir': '<FILL IN OUT_DIR HERE>', \n",
    "    'out_dir': '/Users/patroklos/Desktop/convergence/', \n",
    "#     'exp': '<FILL IN EXP HERE>', \n",
    "    'exp': 'trial', \n",
    "    'bs': 10, \n",
    "    'steps': 2500, \n",
    "    'step_lr': 100, \n",
    "    'step_lr_gamma': .9, \n",
    "    'tol': 1e-2, \n",
    "    'trials': 20, \n",
    "    'n': 100,\n",
    "})\n",
    "mse_loss = ch.nn.MSELoss()"
   ]
  },
  {
   "cell_type": "code",
   "execution_count": 13,
   "metadata": {},
   "outputs": [],
   "source": [
    "def run_trial(kwargs, X, y):\n",
    "    \"\"\"\n",
    "    Runs a trial of a truncated regression experiment. Runs a maximum \n",
    "    of three trials of an experiment. The experiment terminates when either \n",
    "    the norm of teh score is less than 3e-1, or when three trials is up. After \n",
    "    three trials it returns the best truncated regression experiment.\n",
    "    :param kwargs: keyword arguments for experiment \n",
    "    :param X: independent variable\n",
    "    :param y: dependent variable\n",
    "    :return: truncated regression experiment and time that experiment took\n",
    "    \"\"\"\n",
    "    st = datetime.datetime.now()        \n",
    "    # run procedure until get reasonable score\n",
    "    attempt, score, best_trunc_reg = 0, None, None\n",
    "    while (score is None or score.norm() > 3e-1) and attempt < 3:\n",
    "        trunc_reg = TruncatedRegression(**kwargs)\n",
    "        trunc_reg.fit(X, y)\n",
    "        grad = trunc_reg.score()\n",
    "        if score is None or grad.norm() < score.norm(): \n",
    "            score, best_trunc_reg = grad, trunc_reg\n",
    "        attempt += 1\n",
    "    total_time = int((datetime.datetime.now() - st).total_seconds())\n",
    "    return best_trunc_reg, total_time  "
   ]
  },
  {
   "cell_type": "code",
   "execution_count": 14,
   "metadata": {
    "scrolled": true
   },
   "outputs": [
    {
     "name": "stderr",
     "output_type": "stream",
     "text": [
      "ERROR:root:Internal Python error in the inspect module.\n",
      "Below is the traceback from this internal error.\n",
      "\n"
     ]
    },
    {
     "name": "stdout",
     "output_type": "stream",
     "text": [
      "Logging in: /Users/patroklos/Desktop/convergence/trial/130dc978-a8a4-4d04-85d8-dcc81707d3dd\n",
      "Traceback (most recent call last):\n",
      "  File \"/opt/anaconda3/lib/python3.7/site-packages/IPython/core/interactiveshell.py\", line 3326, in run_code\n",
      "    exec(code_obj, self.user_global_ns, self.user_ns)\n",
      "  File \"<ipython-input-14-26379a4e18d2>\", line 33, in <module>\n",
      "    store = Store(args.out_dir + args.exp)\n",
      "  File \"/opt/anaconda3/lib/python3.7/site-packages/cox-0.1.post3-py3.7.egg/cox/store.py\", line 102, in __init__\n",
      "    self.tensorboard = SummaryWriter(self.tb_dir)\n",
      "  File \"/opt/anaconda3/lib/python3.7/site-packages/tensorboardX/writer.py\", line 275, in __init__\n",
      "  File \"/opt/anaconda3/lib/python3.7/site-packages/tensorboardX/writer.py\", line 327, in _get_file_writer\n",
      "  File \"/opt/anaconda3/lib/python3.7/site-packages/tensorboardX/writer.py\", line 95, in __init__\n",
      "  File \"/opt/anaconda3/lib/python3.7/site-packages/tensorboardX/event_file_writer.py\", line 105, in __init__\n",
      "  File \"/opt/anaconda3/lib/python3.7/multiprocessing/context.py\", line 102, in Queue\n",
      "  File \"/opt/anaconda3/lib/python3.7/multiprocessing/queues.py\", line 48, in __init__\n",
      "  File \"/opt/anaconda3/lib/python3.7/multiprocessing/context.py\", line 87, in BoundedSemaphore\n",
      "  File \"/opt/anaconda3/lib/python3.7/multiprocessing/synchronize.py\", line 145, in __init__\n",
      "  File \"/opt/anaconda3/lib/python3.7/multiprocessing/synchronize.py\", line 59, in __init__\n",
      "OSError: [Errno 24] Too many open files\n",
      "\n",
      "During handling of the above exception, another exception occurred:\n",
      "\n",
      "Traceback (most recent call last):\n",
      "  File \"/opt/anaconda3/lib/python3.7/site-packages/IPython/core/interactiveshell.py\", line 2040, in showtraceback\n",
      "    stb = value._render_traceback_()\n",
      "AttributeError: 'OSError' object has no attribute '_render_traceback_'\n",
      "\n",
      "During handling of the above exception, another exception occurred:\n",
      "\n",
      "Traceback (most recent call last):\n",
      "  File \"/opt/anaconda3/lib/python3.7/site-packages/IPython/core/ultratb.py\", line 1101, in get_records\n",
      "  File \"/opt/anaconda3/lib/python3.7/site-packages/IPython/core/ultratb.py\", line 319, in wrapped\n",
      "  File \"/opt/anaconda3/lib/python3.7/site-packages/IPython/core/ultratb.py\", line 353, in _fixed_getinnerframes\n",
      "  File \"/opt/anaconda3/lib/python3.7/inspect.py\", line 1502, in getinnerframes\n",
      "  File \"/opt/anaconda3/lib/python3.7/inspect.py\", line 1460, in getframeinfo\n",
      "  File \"/opt/anaconda3/lib/python3.7/inspect.py\", line 696, in getsourcefile\n",
      "  File \"/opt/anaconda3/lib/python3.7/inspect.py\", line 725, in getmodule\n",
      "  File \"/opt/anaconda3/lib/python3.7/inspect.py\", line 709, in getabsfile\n",
      "  File \"/opt/anaconda3/lib/python3.7/posixpath.py\", line 383, in abspath\n",
      "OSError: [Errno 24] Too many open files\n"
     ]
    },
    {
     "ename": "OSError",
     "evalue": "[Errno 24] Too many open files",
     "output_type": "error",
     "traceback": [
      "\u001b[0;31m---------------------------------------------------------------------------\u001b[0m"
     ]
    }
   ],
   "source": [
    " # expriment parameters\n",
    "w_lower, w_upper = -1, 1\n",
    "d, k = 10, 1\n",
    "\n",
    "# distribution for generating feature vectors\n",
    "dist = MultivariateNormal(ch.zeros(d), ch.eye(d)/d)\n",
    "samples = [10, 25, 50, 100, 125, 150, 175, 200, 225, 250, 275, 300, 400, 500, 750, 1000, 1500, 2000, 2500, 3000, 5000]\n",
    "phi = oracle.Left(1.0)\n",
    "noise_var = Tensor([1.0])\n",
    "\n",
    "# generate ground truth\n",
    "gt = ch.nn.Linear(in_features=d, out_features=k)\n",
    "gt.weight = ch.nn.Parameter(ch.ones(k, d))\n",
    "gt.bias = ch.nn.Parameter(ch.ones(1, 1)) if args.bias else None\n",
    "\n",
    "# generate data until max number of samples fall within the truncation set\n",
    "X, noised = Tensor([]), Tensor([])\n",
    "all_x_trunc, all_y_trunc = Tensor([]), Tensor([])\n",
    "with ch.no_grad():\n",
    "    while all_x_trunc.size(0) < samples[-1]: \n",
    "        x_ = dist.sample(ch.Size([samples[-1], d])) if isinstance(dist, Uniform) else dist.sample(ch.Size([samples[-1]]))\n",
    "        new_noised = gt(x_) + ch.sqrt(noise_var) * ch.randn(samples[-1], 1)\n",
    "        # add noise to ground-truth pedictions\n",
    "        # truncate based off of the standardized data\n",
    "        indices = phi(new_noised).flatten().nonzero(as_tuple=False).flatten()\n",
    "        all_y_trunc, all_x_trunc = ch.cat([all_y_trunc, new_noised[indices]]), ch.cat([all_x_trunc, x_[indices]])\n",
    "        X, noised = ch.cat([X, x_]), ch.cat([noised, new_noised])\n",
    "        \n",
    "alpha = Tensor([all_y_trunc.size(0) / noised.size(0)])\n",
    "\n",
    "for i in range(args.trials):\n",
    "    # create store and add table\n",
    "    store = Store(args.out_dir + args.exp)\n",
    "    store.add_table(TABLE_NAME, { \n",
    "        'ols_r2': float,\n",
    "        'ols_param_mse': float,\n",
    "        'ols_var_l1': float,\n",
    "        'unknown_r2': float, \n",
    "        'unknown_param_mse': float,\n",
    "        'unknown_var_l1': float,\n",
    "        'unknown_time': int,\n",
    "        'alpha': float, \n",
    "        'num_samples': int,\n",
    "        'noise_var': float, \n",
    "    })\n",
    "            \n",
    "    # shuffle x_trunc, y_trunc\n",
    "    rand_perm = ch.randperm(all_y_trunc.size(0))\n",
    "    x_trunc_pool, y_trunc_pool = all_x_trunc[rand_perm], all_y_trunc[rand_perm]\n",
    "    \n",
    "    # iterate over samples\n",
    "    for s in samples: \n",
    "        # take s truncated samples\n",
    "        x_trunc, y_trunc = x_trunc_pool[:s], y_trunc_pool[:s]\n",
    "\n",
    "        # 10% of truncated data is validation data\n",
    "        val = int(.1*s)\n",
    "        \n",
    "        # normalize x features so that ||x_{i}||_{2}^{2} <= 1\n",
    "        l_inf = LA.norm(x_trunc, dim=-1, ord=float('inf')).max() # find max l_inf\n",
    "        # calculate normalizing constant\n",
    "        beta = l_inf*math.sqrt(d)\n",
    "        \"\"\"\n",
    "        Divide input features by normalizing constant. By doing so, \n",
    "        the weights will be increased by a magnitude of beta.\n",
    "        \"\"\"\n",
    "        x_trunc_norm = x_trunc / beta\n",
    "         # normalize entire dataset by beta\n",
    "        x_norm = X / beta\n",
    "        \n",
    "        # ground-truth ols\n",
    "        gt_ols = LinearRegression()\n",
    "        gt_ols.fit(X, noised)\n",
    "        gt_params = ch.cat([Tensor(gt_ols.coef_).T, Tensor(gt_ols.intercept_)[..., None]]).flatten()\n",
    "        \n",
    "        # empirical linear regression\n",
    "        ols = LinearRegression() \n",
    "        ols.fit(x_trunc, y_trunc)\n",
    "        ols_var = ch.var(Tensor(ols.predict(x_trunc)) - y_trunc, dim=0)[..., None]\n",
    "        ols_params = ch.cat([Tensor(ols.coef_).T, Tensor(ols.intercept_)[..., None]]).flatten()\n",
    "        # check r2 for entire dataset\n",
    "        ols_pred = ols.predict(X)\n",
    "\n",
    "        # ols results\n",
    "        store[TABLE_NAME].update_row({\n",
    "            'ols_r2': r2_score(noised.flatten(), ols_pred.flatten()), \n",
    "            'ols_var_l1': ch.abs(ols_var - noise_var),\n",
    "            'ols_param_mse': mse_loss(ols_params, gt_params),\n",
    "        })\n",
    "        \n",
    "        \"\"\"\n",
    "        Run dataset on truncated regression with unknown variance. \n",
    "        This means that we want to standardize our dependent variable \n",
    "        by the empirical noise variance. \n",
    "        \"\"\"\n",
    "        # variance of the residuals\n",
    "        emp_noise_var = (y_trunc - ols.predict(x_trunc)).var(0)\n",
    "        intervals = [[-1, 1], [2, 5]]\n",
    "        emp_stand_intervals = [(int_[0]/math.sqrt(float(emp_noise_var)), int_[1]/math.sqrt(float(emp_noise_var))) for int_ in intervals]\n",
    "        emp_scaled_kinterval = oracle.KIntervalUnion(emp_stand_intervals)\n",
    "        # standardize y trunc by the empirical noise variance\n",
    "        emp_stand_y_trunc = y_trunc / ch.sqrt(emp_noise_var)        \n",
    "\n",
    "        # truncated regression with unknown variance\n",
    "        unknown_kwargs = { \n",
    "            'phi': oracle.Left(phi.left / ch.sqrt(emp_noise_var)), \n",
    "            'alpha': alpha, \n",
    "            'bias': args.bias, \n",
    "            'unknown': True, \n",
    "            'bs': args.bs, \n",
    "            'n': args.n, \n",
    "            'tol': args.tol, \n",
    "            'steps': args.steps, \n",
    "            'val': val\n",
    "        }\n",
    "        unknown_trunc_reg, total_time = run_trial(unknown_kwargs, x_trunc_norm, emp_stand_y_trunc)\n",
    "        unknown_var = unknown_trunc_reg.variance * emp_noise_var\n",
    "        w, w0 = (((unknown_trunc_reg.weight) * ch.sqrt(emp_noise_var)) / beta).detach(), ((unknown_trunc_reg.intercept * ch.sqrt(emp_noise_var)))\n",
    "        unknown_params = ch.cat([w, w0]).flatten()\n",
    "\n",
    "        # known emp results\n",
    "        store[TABLE_NAME].update_row({\n",
    "            'unknown_r2': r2_score(noised.flatten(), X@w + w0), \n",
    "            'unknown_param_mse': mse_loss(unknown_params, gt_params),\n",
    "            'unknown_var_l1': float(ch.abs(unknown_var - noise_var)),\n",
    "            'unknown_time': total_time, \n",
    "        })\n",
    "        \n",
    "        # add additional exp data to store\n",
    "        store[TABLE_NAME].update_row({ \n",
    "            'alpha': float(alpha.flatten()),\n",
    "            'num_samples': x_trunc.size(0),\n",
    "            'noise_var': noise_var, \n",
    "        })\n",
    "        IPython.display.clear_output()\n",
    "\n",
    "\n",
    "        # append row to table\n",
    "        store[TABLE_NAME].flush_row()\n",
    "    store.close()    "
   ]
  },
  {
   "cell_type": "code",
   "execution_count": 6,
   "metadata": {},
   "outputs": [
    {
     "name": "stderr",
     "output_type": "stream",
     "text": [
      "  0%|          | 0/1 [00:00<?, ?it/s]\n"
     ]
    },
    {
     "ename": "ValueError",
     "evalue": "The file '/Users/patroklos/Desktop/convergencetrial/767f1f6f-0ff1-4464-927f-cd922ff5ee5e/store.h5' is already opened, but not in read-only mode (as requested).",
     "output_type": "error",
     "traceback": [
      "\u001b[0;31m---------------------------------------------------------------------------\u001b[0m",
      "\u001b[0;31mValueError\u001b[0m                                Traceback (most recent call last)",
      "\u001b[0;32m<ipython-input-6-354aa1205baf>\u001b[0m in \u001b[0;36m<module>\u001b[0;34m\u001b[0m\n\u001b[0;32m----> 1\u001b[0;31m \u001b[0mreader\u001b[0m \u001b[0;34m=\u001b[0m \u001b[0mCollectionReader\u001b[0m\u001b[0;34m(\u001b[0m\u001b[0margs\u001b[0m\u001b[0;34m.\u001b[0m\u001b[0mout_dir\u001b[0m \u001b[0;34m+\u001b[0m \u001b[0margs\u001b[0m\u001b[0;34m.\u001b[0m\u001b[0mexp\u001b[0m\u001b[0;34m)\u001b[0m\u001b[0;34m\u001b[0m\u001b[0;34m\u001b[0m\u001b[0m\n\u001b[0m\u001b[1;32m      2\u001b[0m \u001b[0mlogs\u001b[0m \u001b[0;34m=\u001b[0m \u001b[0mreader\u001b[0m\u001b[0;34m.\u001b[0m\u001b[0mdf\u001b[0m\u001b[0;34m(\u001b[0m\u001b[0mTABLE_NAME\u001b[0m\u001b[0;34m)\u001b[0m\u001b[0;34m\u001b[0m\u001b[0;34m\u001b[0m\u001b[0m\n\u001b[1;32m      3\u001b[0m \u001b[0mreader\u001b[0m\u001b[0;34m.\u001b[0m\u001b[0mclose\u001b[0m\u001b[0;34m(\u001b[0m\u001b[0;34m)\u001b[0m\u001b[0;34m\u001b[0m\u001b[0;34m\u001b[0m\u001b[0m\n\u001b[1;32m      4\u001b[0m \u001b[0mlogs\u001b[0m\u001b[0;34m\u001b[0m\u001b[0;34m\u001b[0m\u001b[0m\n",
      "\u001b[0;32m/opt/anaconda3/lib/python3.7/site-packages/cox-0.1.post3-py3.7.egg/cox/readers.py\u001b[0m in \u001b[0;36m__init__\u001b[0;34m(self, directory, log_warnings, mode, exp_filter, skip_errs)\u001b[0m\n\u001b[1;32m     51\u001b[0m                     \u001b[0mprint\u001b[0m\u001b[0;34m(\u001b[0m\u001b[0;34mf\"Error on exp_id {exp_id}\"\u001b[0m\u001b[0;34m)\u001b[0m\u001b[0;34m\u001b[0m\u001b[0;34m\u001b[0m\u001b[0m\n\u001b[1;32m     52\u001b[0m                 \u001b[0;32melse\u001b[0m\u001b[0;34m:\u001b[0m\u001b[0;34m\u001b[0m\u001b[0;34m\u001b[0m\u001b[0m\n\u001b[0;32m---> 53\u001b[0;31m                     \u001b[0;32mraise\u001b[0m \u001b[0me\u001b[0m\u001b[0;34m\u001b[0m\u001b[0;34m\u001b[0m\u001b[0m\n\u001b[0m\u001b[1;32m     54\u001b[0m \u001b[0;34m\u001b[0m\u001b[0m\n\u001b[1;32m     55\u001b[0m         \u001b[0mself\u001b[0m\u001b[0;34m.\u001b[0m\u001b[0mtables\u001b[0m \u001b[0;34m=\u001b[0m \u001b[0mtable_list\u001b[0m\u001b[0;34m\u001b[0m\u001b[0;34m\u001b[0m\u001b[0m\n",
      "\u001b[0;32m/opt/anaconda3/lib/python3.7/site-packages/cox-0.1.post3-py3.7.egg/cox/readers.py\u001b[0m in \u001b[0;36m__init__\u001b[0;34m(self, directory, log_warnings, mode, exp_filter, skip_errs)\u001b[0m\n\u001b[1;32m     40\u001b[0m                     \u001b[0;32mcontinue\u001b[0m\u001b[0;34m\u001b[0m\u001b[0;34m\u001b[0m\u001b[0m\n\u001b[1;32m     41\u001b[0m \u001b[0;34m\u001b[0m\u001b[0m\n\u001b[0;32m---> 42\u001b[0;31m                 \u001b[0mstore\u001b[0m \u001b[0;34m=\u001b[0m \u001b[0mStore\u001b[0m\u001b[0;34m(\u001b[0m\u001b[0mself\u001b[0m\u001b[0;34m.\u001b[0m\u001b[0mdirectory\u001b[0m\u001b[0;34m,\u001b[0m \u001b[0mexp_id\u001b[0m\u001b[0;34m,\u001b[0m \u001b[0mnew\u001b[0m\u001b[0;34m=\u001b[0m\u001b[0;32mFalse\u001b[0m\u001b[0;34m,\u001b[0m \u001b[0mmode\u001b[0m\u001b[0;34m=\u001b[0m\u001b[0;34m'r'\u001b[0m\u001b[0;34m)\u001b[0m\u001b[0;34m\u001b[0m\u001b[0;34m\u001b[0m\u001b[0m\n\u001b[0m\u001b[1;32m     43\u001b[0m                 \u001b[0mself\u001b[0m\u001b[0;34m.\u001b[0m\u001b[0mstores\u001b[0m\u001b[0;34m[\u001b[0m\u001b[0mexp_id\u001b[0m\u001b[0;34m]\u001b[0m \u001b[0;34m=\u001b[0m \u001b[0mstore\u001b[0m\u001b[0;34m\u001b[0m\u001b[0;34m\u001b[0m\u001b[0m\n\u001b[1;32m     44\u001b[0m                 \u001b[0mthis_table_list\u001b[0m \u001b[0;34m=\u001b[0m \u001b[0mset\u001b[0m\u001b[0;34m(\u001b[0m\u001b[0mstore\u001b[0m\u001b[0;34m.\u001b[0m\u001b[0mtables\u001b[0m\u001b[0;34m.\u001b[0m\u001b[0mkeys\u001b[0m\u001b[0;34m(\u001b[0m\u001b[0;34m)\u001b[0m\u001b[0;34m)\u001b[0m\u001b[0;34m\u001b[0m\u001b[0;34m\u001b[0m\u001b[0m\n",
      "\u001b[0;32m/opt/anaconda3/lib/python3.7/site-packages/cox-0.1.post3-py3.7.egg/cox/store.py\u001b[0m in \u001b[0;36m__init__\u001b[0;34m(self, storage_folder, exp_id, new, mode)\u001b[0m\n\u001b[1;32m     88\u001b[0m \u001b[0;34m\u001b[0m\u001b[0m\n\u001b[1;32m     89\u001b[0m         \u001b[0;31m# Start HDF file\u001b[0m\u001b[0;34m\u001b[0m\u001b[0;34m\u001b[0m\u001b[0;34m\u001b[0m\u001b[0m\n\u001b[0;32m---> 90\u001b[0;31m         \u001b[0mself\u001b[0m\u001b[0;34m.\u001b[0m\u001b[0mstore\u001b[0m \u001b[0;34m=\u001b[0m \u001b[0mpd\u001b[0m\u001b[0;34m.\u001b[0m\u001b[0mHDFStore\u001b[0m\u001b[0;34m(\u001b[0m\u001b[0mos\u001b[0m\u001b[0;34m.\u001b[0m\u001b[0mpath\u001b[0m\u001b[0;34m.\u001b[0m\u001b[0mjoin\u001b[0m\u001b[0;34m(\u001b[0m\u001b[0mexp_path\u001b[0m\u001b[0;34m,\u001b[0m \u001b[0mSTORE_BASENAME\u001b[0m\u001b[0;34m)\u001b[0m\u001b[0;34m,\u001b[0m \u001b[0mmode\u001b[0m\u001b[0;34m=\u001b[0m\u001b[0mmode\u001b[0m\u001b[0;34m)\u001b[0m\u001b[0;34m\u001b[0m\u001b[0;34m\u001b[0m\u001b[0m\n\u001b[0m\u001b[1;32m     91\u001b[0m \u001b[0;34m\u001b[0m\u001b[0m\n\u001b[1;32m     92\u001b[0m         \u001b[0;31m# Setup\u001b[0m\u001b[0;34m\u001b[0m\u001b[0;34m\u001b[0m\u001b[0;34m\u001b[0m\u001b[0m\n",
      "\u001b[0;32m/opt/anaconda3/lib/python3.7/site-packages/pandas/io/pytables.py\u001b[0m in \u001b[0;36m__init__\u001b[0;34m(self, path, mode, complevel, complib, fletcher32, **kwargs)\u001b[0m\n\u001b[1;32m    503\u001b[0m         \u001b[0mself\u001b[0m\u001b[0;34m.\u001b[0m\u001b[0m_fletcher32\u001b[0m \u001b[0;34m=\u001b[0m \u001b[0mfletcher32\u001b[0m\u001b[0;34m\u001b[0m\u001b[0;34m\u001b[0m\u001b[0m\n\u001b[1;32m    504\u001b[0m         \u001b[0mself\u001b[0m\u001b[0;34m.\u001b[0m\u001b[0m_filters\u001b[0m \u001b[0;34m=\u001b[0m \u001b[0;32mNone\u001b[0m\u001b[0;34m\u001b[0m\u001b[0;34m\u001b[0m\u001b[0m\n\u001b[0;32m--> 505\u001b[0;31m         \u001b[0mself\u001b[0m\u001b[0;34m.\u001b[0m\u001b[0mopen\u001b[0m\u001b[0;34m(\u001b[0m\u001b[0mmode\u001b[0m\u001b[0;34m=\u001b[0m\u001b[0mmode\u001b[0m\u001b[0;34m,\u001b[0m \u001b[0;34m**\u001b[0m\u001b[0mkwargs\u001b[0m\u001b[0;34m)\u001b[0m\u001b[0;34m\u001b[0m\u001b[0;34m\u001b[0m\u001b[0m\n\u001b[0m\u001b[1;32m    506\u001b[0m \u001b[0;34m\u001b[0m\u001b[0m\n\u001b[1;32m    507\u001b[0m     \u001b[0;32mdef\u001b[0m \u001b[0m__fspath__\u001b[0m\u001b[0;34m(\u001b[0m\u001b[0mself\u001b[0m\u001b[0;34m)\u001b[0m\u001b[0;34m:\u001b[0m\u001b[0;34m\u001b[0m\u001b[0;34m\u001b[0m\u001b[0m\n",
      "\u001b[0;32m/opt/anaconda3/lib/python3.7/site-packages/pandas/io/pytables.py\u001b[0m in \u001b[0;36mopen\u001b[0;34m(self, mode, **kwargs)\u001b[0m\n\u001b[1;32m    652\u001b[0m                 )\n\u001b[1;32m    653\u001b[0m \u001b[0;34m\u001b[0m\u001b[0m\n\u001b[0;32m--> 654\u001b[0;31m             \u001b[0;32mraise\u001b[0m \u001b[0me\u001b[0m\u001b[0;34m\u001b[0m\u001b[0;34m\u001b[0m\u001b[0m\n\u001b[0m\u001b[1;32m    655\u001b[0m \u001b[0;34m\u001b[0m\u001b[0m\n\u001b[1;32m    656\u001b[0m         \u001b[0;32mexcept\u001b[0m \u001b[0;34m(\u001b[0m\u001b[0mException\u001b[0m\u001b[0;34m)\u001b[0m \u001b[0;32mas\u001b[0m \u001b[0me\u001b[0m\u001b[0;34m:\u001b[0m\u001b[0;34m\u001b[0m\u001b[0;34m\u001b[0m\u001b[0m\n",
      "\u001b[0;32m/opt/anaconda3/lib/python3.7/site-packages/pandas/io/pytables.py\u001b[0m in \u001b[0;36mopen\u001b[0;34m(self, mode, **kwargs)\u001b[0m\n\u001b[1;32m    625\u001b[0m \u001b[0;34m\u001b[0m\u001b[0m\n\u001b[1;32m    626\u001b[0m         \u001b[0;32mtry\u001b[0m\u001b[0;34m:\u001b[0m\u001b[0;34m\u001b[0m\u001b[0;34m\u001b[0m\u001b[0m\n\u001b[0;32m--> 627\u001b[0;31m             \u001b[0mself\u001b[0m\u001b[0;34m.\u001b[0m\u001b[0m_handle\u001b[0m \u001b[0;34m=\u001b[0m \u001b[0mtables\u001b[0m\u001b[0;34m.\u001b[0m\u001b[0mopen_file\u001b[0m\u001b[0;34m(\u001b[0m\u001b[0mself\u001b[0m\u001b[0;34m.\u001b[0m\u001b[0m_path\u001b[0m\u001b[0;34m,\u001b[0m \u001b[0mself\u001b[0m\u001b[0;34m.\u001b[0m\u001b[0m_mode\u001b[0m\u001b[0;34m,\u001b[0m \u001b[0;34m**\u001b[0m\u001b[0mkwargs\u001b[0m\u001b[0;34m)\u001b[0m\u001b[0;34m\u001b[0m\u001b[0;34m\u001b[0m\u001b[0m\n\u001b[0m\u001b[1;32m    628\u001b[0m         \u001b[0;32mexcept\u001b[0m \u001b[0;34m(\u001b[0m\u001b[0mIOError\u001b[0m\u001b[0;34m)\u001b[0m \u001b[0;32mas\u001b[0m \u001b[0me\u001b[0m\u001b[0;34m:\u001b[0m  \u001b[0;31m# pragma: no cover\u001b[0m\u001b[0;34m\u001b[0m\u001b[0;34m\u001b[0m\u001b[0m\n\u001b[1;32m    629\u001b[0m             \u001b[0;32mif\u001b[0m \u001b[0;34m\"can not be written\"\u001b[0m \u001b[0;32min\u001b[0m \u001b[0mstr\u001b[0m\u001b[0;34m(\u001b[0m\u001b[0me\u001b[0m\u001b[0;34m)\u001b[0m\u001b[0;34m:\u001b[0m\u001b[0;34m\u001b[0m\u001b[0;34m\u001b[0m\u001b[0m\n",
      "\u001b[0;32m/opt/anaconda3/lib/python3.7/site-packages/tables/file.py\u001b[0m in \u001b[0;36mopen_file\u001b[0;34m(filename, mode, title, root_uep, filters, **kwargs)\u001b[0m\n\u001b[1;32m    304\u001b[0m                 raise ValueError(\n\u001b[1;32m    305\u001b[0m                     \u001b[0;34m\"The file '%s' is already opened, but \"\u001b[0m\u001b[0;34m\u001b[0m\u001b[0;34m\u001b[0m\u001b[0m\n\u001b[0;32m--> 306\u001b[0;31m                     \"not in read-only mode (as requested).\" % filename)\n\u001b[0m\u001b[1;32m    307\u001b[0m             \u001b[0;31m# 'a' and 'r+' are compatible with everything except 'r'\u001b[0m\u001b[0;34m\u001b[0m\u001b[0;34m\u001b[0m\u001b[0;34m\u001b[0m\u001b[0m\n\u001b[1;32m    308\u001b[0m             \u001b[0;32melif\u001b[0m \u001b[0mmode\u001b[0m \u001b[0;32min\u001b[0m \u001b[0;34m(\u001b[0m\u001b[0;34m'a'\u001b[0m\u001b[0;34m,\u001b[0m \u001b[0;34m'r+'\u001b[0m\u001b[0;34m)\u001b[0m \u001b[0;32mand\u001b[0m \u001b[0momode\u001b[0m \u001b[0;34m==\u001b[0m \u001b[0;34m'r'\u001b[0m\u001b[0;34m:\u001b[0m\u001b[0;34m\u001b[0m\u001b[0;34m\u001b[0m\u001b[0m\n",
      "\u001b[0;31mValueError\u001b[0m: The file '/Users/patroklos/Desktop/convergencetrial/767f1f6f-0ff1-4464-927f-cd922ff5ee5e/store.h5' is already opened, but not in read-only mode (as requested)."
     ]
    }
   ],
   "source": [
    "reader = CollectionReader(args.out_dir + args.exp)\n",
    "logs = reader.df(TABLE_NAME)\n",
    "reader.close()\n",
    "logs"
   ]
  },
  {
   "cell_type": "markdown",
   "metadata": {},
   "source": [
    "Combine Error Columns"
   ]
  },
  {
   "cell_type": "code",
   "execution_count": 14,
   "metadata": {},
   "outputs": [],
   "source": [
    "logs['unknown_epsilon'] = logs['unknown_param_mse']**(.5) + logs['unknown_var_l1']\n",
    "logs['ols_epsilon'] = logs['ols_param_mse']**(.5) + logs['ols_var_l1']"
   ]
  },
  {
   "cell_type": "code",
   "execution_count": 15,
   "metadata": {},
   "outputs": [],
   "source": [
    "cols = ['unknown_epsilon', 'num_samples', 'alpha']\n",
    "unknown_logs = pd.DataFrame(columns=cols)\n",
    "for s in samples: \n",
    "    temp = logs[logs['num_samples'] == s][cols].reset_index()\n",
    "    temp.drop(index=temp[['unknown_epsilon']].sum(1).idxmax(), inplace=True)\n",
    "    temp.drop(index=temp[['unknown_epsilon']].sum(1).idxmin(), inplace=True)\n",
    "    temp.drop(['index'], axis=1, inplace=True)\n",
    "    unknown_logs = pd.concat([unknown_logs, temp])\n",
    "unknown_logs = unknown_logs.reset_index()"
   ]
  },
  {
   "cell_type": "code",
   "execution_count": 16,
   "metadata": {},
   "outputs": [],
   "source": [
    "cols = ['ols_epsilon', 'num_samples', 'alpha']\n",
    "ols_logs = pd.DataFrame(columns=cols)\n",
    "for s in samples: \n",
    "    temp = logs[logs['num_samples'] == s][cols].reset_index()\n",
    "    temp.drop(index=temp[['ols_epsilon']].sum(1).idxmax(), inplace=True)\n",
    "    temp.drop(index=temp[['ols_epsilon']].sum(1).idxmin(), inplace=True)\n",
    "    temp.drop(['index'], axis=1, inplace=True)\n",
    "    ols_logs = pd.concat([ols_logs, temp])\n",
    "ols_logs = ols_logs.reset_index()"
   ]
  },
  {
   "cell_type": "markdown",
   "metadata": {},
   "source": [
    "Remove the Best and the Worse Trials for Each Number of Samples"
   ]
  },
  {
   "cell_type": "code",
   "execution_count": 17,
   "metadata": {},
   "outputs": [
    {
     "data": {
      "text/plain": [
       "[Text(0, 0.5, '$||\\\\hat W - W^{*}||_{2} + |\\\\hat \\\\sigma^{2} - \\\\sigma^{*2}|$'),\n",
       " Text(0.5, 0, 'Number of Samples in S')]"
      ]
     },
     "execution_count": 17,
     "metadata": {},
     "output_type": "execute_result"
    },
    {
     "data": {
      "image/png": "[encoded data removed]",
      "text/plain": [
       "<Figure size 432x288 with 1 Axes>"
      ]
     },
     "metadata": {
      "needs_background": "light"
     },
     "output_type": "display_data"
    }
   ],
   "source": [
    "ax = sns.lineplot(data=ols_logs[ols_logs['num_samples'] >= 25], x='num_samples', y='ols_epsilon', label='ols', color='red')\n",
    "ax = sns.lineplot(data=unknown_logs[unknown_logs['num_samples'] >= 25], x='num_samples', y='unknown_epsilon', label='our algorithm', color='green')\n",
    "ax.set(xlabel='Number of Samples in S', ylabel='$||\\hat W - W^{*}||_{2} + |\\hat \\sigma^{2} - \\sigma^{*2}|$')"
   ]
  }
 ],
 "metadata": {
  "kernelspec": {
   "display_name": "Python 2",
   "language": "python",
   "name": "python2"
  },
  "language_info": {
   "codemirror_mode": {
    "name": "ipython",
    "version": 3
   },
   "file_extension": ".py",
   "mimetype": "text/x-python",
   "name": "python",
   "nbconvert_exporter": "python",
   "pygments_lexer": "ipython3",
   "version": "3.7.4"
  },
  "latex_envs": {
   "LaTeX_envs_menu_present": true,
   "autoclose": false,
   "autocomplete": true,
   "bibliofile": "biblio.bib",
   "cite_by": "apalike",
   "current_citInitial": 1,
   "eqLabelWithNumbers": true,
   "eqNumInitial": 1,
   "hotkeys": {
    "equation": "Ctrl-E",
    "itemize": "Ctrl-I"
   },
   "labels_anchors": false,
   "latex_user_defs": false,
   "report_style_numbering": false,
   "user_envs_cfg": false
  },
  "toc": {
   "base_numbering": 1,
   "nav_menu": {},
   "number_sections": true,
   "sideBar": true,
   "skip_h1_title": false,
   "title_cell": "Table of Contents",
   "title_sidebar": "Contents",
   "toc_cell": false,
   "toc_position": {},
   "toc_section_display": true,
   "toc_window_display": false
  },
  "varInspector": {
   "cols": {
    "lenName": 16,
    "lenType": 16,
    "lenVar": 40
   },
   "kernels_config": {
    "python": {
     "delete_cmd_postfix": "",
     "delete_cmd_prefix": "del ",
     "library": "var_list.py",
     "varRefreshCmd": "print(var_dic_list())"
    },
    "r": {
     "delete_cmd_postfix": ") ",
     "delete_cmd_prefix": "rm(",
     "library": "var_list.r",
     "varRefreshCmd": "cat(var_dic_list()) "
    }
   },
   "types_to_exclude": [
    "module",
    "function",
    "builtin_function_or_method",
    "instance",
    "_Feature"
   ],
   "window_display": false
  }
 },
 "nbformat": 4,
 "nbformat_minor": 4
}
