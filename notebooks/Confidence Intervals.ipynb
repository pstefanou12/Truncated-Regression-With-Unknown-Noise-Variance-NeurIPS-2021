{
 "cells": [
  {
   "cell_type": "markdown",
   "metadata": {},
   "source": [
    "# Varying Noise Experiment\n",
    "In this notebook, we test our algorithm in setting where there is a lot of noise variance. We then compare our results to other methods on the same task."
   ]
  },
  {
   "cell_type": "code",
   "execution_count": 1,
   "metadata": {},
   "outputs": [],
   "source": [
    "import sys \n",
    "sys.path.append('/Users/patroklos/Desktop/delphi_')\n",
    "# sys.path.append('/Users/patroklos/Desktop/')\n",
    "\n",
    "import subprocess \n",
    "import torch as ch\n",
    "from torch import Tensor\n",
    "import torch.linalg as LA\n",
    "\n",
    "from torch.distributions import Uniform\n",
    "from torch.distributions.multivariate_normal import MultivariateNormal\n",
    "import pandas as pd\n",
    "import numpy as np\n",
    "import csv\n",
    "import json\n",
    "from cox.store import Store\n",
    "from cox.readers import CollectionReader\n",
    "import os\n",
    "from sklearn.linear_model import LinearRegression\n",
    "from sklearn.metrics import r2_score\n",
    "import datetime\n",
    "import seaborn as sns\n",
    "import matplotlib.pyplot as plt\n",
    "import datetime\n",
    "import math \n",
    "import IPython \n",
    "\n",
    "from delphi.stats.truncated_linear_regression import TruncatedLinearRegression\n",
    "from delphi import oracle\n",
    "from delphi.utils import constants as consts\n",
    "from delphi.utils.helpers import setup_store_with_metadata, Parameters\n",
    "\n",
    "# commands and arguments\n",
    "COMMAND = 'Rscript'\n",
    "PATH2SCRIPT = './truncreg.R'\n",
    "TMP_FILE = 'tmp.csv'\n",
    "RESULT_FILE = 'result.csv'\n",
    "\n",
    "# mean squared error loss\n",
    "mse_loss = ch.nn.MSELoss()"
   ]
  },
  {
   "cell_type": "code",
   "execution_count": 38,
   "metadata": {},
   "outputs": [],
   "source": [
    "args = Parameters({\n",
    "    \"samples\": 100, # number of samples to generate for ground-truth\n",
    "    \"c\": 0, # left truncation parameter\n",
    "    \"bs\": 10,\n",
    "    \"lr\": 1e-1,\n",
    "    'var_lr': 1e-2,\n",
    "    \"trials\": 5,\n",
    "    \"x_lower\": -5,  # lower bound for generating input features\n",
    "    \"x_upper\": 5,  # upper bound for generating input features\n",
    "    \"lower\": -1, # lower bound for generating ground-truth\n",
    "    \"upper\": 1, # lower bound for generating ground-truth\n",
    "#     'out_dir': '<FILL IN OUT_DIR HERE>' \n",
    "#     'out_dir': '/Users/patroklos/Desktop/Adam_Var20_20Trials', \n",
    "#     'out_dir': '/Users/patroklos/Desktop/exp/more_reasonable', \n",
    "    'out_dir': '/Users/patroklos/Desktop/exp/unknown_var', \n",
    "\n",
    "\n",
    "#     'exp': '<FILL IN EXP HERE>', \n",
    "#     'exp': 'checking_grad_bs_10', \n",
    "#     'exp': 'identity',\n",
    "    'exp': 'checking_grad_bs_10_10d', \n",
    "    'exp': 'checking_grad_bs_10_10d_known_bs_1', \n",
    "\n",
    "    'exp': '10k_samples',\n",
    "    'exp': '20D_10K',\n",
    "    'exp': '20D_10K_known_batch_size_1',\n",
    "    'exp': '100D_50K',\n",
    "    'exp': '100D_50K_',\n",
    "\n",
    "    'eps': 1e-2,\n",
    "    'var': 10,  # maximum variance to use in procedure \n",
    "    'tol': 1e-1, \n",
    "    'fit_intercept': True, \n",
    "    'num_samples': 10, \n",
    "    'table_name': 'logs',\n",
    "    'epochs': 5,\n",
    "    'step_lr': 100,\n",
    "    'num_trials': 1,\n",
    "})"
   ]
  },
  {
   "cell_type": "markdown",
   "metadata": {},
   "source": [
    "I will first begin, by showing how to use our algorithm in a 1 dimensional setting. I will sample input features from a Uniform distribution, I will also sample my ground-truth from a Uniform distribution, and I will add Gaussian noise with noise variance 10."
   ]
  },
  {
   "cell_type": "code",
   "execution_count": 4,
   "metadata": {},
   "outputs": [
    {
     "name": "stdout",
     "output_type": "stream",
     "text": [
      "gt weight:  Parameter containing:\n",
      "tensor([[-0.3440]], requires_grad=True)\n",
      "gt bias:  Parameter containing:\n",
      "tensor([[-0.7241]], requires_grad=True)\n",
      "alpha:  0.29\n",
      "gt ols coef:  [[-1.5418171]]\n",
      "gt ols intercept:  [-0.7544859]\n",
      "trunc ols coef:  [[-0.5727883]]\n",
      "trunc ols intercept:  [0.46238422]\n"
     ]
    },
    {
     "data": {
      "image/png": "[encoded data removed]",
      "text/plain": [
       "<Figure size 432x288 with 1 Axes>"
      ]
     },
     "metadata": {
      "needs_background": "light"
     },
     "output_type": "display_data"
    }
   ],
   "source": [
    "# distribution for generating feature vectors\n",
    "d, k = 1, 1\n",
    "w = Uniform(args.lower, args.upper)\n",
    "m = Uniform(args.x_lower, args.x_upper)\n",
    "phi = oracle.Left_Regression(Tensor([args.C]))\n",
    "# phi = oracle.Identity()\n",
    "\n",
    "# generate ground truth\n",
    "gt = ch.nn.Linear(in_features=k, out_features=1)\n",
    "gt.weight = ch.nn.Parameter(w.sample(ch.Size([k, d])))\n",
    "\n",
    "# gt.bias = ch.nn.Parameter(ch.ones(1, 1)) if args.bias else None\n",
    "gt.bias = ch.nn.Parameter(w.sample(ch.Size([1, 1]))) if args.bias else None\n",
    "\n",
    "print(\"gt weight: \", gt.weight)\n",
    "print(\"gt bias: \", gt.bias)\n",
    "\n",
    "# create base classifier\n",
    "with ch.no_grad():\n",
    "    # generate data\n",
    "    X = m.sample(ch.Size([args.samples, d])) if isinstance(m, Uniform) else m.sample(ch.Size([args.samples]))\n",
    "    y = gt(X)\n",
    "    \n",
    "# normalize input features\n",
    "l_inf = LA.norm(X, dim=-1, ord=float('inf')).max()\n",
    "beta = l_inf * (X.size(1) ** .5)\n",
    "\n",
    "X /= beta\n",
    "\n",
    "noise_var = Tensor([1.0])[...,None]\n",
    "# remove synthetic data from the computation graph\n",
    "with ch.no_grad():\n",
    "    # add noise to ground-truth pedictions\n",
    "    noised = y + ch.sqrt(noise_var) * ch.randn(X.size(0), 1)\n",
    "    # truncate based off of the standardized data\n",
    "    indices = phi(noised).flatten().nonzero(as_tuple=False).flatten()\n",
    "    y_trunc, x_trunc = noised[indices], X[indices]\n",
    "    alpha = y_trunc.size(0) / args.samples\n",
    "    print(\"alpha: \", alpha)\n",
    "    \n",
    "# ground-truth OLS\n",
    "gt_ols = LinearRegression()\n",
    "gt_ols.fit(X, noised)\n",
    "print(\"gt ols coef: \", gt_ols.coef_)\n",
    "print(\"gt ols intercept: \", gt_ols.intercept_)\n",
    "\n",
    "trunc_ols = LinearRegression()\n",
    "trunc_ols.fit(x_trunc, y_trunc)\n",
    "trunc_ols_pred = trunc_ols.predict(x_trunc)\n",
    "print(\"trunc ols coef: \", trunc_ols.coef_)\n",
    "print(\"trunc ols intercept: \", trunc_ols.intercept_)\n",
    "\n",
    "if d == 1:\n",
    "    # data for plotting regressions\n",
    "    data = np.linspace(-1, 1, 100).reshape(100, 1)\n",
    "\n",
    "    ax = plt.subplot(1, 1, 1)\n",
    "    plt.scatter(X, noised)\n",
    "    plt.scatter(x_trunc, y_trunc)\n",
    "    plt.plot(data, gt_ols.predict(data), color='green', label='gt ols')\n",
    "    plt.plot(data, trunc_ols.predict(data), color='red', label='trunc ols')\n",
    "    plt.legend()\n",
    "    plt.title(\"Empirical and Ground Truth Dataset and Model\")\n",
    "    ax.set_xlabel(\"x\")\n",
    "    ax.set_ylabel(\"y\")"
   ]
  },
  {
   "cell_type": "code",
   "execution_count": 39,
   "metadata": {},
   "outputs": [],
   "source": [
    "def compute_R(args, model, noise_var): \n",
    "    w = model.weight \n",
    "    if args.fit_intercept: \n",
    "        w = ch.cat([model.weight, model.bias])\n",
    "    noise_var_sq = noise_var.pow(2)\n",
    "    one = ch.eye(w.size(0))/noise_var\n",
    "    two = (-w/noise_var_sq)\n",
    "    three = ch.zeros(1, one.size(1))\n",
    "    four = -1/noise_var_sq\n",
    "    left = ch.cat([one, three])\n",
    "    right = ch.cat([two, four])\n",
    "    \n",
    "    return ch.cat([left, right], dim=1)"
   ]
  },
  {
   "cell_type": "code",
   "execution_count": 40,
   "metadata": {},
   "outputs": [],
   "source": [
    "R = compute_R(args, gt, noise_var)"
   ]
  },
  {
   "cell_type": "code",
   "execution_count": 41,
   "metadata": {},
   "outputs": [],
   "source": [
    "def compute_hessian(args, emp_model, lambda_, X, phi): \n",
    "    if args.fit_intercept: \n",
    "        X_ = ch.cat([X, ch.ones(X.size(0), 1)], dim=1)\n",
    "    xx_t = ch.bmm(X_.unsqueeze(-1), X_.unsqueeze(1))\n",
    "    pred = emp_model(X)\n",
    "    stacked = pred.repeat(args.num_samples, 1, 1)\n",
    "    noised = stacked + ch.sqrt(lambda_.inverse()) * ch.randn(stacked.size())\n",
    "    filtered = phi(noised)\n",
    "    z = (filtered * noised).sum(dim=0) / (filtered.sum(dim=0) + 1e-5)\n",
    "    z_2 = .5*(filtered * noised.pow(2)).sum(dim=0) / (filtered.sum(dim=0) + 1e-5)\n",
    "    var_z = z.var(0)\n",
    "    cov_ = -ch.cov(ch.cat([z, z_2], dim=1).T)[0, 1]\n",
    "    var_z_2 = z_2.var(0)\n",
    "    one = var_z*xx_t\n",
    "    two = cov_*X_\n",
    "    three = cov_*X_\n",
    "    four = var_z.repeat(X.size(0), 1)\n",
    "    left = ch.cat([one, three.unsqueeze(-1)], dim=2)\n",
    "    right = ch.cat([two, four], dim=-1).unsqueeze(1)\n",
    "    H = ch.cat([left, right], dim=1)\n",
    "    hessian = H.mean(0)\n",
    "    return hessian"
   ]
  },
  {
   "cell_type": "code",
   "execution_count": 72,
   "metadata": {},
   "outputs": [],
   "source": [
    "from delphi.grad import TruncatedUnknownVarianceMSE\n",
    "trunc_mse = TruncatedUnknownVarianceMSE.apply\n",
    "\n",
    "def compute_grad_mean(X, model, targ): \n",
    "    pred = model(X)\n",
    "    noise_var.requires_grad = True\n",
    "    loss = trunc_mse(pred, targ, noise_var.inverse(), phi).sum()\n",
    "    y_grad, lambda_grad = ch.autograd.grad([loss], [pred, noise_var])\n",
    "    new_lambda_grad = lambda_grad.repeat(X.size(0), 1)\n",
    "    v = ch.cat([gt.weight, gt.bias]).T\n",
    "    v_grad = y_grad@v\n",
    "    v_lambda_grad = ch.cat([v_grad, new_lambda_grad], dim=1)\n",
    "    grad_grad_t = ch.bmm(v_lambda_grad.unsqueeze(-1), v_lambda_grad.unsqueeze(1))\n",
    "    ggt_mean = grad_grad_t.mean(0)\n",
    "    return ggt_mean"
   ]
  },
  {
   "cell_type": "code",
   "execution_count": 73,
   "metadata": {},
   "outputs": [],
   "source": [
    "H = compute_hessian(args, gt, noise_var, X, phi)"
   ]
  },
  {
   "cell_type": "code",
   "execution_count": 47,
   "metadata": {},
   "outputs": [],
   "source": [
    "zeta = 1/ args.lr"
   ]
  },
  {
   "cell_type": "code",
   "execution_count": 48,
   "metadata": {},
   "outputs": [],
   "source": [
    "H_lr = H - zeta / 2 * ch.eye(H.size(0))"
   ]
  },
  {
   "cell_type": "code",
   "execution_count": 49,
   "metadata": {},
   "outputs": [],
   "source": [
    "from delphi.grad import TruncatedUnknownVarianceMSE\n",
    "trunc_mse = TruncatedUnknownVarianceMSE.apply"
   ]
  },
  {
   "cell_type": "code",
   "execution_count": 76,
   "metadata": {},
   "outputs": [],
   "source": [
    "ggt_mean = compute_grad_mean(X, gt, y)"
   ]
  },
  {
   "cell_type": "code",
   "execution_count": 77,
   "metadata": {},
   "outputs": [],
   "source": [
    "from scipy.linalg import solve_continuous_lyapunov"
   ]
  },
  {
   "cell_type": "code",
   "execution_count": 78,
   "metadata": {},
   "outputs": [],
   "source": [
    "sigma = ch.from_numpy(solve_continuous_lyapunov(H_lr.detach().numpy(), ggt_mean.detach().numpy()))"
   ]
  },
  {
   "cell_type": "code",
   "execution_count": 79,
   "metadata": {},
   "outputs": [],
   "source": [
    "S =  .1 * R.T@sigma@R"
   ]
  },
  {
   "cell_type": "code",
   "execution_count": 80,
   "metadata": {},
   "outputs": [
    {
     "data": {
      "text/plain": [
       "(torch.Size([3, 3]),\n",
       " torch.Size([3, 3]),\n",
       " torch.Size([3, 3]),\n",
       " torch.Size([3, 3]))"
      ]
     },
     "execution_count": 80,
     "metadata": {},
     "output_type": "execute_result"
    }
   ],
   "source": [
    "R.size(), sigma.size(), ggt_mean.size(), H_lr.size()"
   ]
  },
  {
   "cell_type": "code",
   "execution_count": null,
   "metadata": {},
   "outputs": [],
   "source": []
  },
  {
   "cell_type": "markdown",
   "metadata": {},
   "source": [
    "We now observe that the norm of the truncated x covariates is bounded by 1. \n",
    "\n",
    "Now, we will standardze our dependent variable so that it's ground-truth takes the form of the linear regression latent variable model with noise variance of 1.\n",
    "\n",
    "First, we will standardize our data for the case where we assume that the empirical noise variance is the underlying noise variance of the ground truth regression."
   ]
  },
  {
   "cell_type": "code",
   "execution_count": 23,
   "metadata": {},
   "outputs": [
    {
     "name": "stdout",
     "output_type": "stream",
     "text": [
      "emp noise var:  tensor([0.3368])\n",
      "trunc reg noise var:  tensor([1.0000])\n"
     ]
    },
    {
     "data": {
      "image/png": "[encoded data removed]",
      "text/plain": [
       "<Figure size 432x288 with 1 Axes>"
      ]
     },
     "metadata": {
      "needs_background": "light"
     },
     "output_type": "display_data"
    }
   ],
   "source": [
    "emp_noise_var = (y_trunc - trunc_ols_pred).var(0)\n",
    "print(\"emp noise var: \", emp_noise_var)\n",
    "\n",
    "emp_stand_y_trunc = (y_trunc - trunc_ols.intercept_) / ch.sqrt(emp_noise_var)\n",
    "trunc_noise_var = (emp_stand_y_trunc - (trunc_ols_pred / ch.sqrt(emp_noise_var))).var(0)\n",
    "print(\"trunc reg noise var: \", trunc_noise_var)\n",
    "\n",
    "emp_stand_noised = (noised - trunc_ols.intercept_) / ch.sqrt(emp_noise_var)\n",
    "\n",
    "gt_emp_stand = LinearRegression()\n",
    "gt_emp_stand.fit(X, emp_stand_noised)\n",
    "\n",
    "trunc_emp_stand_ols = LinearRegression()\n",
    "trunc_emp_stand_ols.fit(x_trunc, emp_stand_y_trunc)\n",
    "\n",
    "if d == 1:\n",
    "    ax = plt.subplot(1, 1, 1)\n",
    "    plt.scatter(X, emp_stand_noised, label='entire dataset', alpha=.75)\n",
    "    plt.scatter(x_trunc, emp_stand_y_trunc, label='truncated dataset', alpha=.75)\n",
    "    plt.plot(X, gt_emp_stand.predict(X), color='green', label='gt ols')\n",
    "    plt.plot(X, trunc_emp_stand_ols.predict(X), color='red', label='trunc ols')\n",
    "    plt.legend()\n",
    "    plt.title('Y Scaled by Empirical Noise Variance')\n",
    "    ax.set_xlabel(\"x\")\n",
    "    ax.set_ylabel(\"y\")"
   ]
  },
  {
   "cell_type": "markdown",
   "metadata": {},
   "source": [
    "Now, we will standardize our data for the case where we assume that we know the underlying ground-truth noise variance."
   ]
  },
  {
   "cell_type": "code",
   "execution_count": 30,
   "metadata": {},
   "outputs": [
    {
     "name": "stdout",
     "output_type": "stream",
     "text": [
      "trunc reg noise var:  [0.32513872]\n",
      "reg noise var:  tensor([0.8826])\n"
     ]
    },
    {
     "data": {
      "image/png": "[encoded data removed]",
      "text/plain": [
       "<Figure size 432x288 with 1 Axes>"
      ]
     },
     "metadata": {
      "needs_background": "light"
     },
     "output_type": "display_data"
    }
   ],
   "source": [
    "with ch.no_grad():\n",
    "    stand_noised, stand_y_trunc = (noised - trunc_ols.intercept_) / ch.sqrt(noise_var), (y_trunc - trunc_ols.intercept_) / ch.sqrt(noise_var)\n",
    "\n",
    "    gt_stand = LinearRegression()\n",
    "    gt_stand.fit(X, stand_noised)\n",
    "\n",
    "    trunc_stand_ols = LinearRegression()\n",
    "    trunc_stand_ols.fit(x_trunc, stand_y_trunc)\n",
    "\n",
    "    trunc_noise_var = (stand_y_trunc.detach().numpy() - trunc_stand_ols.predict(x_trunc)).var(0)\n",
    "    print(\"trunc reg noise var: \", trunc_noise_var)\n",
    "\n",
    "    reg_noise_var = (stand_noised - gt_stand.predict(X)).var(0)\n",
    "    print(\"reg noise var: \", reg_noise_var)\n",
    "\n",
    "    if d == 1:\n",
    "        ax = plt.subplot(1, 1, 1)\n",
    "        plt.scatter(X, stand_noised, label='entire dataset', alpha=.75)\n",
    "        plt.scatter(x_trunc, stand_y_trunc, label='truncated dataset', alpha=.75)\n",
    "        plt.plot(X, gt_stand.predict(X), color='green', label='gt ols')\n",
    "        plt.plot(X, trunc_stand_ols.predict(X), color='red', label='trunc ols')\n",
    "        plt.legend()\n",
    "        plt.title(\"Y Scaled by Ground-Truth Noise Variance\")\n",
    "        ax.set_xlabel(\"x\")\n",
    "        ax.set_ylabel(\"y\")"
   ]
  },
  {
   "cell_type": "markdown",
   "metadata": {},
   "source": [
    "We now run our procedure for truncated regression with known variance, assuming that we are given the ground-truth noise variance."
   ]
  },
  {
   "cell_type": "code",
   "execution_count": 8,
   "metadata": {},
   "outputs": [
    {
     "name": "stdout",
     "output_type": "stream",
     "text": [
      "Logging in: /Users/patroklos/Desktop/exp/unknown_var/another_test_again/10e9b5e9-c4db-44ef-9933-cd0872c05973\n"
     ]
    }
   ],
   "source": [
    "known_store = Store(args.out_dir + '/another_test_again')"
   ]
  },
  {
   "cell_type": "code",
   "execution_count": null,
   "metadata": {},
   "outputs": [],
   "source": [
    "y_trunc_scale = y_trunc / ch.sqrt(noise_var)\n",
    "phi_scale = oracle.Left_Regression((phi.left - trunc_ols.intercept_) / ch.sqrt(noise_var))\n",
    "train_kwargs = Parameters({'phi': phi_scale, \n",
    "                 'alpha': alpha, \n",
    "                    'noise_var': 1.0,\n",
    "                    'batch_size': 1,\n",
    "                    'epochs': 200, \n",
    "                    'trials': 1, \n",
    "                    'num_samples': 10,\n",
    "                    'step_lr': 100,\n",
    "#                     'adam': True,\n",
    "                    'lr': 1e-1,\n",
    "                    'normalize': False})\n",
    "known_trunc_reg = TruncatedLinearRegression(train_kwargs, store=known_store)\n",
    "known_trunc_reg.fit(x_trunc, stand_y_trunc)\n",
    "w = known_trunc_reg.coef_ * ch.sqrt(noise_var)\n",
    "w0 = known_trunc_reg.intercept_ * ch.sqrt(noise_var)"
   ]
  },
  {
   "cell_type": "code",
   "execution_count": 8,
   "metadata": {},
   "outputs": [],
   "source": [
    "known_store.close()"
   ]
  },
  {
   "cell_type": "code",
   "execution_count": 9,
   "metadata": {},
   "outputs": [
    {
     "name": "stderr",
     "output_type": "stream",
     "text": [
      "100%|██████████| 3/3 [00:00<00:00, 113.04it/s]\n"
     ]
    },
    {
     "data": {
      "text/html": [
       "<div>\n",
       "<style scoped>\n",
       "    .dataframe tbody tr th:only-of-type {\n",
       "        vertical-align: middle;\n",
       "    }\n",
       "\n",
       "    .dataframe tbody tr th {\n",
       "        vertical-align: top;\n",
       "    }\n",
       "\n",
       "    .dataframe thead th {\n",
       "        text-align: right;\n",
       "    }\n",
       "</style>\n",
       "<table border=\"1\" class=\"dataframe\">\n",
       "  <thead>\n",
       "    <tr style=\"text-align: right;\">\n",
       "      <th></th>\n",
       "      <th>epoch</th>\n",
       "      <th>train_loss</th>\n",
       "      <th>train_prec1</th>\n",
       "      <th>train_prec5</th>\n",
       "      <th>val_loss</th>\n",
       "      <th>val_prec1</th>\n",
       "      <th>val_prec5</th>\n",
       "      <th>exp_id</th>\n",
       "    </tr>\n",
       "  </thead>\n",
       "  <tbody>\n",
       "    <tr>\n",
       "      <td>0</td>\n",
       "      <td>1</td>\n",
       "      <td>0.032807</td>\n",
       "      <td>0.0</td>\n",
       "      <td>0.0</td>\n",
       "      <td>0.005418</td>\n",
       "      <td>0.0</td>\n",
       "      <td>0.0</td>\n",
       "      <td>f4336451-472f-442f-bc06-7e061f11fe24</td>\n",
       "    </tr>\n",
       "    <tr>\n",
       "      <td>1</td>\n",
       "      <td>2</td>\n",
       "      <td>0.032316</td>\n",
       "      <td>0.0</td>\n",
       "      <td>0.0</td>\n",
       "      <td>0.024185</td>\n",
       "      <td>0.0</td>\n",
       "      <td>0.0</td>\n",
       "      <td>f4336451-472f-442f-bc06-7e061f11fe24</td>\n",
       "    </tr>\n",
       "    <tr>\n",
       "      <td>2</td>\n",
       "      <td>3</td>\n",
       "      <td>0.035245</td>\n",
       "      <td>0.0</td>\n",
       "      <td>0.0</td>\n",
       "      <td>0.009808</td>\n",
       "      <td>0.0</td>\n",
       "      <td>0.0</td>\n",
       "      <td>f4336451-472f-442f-bc06-7e061f11fe24</td>\n",
       "    </tr>\n",
       "    <tr>\n",
       "      <td>3</td>\n",
       "      <td>4</td>\n",
       "      <td>0.030766</td>\n",
       "      <td>0.0</td>\n",
       "      <td>0.0</td>\n",
       "      <td>0.000419</td>\n",
       "      <td>0.0</td>\n",
       "      <td>0.0</td>\n",
       "      <td>f4336451-472f-442f-bc06-7e061f11fe24</td>\n",
       "    </tr>\n",
       "    <tr>\n",
       "      <td>4</td>\n",
       "      <td>5</td>\n",
       "      <td>0.040940</td>\n",
       "      <td>0.0</td>\n",
       "      <td>0.0</td>\n",
       "      <td>0.020601</td>\n",
       "      <td>0.0</td>\n",
       "      <td>0.0</td>\n",
       "      <td>f4336451-472f-442f-bc06-7e061f11fe24</td>\n",
       "    </tr>\n",
       "  </tbody>\n",
       "</table>\n",
       "</div>"
      ],
      "text/plain": [
       "   epoch  train_loss  train_prec1  train_prec5  val_loss  val_prec1  \\\n",
       "0      1    0.032807          0.0          0.0  0.005418        0.0   \n",
       "1      2    0.032316          0.0          0.0  0.024185        0.0   \n",
       "2      3    0.035245          0.0          0.0  0.009808        0.0   \n",
       "3      4    0.030766          0.0          0.0  0.000419        0.0   \n",
       "4      5    0.040940          0.0          0.0  0.020601        0.0   \n",
       "\n",
       "   val_prec5                                exp_id  \n",
       "0        0.0  f4336451-472f-442f-bc06-7e061f11fe24  \n",
       "1        0.0  f4336451-472f-442f-bc06-7e061f11fe24  \n",
       "2        0.0  f4336451-472f-442f-bc06-7e061f11fe24  \n",
       "3        0.0  f4336451-472f-442f-bc06-7e061f11fe24  \n",
       "4        0.0  f4336451-472f-442f-bc06-7e061f11fe24  "
      ]
     },
     "execution_count": 9,
     "metadata": {},
     "output_type": "execute_result"
    }
   ],
   "source": [
    "reader = CollectionReader(args.out_dir + '/another_test')\n",
    "logs = reader.df('logs')\n",
    "reader.close()\n",
    "logs.head()"
   ]
  },
  {
   "cell_type": "code",
   "execution_count": 10,
   "metadata": {},
   "outputs": [
    {
     "data": {
      "text/plain": [
       "<matplotlib.legend.Legend at 0x7fd92b899950>"
      ]
     },
     "execution_count": 10,
     "metadata": {},
     "output_type": "execute_result"
    },
    {
     "data": {
      "image/png": "[encoded data removed]",
      "text/plain": [
       "<Figure size 432x288 with 1 Axes>"
      ]
     },
     "metadata": {
      "needs_background": "light"
     },
     "output_type": "display_data"
    }
   ],
   "source": [
    "sns.lineplot(data=logs, x='epoch', y='train_loss', label='Train')\n",
    "sns.lineplot(data=logs, x='epoch', y='val_loss', label='Val')\n",
    "plt.legend()"
   ]
  },
  {
   "cell_type": "code",
   "execution_count": 11,
   "metadata": {},
   "outputs": [],
   "source": [
    "gt_ = ch.from_numpy(np.concatenate([gt_ols.coef_, gt_ols.intercept_.reshape(-1, 1)], axis=1))"
   ]
  },
  {
   "cell_type": "code",
   "execution_count": 12,
   "metadata": {},
   "outputs": [
    {
     "data": {
      "text/plain": [
       "tensor(0.6196)"
      ]
     },
     "execution_count": 12,
     "metadata": {},
     "output_type": "execute_result"
    }
   ],
   "source": [
    "ch.sqrt(mse_loss(ch.cat([w, w0], dim=1), gt_))"
   ]
  },
  {
   "cell_type": "code",
   "execution_count": 13,
   "metadata": {},
   "outputs": [],
   "source": [
    "trunc_  = ch.from_numpy(np.concatenate([trunc_ols.coef_, trunc_ols.intercept_.reshape(-1, 1)], axis=1))"
   ]
  },
  {
   "cell_type": "code",
   "execution_count": 14,
   "metadata": {},
   "outputs": [
    {
     "data": {
      "text/plain": [
       "tensor(0.7528)"
      ]
     },
     "execution_count": 14,
     "metadata": {},
     "output_type": "execute_result"
    }
   ],
   "source": [
    "ch.sqrt(mse_loss(trunc_, gt_))"
   ]
  },
  {
   "cell_type": "code",
   "execution_count": 15,
   "metadata": {},
   "outputs": [],
   "source": [
    "if d == 1:\n",
    "    ax = plt.subplot(1, 1, 1)\n",
    "    plt.scatter(X, noised, label='entire dataset', alpha=.75)\n",
    "    plt.scatter(x_trunc, y_trunc, label='truncated dataset', alpha=.75)\n",
    "    plt.plot(X, trunc_ols.predict(X), color='r', label='ols')\n",
    "    plt.plot(X, gt_ols.predict(X), color='green', label='gt')\n",
    "    plt.plot(X, (X@w + w0).numpy(), label='known', color='blue')\n",
    "    plt.legend()\n",
    "    plt.title(\"Known Noise Variance - UnNormalized\")\n",
    "    ax.set_xlabel(\"x\")\n",
    "    ax.set_ylabel(\"y\")\n",
    "    plt.show()\n",
    "else: \n",
    "    pass"
   ]
  },
  {
   "cell_type": "code",
   "execution_count": 16,
   "metadata": {},
   "outputs": [],
   "source": [
    "trunc_ols_w = ch.from_numpy(trunc_ols.coef_)"
   ]
  },
  {
   "cell_type": "code",
   "execution_count": 17,
   "metadata": {},
   "outputs": [],
   "source": [
    "rand_w = ch.rand(w.size(1), 2)"
   ]
  },
  {
   "cell_type": "code",
   "execution_count": 18,
   "metadata": {},
   "outputs": [],
   "source": [
    "w_new = w @ rand_w\n",
    "ols_w_new = trunc_ols_w @ rand_w\n",
    "x_new = X @ rand_w\n",
    "gt_w_new = ch.from_numpy(gt_ols.coef_)@ rand_w"
   ]
  },
  {
   "cell_type": "code",
   "execution_count": 19,
   "metadata": {},
   "outputs": [
    {
     "name": "stderr",
     "output_type": "stream",
     "text": [
      "/opt/anaconda3/lib/python3.7/site-packages/torch/functional.py:445: UserWarning: torch.meshgrid: in an upcoming release, it will be required to pass the indexing argument. (Triggered internally at  ../aten/src/ATen/native/TensorShape.cpp:2157.)\n",
      "  return _VF.meshgrid(tensors, **kwargs)  # type: ignore[attr-defined]\n"
     ]
    }
   ],
   "source": [
    "x_pred = ch.linspace(x_new[:,0].min(), x_new[:,0].max(), 30)\n",
    "y_pred = ch.linspace(x_new[:,1].min(), x_new[:,1].max(), 30)\n",
    "xx_pred, yy_pred = ch.meshgrid(x_pred, y_pred)\n",
    "model_viz = ch.stack([xx_pred.flatten(), yy_pred.flatten()]).T"
   ]
  },
  {
   "cell_type": "code",
   "execution_count": 20,
   "metadata": {},
   "outputs": [],
   "source": [
    "known_trunc_pred = w_new @ model_viz.T + w0\n",
    "ols_trunc_pred = ols_w_new @ model_viz.T + trunc_ols.intercept_\n",
    "gt_pred = gt_w_new @ model_viz.T + gt_ols.intercept_"
   ]
  },
  {
   "cell_type": "code",
   "execution_count": 21,
   "metadata": {},
   "outputs": [
    {
     "data": {
      "image/png": "[encoded data removed]",
      "text/plain": [
       "<Figure size 432x288 with 1 Axes>"
      ]
     },
     "metadata": {
      "needs_background": "light"
     },
     "output_type": "display_data"
    }
   ],
   "source": [
    "import matplotlib.pyplot as plt\n",
    "from mpl_toolkits.mplot3d import Axes3D\n",
    "\n",
    "fig = plt.figure()\n",
    "ax = fig.gca(projection='3d')\n",
    "\n",
    "ax.scatter(xx_pred.flatten(), yy_pred.flatten(), ols_trunc_pred, color='red', label='ols')\n",
    "ax.scatter(xx_pred.flatten(), yy_pred.flatten(), gt_pred, color='green', label='ground-truth')\n",
    "ax.scatter(xx_pred.flatten(), yy_pred.flatten(), known_trunc_pred, color='blue', label='known')\n",
    "\n",
    "ax.legend()\n",
    "# ax.view_init(elev=28, azim=120)\n",
    "ax.view_init(elev=4, azim=114)"
   ]
  },
  {
   "cell_type": "markdown",
   "metadata": {},
   "source": [
    "Truncated Regression with Unknown Noise Variance"
   ]
  },
  {
   "cell_type": "code",
   "execution_count": 22,
   "metadata": {
    "scrolled": true
   },
   "outputs": [],
   "source": [
    "y_trunc_emp_scale = y_trunc / ch.sqrt(emp_noise_var)\n",
    "# phi_emp_scale = oracle.Left_Regression(phi.left / ch.sqrt(emp_noise_var))\n",
    "train_kwargs = Parameters({'phi': phi, \n",
    "                   'alpha': alpha,\n",
    "                    'epochs': 5, \n",
    "                    'trials': 1, \n",
    "                  'batch_size': 10, \n",
    "#                  'early_stopping': True, \n",
    "                 'var_lr': 1e-2, \n",
    "                    'step_lr': 1000,\n",
    "                    'normalize': False,\n",
    "                  'fit_intercept': True})\n",
    "unknown_trunc_reg = TruncatedLinearRegression(train_kwargs)\n",
    "unknown_trunc_reg.fit(x_trunc, y_trunc_emp_scale)\n",
    "w = unknown_trunc_reg.coef_*ch.sqrt(emp_noise_var)\n",
    "w0 = unknown_trunc_reg.intercept_*ch.sqrt(emp_noise_var)"
   ]
  },
  {
   "cell_type": "code",
   "execution_count": 28,
   "metadata": {},
   "outputs": [
    {
     "data": {
      "text/plain": [
       "tensor(0.6252)"
      ]
     },
     "execution_count": 28,
     "metadata": {},
     "output_type": "execute_result"
    }
   ],
   "source": [
    "ch.sqrt(mse_loss(ch.cat([w, w0[...,None]], dim=1), gt_))"
   ]
  },
  {
   "cell_type": "code",
   "execution_count": 30,
   "metadata": {},
   "outputs": [],
   "source": [
    "# spawn subprocess to run truncreg experiment\n",
    "concat = ch.cat([x_trunc, y_trunc], dim=1).numpy()\n",
    "\"\"\"\n",
    "DATA FORMAT:\n",
    "    -First n-1 columns are independent variables\n",
    "    -nth column is dependent variable\n",
    "\"\"\"\n",
    "concat_df = pd.DataFrame(concat)\n",
    "concat_df.to_csv(args.out_dir + '/' + TMP_FILE) # save data to csv\n",
    "\"\"\"\n",
    "Arguments\n",
    "- c - truncation point (float)\n",
    "- dir - left or right -> type of truncation (str)\n",
    "\"\"\"\n",
    "cmd = [COMMAND, PATH2SCRIPT] + [str(0), str(d), 'left', args.out_dir]\n",
    "\n",
    "# check_output will run the command and store the result\n",
    "st = datetime.datetime.now()\n",
    "result = subprocess.check_output(cmd, universal_newlines=True)\n",
    "total_time = int((datetime.datetime.now() - st).total_seconds())\n",
    "trunc_res = Tensor(pd.read_csv(args.out_dir + '/' + RESULT_FILE)['x'].to_numpy())\n",
    "trunc_reg_params = ch.cat([trunc_res[1:-1].flatten(), trunc_res[0][None,...]])\n",
    "\n",
    "trunc_reg_pred = X@trunc_reg_params[:-1] + trunc_reg_params[-1]"
   ]
  },
  {
   "cell_type": "code",
   "execution_count": 33,
   "metadata": {},
   "outputs": [
    {
     "name": "stderr",
     "output_type": "stream",
     "text": [
      "/opt/anaconda3/lib/python3.7/site-packages/torch/nn/modules/loss.py:520: UserWarning: Using a target size (torch.Size([1, 6])) that is different to the input size (torch.Size([6])). This will likely lead to incorrect results due to broadcasting. Please ensure they have the same size.\n",
      "  return F.mse_loss(input, target, reduction=self.reduction)\n"
     ]
    },
    {
     "data": {
      "text/plain": [
       "tensor(0.1077)"
      ]
     },
     "execution_count": 33,
     "metadata": {},
     "output_type": "execute_result"
    }
   ],
   "source": [
    "ch.sqrt(mse_loss(trunc_reg_params, gt_))"
   ]
  },
  {
   "cell_type": "code",
   "execution_count": 29,
   "metadata": {},
   "outputs": [
    {
     "ename": "ValueError",
     "evalue": "x and y must be the same size",
     "output_type": "error",
     "traceback": [
      "\u001b[0;31m---------------------------------------------------------------------------\u001b[0m",
      "\u001b[0;31mValueError\u001b[0m                                Traceback (most recent call last)",
      "\u001b[0;32m<ipython-input-29-5c0541d35a16>\u001b[0m in \u001b[0;36m<module>\u001b[0;34m\u001b[0m\n\u001b[1;32m      1\u001b[0m \u001b[0max\u001b[0m \u001b[0;34m=\u001b[0m \u001b[0mplt\u001b[0m\u001b[0;34m.\u001b[0m\u001b[0msubplot\u001b[0m\u001b[0;34m(\u001b[0m\u001b[0;36m1\u001b[0m\u001b[0;34m,\u001b[0m \u001b[0;36m1\u001b[0m\u001b[0;34m,\u001b[0m \u001b[0;36m1\u001b[0m\u001b[0;34m)\u001b[0m\u001b[0;34m\u001b[0m\u001b[0;34m\u001b[0m\u001b[0m\n\u001b[0;32m----> 2\u001b[0;31m \u001b[0mplt\u001b[0m\u001b[0;34m.\u001b[0m\u001b[0mscatter\u001b[0m\u001b[0;34m(\u001b[0m\u001b[0mX\u001b[0m\u001b[0;34m,\u001b[0m \u001b[0mnoised\u001b[0m\u001b[0;34m,\u001b[0m \u001b[0mlabel\u001b[0m\u001b[0;34m=\u001b[0m\u001b[0;34m'entire dataset'\u001b[0m\u001b[0;34m,\u001b[0m \u001b[0malpha\u001b[0m\u001b[0;34m=\u001b[0m\u001b[0;36m.75\u001b[0m\u001b[0;34m)\u001b[0m\u001b[0;34m\u001b[0m\u001b[0;34m\u001b[0m\u001b[0m\n\u001b[0m\u001b[1;32m      3\u001b[0m \u001b[0mplt\u001b[0m\u001b[0;34m.\u001b[0m\u001b[0mscatter\u001b[0m\u001b[0;34m(\u001b[0m\u001b[0mx_trunc\u001b[0m\u001b[0;34m,\u001b[0m \u001b[0my_trunc\u001b[0m\u001b[0;34m,\u001b[0m \u001b[0mlabel\u001b[0m\u001b[0;34m=\u001b[0m\u001b[0;34m'truncated dataset'\u001b[0m\u001b[0;34m,\u001b[0m \u001b[0malpha\u001b[0m\u001b[0;34m=\u001b[0m\u001b[0;36m.75\u001b[0m\u001b[0;34m)\u001b[0m\u001b[0;34m\u001b[0m\u001b[0;34m\u001b[0m\u001b[0m\n\u001b[1;32m      4\u001b[0m \u001b[0mplt\u001b[0m\u001b[0;34m.\u001b[0m\u001b[0mplot\u001b[0m\u001b[0;34m(\u001b[0m\u001b[0mX\u001b[0m\u001b[0;34m,\u001b[0m \u001b[0mtrunc_ols\u001b[0m\u001b[0;34m.\u001b[0m\u001b[0mpredict\u001b[0m\u001b[0;34m(\u001b[0m\u001b[0mX\u001b[0m\u001b[0;34m)\u001b[0m\u001b[0;34m,\u001b[0m \u001b[0mlabel\u001b[0m\u001b[0;34m=\u001b[0m\u001b[0;34m'ols'\u001b[0m\u001b[0;34m,\u001b[0m \u001b[0mcolor\u001b[0m\u001b[0;34m=\u001b[0m\u001b[0;34m'red'\u001b[0m\u001b[0;34m)\u001b[0m\u001b[0;34m\u001b[0m\u001b[0;34m\u001b[0m\u001b[0m\n\u001b[1;32m      5\u001b[0m \u001b[0mplt\u001b[0m\u001b[0;34m.\u001b[0m\u001b[0mplot\u001b[0m\u001b[0;34m(\u001b[0m\u001b[0mX\u001b[0m\u001b[0;34m,\u001b[0m \u001b[0mgt_ols\u001b[0m\u001b[0;34m.\u001b[0m\u001b[0mpredict\u001b[0m\u001b[0;34m(\u001b[0m\u001b[0mX\u001b[0m\u001b[0;34m)\u001b[0m\u001b[0;34m,\u001b[0m \u001b[0mcolor\u001b[0m\u001b[0;34m=\u001b[0m\u001b[0;34m'g'\u001b[0m\u001b[0;34m,\u001b[0m \u001b[0mlabel\u001b[0m\u001b[0;34m=\u001b[0m\u001b[0;34m'gt'\u001b[0m\u001b[0;34m)\u001b[0m\u001b[0;34m\u001b[0m\u001b[0;34m\u001b[0m\u001b[0m\n",
      "\u001b[0;32m/opt/anaconda3/lib/python3.7/site-packages/matplotlib/pyplot.py\u001b[0m in \u001b[0;36mscatter\u001b[0;34m(x, y, s, c, marker, cmap, norm, vmin, vmax, alpha, linewidths, verts, edgecolors, plotnonfinite, data, **kwargs)\u001b[0m\n\u001b[1;32m   2845\u001b[0m         \u001b[0mverts\u001b[0m\u001b[0;34m=\u001b[0m\u001b[0mverts\u001b[0m\u001b[0;34m,\u001b[0m \u001b[0medgecolors\u001b[0m\u001b[0;34m=\u001b[0m\u001b[0medgecolors\u001b[0m\u001b[0;34m,\u001b[0m\u001b[0;34m\u001b[0m\u001b[0;34m\u001b[0m\u001b[0m\n\u001b[1;32m   2846\u001b[0m         plotnonfinite=plotnonfinite, **({\"data\": data} if data is not\n\u001b[0;32m-> 2847\u001b[0;31m         None else {}), **kwargs)\n\u001b[0m\u001b[1;32m   2848\u001b[0m     \u001b[0msci\u001b[0m\u001b[0;34m(\u001b[0m\u001b[0m__ret\u001b[0m\u001b[0;34m)\u001b[0m\u001b[0;34m\u001b[0m\u001b[0;34m\u001b[0m\u001b[0m\n\u001b[1;32m   2849\u001b[0m     \u001b[0;32mreturn\u001b[0m \u001b[0m__ret\u001b[0m\u001b[0;34m\u001b[0m\u001b[0;34m\u001b[0m\u001b[0m\n",
      "\u001b[0;32m/opt/anaconda3/lib/python3.7/site-packages/matplotlib/__init__.py\u001b[0m in \u001b[0;36minner\u001b[0;34m(ax, data, *args, **kwargs)\u001b[0m\n\u001b[1;32m   1599\u001b[0m     \u001b[0;32mdef\u001b[0m \u001b[0minner\u001b[0m\u001b[0;34m(\u001b[0m\u001b[0max\u001b[0m\u001b[0;34m,\u001b[0m \u001b[0;34m*\u001b[0m\u001b[0margs\u001b[0m\u001b[0;34m,\u001b[0m \u001b[0mdata\u001b[0m\u001b[0;34m=\u001b[0m\u001b[0;32mNone\u001b[0m\u001b[0;34m,\u001b[0m \u001b[0;34m**\u001b[0m\u001b[0mkwargs\u001b[0m\u001b[0;34m)\u001b[0m\u001b[0;34m:\u001b[0m\u001b[0;34m\u001b[0m\u001b[0;34m\u001b[0m\u001b[0m\n\u001b[1;32m   1600\u001b[0m         \u001b[0;32mif\u001b[0m \u001b[0mdata\u001b[0m \u001b[0;32mis\u001b[0m \u001b[0;32mNone\u001b[0m\u001b[0;34m:\u001b[0m\u001b[0;34m\u001b[0m\u001b[0;34m\u001b[0m\u001b[0m\n\u001b[0;32m-> 1601\u001b[0;31m             \u001b[0;32mreturn\u001b[0m \u001b[0mfunc\u001b[0m\u001b[0;34m(\u001b[0m\u001b[0max\u001b[0m\u001b[0;34m,\u001b[0m \u001b[0;34m*\u001b[0m\u001b[0mmap\u001b[0m\u001b[0;34m(\u001b[0m\u001b[0msanitize_sequence\u001b[0m\u001b[0;34m,\u001b[0m \u001b[0margs\u001b[0m\u001b[0;34m)\u001b[0m\u001b[0;34m,\u001b[0m \u001b[0;34m**\u001b[0m\u001b[0mkwargs\u001b[0m\u001b[0;34m)\u001b[0m\u001b[0;34m\u001b[0m\u001b[0;34m\u001b[0m\u001b[0m\n\u001b[0m\u001b[1;32m   1602\u001b[0m \u001b[0;34m\u001b[0m\u001b[0m\n\u001b[1;32m   1603\u001b[0m         \u001b[0mbound\u001b[0m \u001b[0;34m=\u001b[0m \u001b[0mnew_sig\u001b[0m\u001b[0;34m.\u001b[0m\u001b[0mbind\u001b[0m\u001b[0;34m(\u001b[0m\u001b[0max\u001b[0m\u001b[0;34m,\u001b[0m \u001b[0;34m*\u001b[0m\u001b[0margs\u001b[0m\u001b[0;34m,\u001b[0m \u001b[0;34m**\u001b[0m\u001b[0mkwargs\u001b[0m\u001b[0;34m)\u001b[0m\u001b[0;34m\u001b[0m\u001b[0;34m\u001b[0m\u001b[0m\n",
      "\u001b[0;32m/opt/anaconda3/lib/python3.7/site-packages/matplotlib/axes/_axes.py\u001b[0m in \u001b[0;36mscatter\u001b[0;34m(self, x, y, s, c, marker, cmap, norm, vmin, vmax, alpha, linewidths, verts, edgecolors, plotnonfinite, **kwargs)\u001b[0m\n\u001b[1;32m   4442\u001b[0m         \u001b[0my\u001b[0m \u001b[0;34m=\u001b[0m \u001b[0mnp\u001b[0m\u001b[0;34m.\u001b[0m\u001b[0mma\u001b[0m\u001b[0;34m.\u001b[0m\u001b[0mravel\u001b[0m\u001b[0;34m(\u001b[0m\u001b[0my\u001b[0m\u001b[0;34m)\u001b[0m\u001b[0;34m\u001b[0m\u001b[0;34m\u001b[0m\u001b[0m\n\u001b[1;32m   4443\u001b[0m         \u001b[0;32mif\u001b[0m \u001b[0mx\u001b[0m\u001b[0;34m.\u001b[0m\u001b[0msize\u001b[0m \u001b[0;34m!=\u001b[0m \u001b[0my\u001b[0m\u001b[0;34m.\u001b[0m\u001b[0msize\u001b[0m\u001b[0;34m:\u001b[0m\u001b[0;34m\u001b[0m\u001b[0;34m\u001b[0m\u001b[0m\n\u001b[0;32m-> 4444\u001b[0;31m             \u001b[0;32mraise\u001b[0m \u001b[0mValueError\u001b[0m\u001b[0;34m(\u001b[0m\u001b[0;34m\"x and y must be the same size\"\u001b[0m\u001b[0;34m)\u001b[0m\u001b[0;34m\u001b[0m\u001b[0;34m\u001b[0m\u001b[0m\n\u001b[0m\u001b[1;32m   4445\u001b[0m \u001b[0;34m\u001b[0m\u001b[0m\n\u001b[1;32m   4446\u001b[0m         \u001b[0;32mif\u001b[0m \u001b[0ms\u001b[0m \u001b[0;32mis\u001b[0m \u001b[0;32mNone\u001b[0m\u001b[0;34m:\u001b[0m\u001b[0;34m\u001b[0m\u001b[0;34m\u001b[0m\u001b[0m\n",
      "\u001b[0;31mValueError\u001b[0m: x and y must be the same size"
     ]
    },
    {
     "data": {
      "image/png": "[encoded data removed]",
      "text/plain": [
       "<Figure size 432x288 with 1 Axes>"
      ]
     },
     "metadata": {
      "needs_background": "light"
     },
     "output_type": "display_data"
    }
   ],
   "source": [
    "ax = plt.subplot(1, 1, 1)\n",
    "plt.scatter(X, noised, label='entire dataset', alpha=.75)\n",
    "plt.scatter(x_trunc, y_trunc, label='truncated dataset', alpha=.75)\n",
    "plt.plot(X, trunc_ols.predict(X), label='ols', color='red')\n",
    "plt.plot(X, gt_ols.predict(X), color='g', label='gt')\n",
    "plt.plot(X, (X@w + w0).numpy(), color='blue', label='unknown')\n",
    "plt.legend()\n",
    "ax.set_title(\"Unknown Noise Variance\")\n",
    "ax.set_xlabel(\"x\")\n",
    "ax.set_ylabel(\"y\")\n",
    "plt.show()"
   ]
  },
  {
   "cell_type": "markdown",
   "metadata": {},
   "source": [
    "# Generate Ground-Truth and Run Experiment"
   ]
  },
  {
   "cell_type": "code",
   "execution_count": 48,
   "metadata": {},
   "outputs": [],
   "source": [
    " # expriment parameters\n",
    "w_lower, w_upper = -1, 1\n",
    "d, k = 100, 1\n",
    "# distribution for generating feature vectors\n",
    "W = Uniform(w_lower, w_upper)\n",
    "dist = Uniform(-5, 5)\n",
    "phi = oracle.Left_Regression(0.0)\n",
    "# phi = oracle.Identity()\n",
    "\n",
    "    \n",
    "def gen_ground_truth(): \n",
    "    # generate ground truth\n",
    "    gt = ch.nn.Linear(in_features=d, out_features=k)\n",
    "    gt.weight = ch.nn.Parameter(W.sample(ch.Size([k, d])))\n",
    "    gt.bias = ch.nn.Parameter(W.sample(ch.Size([1, 1]))) if args.bias else None\n",
    "\n",
    "    # create base classifier\n",
    "    with ch.no_grad():\n",
    "        # generate data\n",
    "        X = dist.sample(ch.Size([args.samples, d])) if isinstance(dist, Uniform) else dist.sample(ch.Size([args.samples]))\n",
    "        y = gt(X)\n",
    "        \n",
    "    return X, y"
   ]
  },
  {
   "cell_type": "code",
   "execution_count": 57,
   "metadata": {
    "scrolled": true
   },
   "outputs": [],
   "source": [
    "# create store and add table\n",
    "store = Store(args.out_dir + '/' + args.exp)\n",
    "store.add_table(args.table_name, { \n",
    "    'ols_r2': float,\n",
    "    'ols_param_mse': float,\n",
    "    'ols_var_l1': float,\n",
    "    'known_r2': float,\n",
    "    'known_param_mse': float,\n",
    "    'known_time': int,\n",
    "    'unknown_r2': float, \n",
    "    'unknown_param_mse': float,\n",
    "    'unknown_var_l1': float,\n",
    "    'unknown_time': int,\n",
    "    'trunc_reg_r2': float,\n",
    "    'trunc_reg_param_mse': float, \n",
    "    'trunc_reg_var_mse': float,\n",
    "    'trunc_reg_time': int,\n",
    "    'alpha': float, \n",
    "    'num_samples': int,\n",
    "    'noise_var': float, \n",
    "})\n",
    "\n",
    "\n",
    "for i in range(args.trials):\n",
    "    # generate ground truth\n",
    "    X, y = gen_ground_truth()\n",
    "    \n",
    "    for noise_var in range(1, args.var + 1): \n",
    "        noise_var = Tensor([noise_var])[None,...]\n",
    "        # add noise to ground-truth pedictions\n",
    "        noised = y + ch.sqrt(noise_var) * ch.randn(X.size(0), 1)\n",
    "        # truncate based off of the standardized data\n",
    "        indices = phi(noised).flatten().nonzero(as_tuple=False).flatten()\n",
    "        y_trunc, x_trunc = noised[indices], X[indices]\n",
    "        alpha = y_trunc.size(0) / args.samples\n",
    "        # mean for dependent variable\n",
    "        y_trunc_mu = y_trunc.mean(0)\n",
    "        \n",
    "        # normalize input features\n",
    "        l_inf = LA.norm(x_trunc, dim=-1, ord=float('inf')).max()\n",
    "        beta = l_inf * (x_trunc.size(1) ** .5)\n",
    "\n",
    "        X /= beta\n",
    "        x_trunc /= beta\n",
    "        \n",
    "        # ground-truth ols\n",
    "        gt_ols = LinearRegression()\n",
    "        gt_ols.fit(X, noised)\n",
    "        gt_params = ch.cat([Tensor(gt_ols.coef_).T, Tensor(gt_ols.intercept_)[..., None]]).flatten()\n",
    "        gt_var = (noised - gt_ols.predict(X)).var(0)\n",
    "        \n",
    "        # empirical linear regression\n",
    "        ols = LinearRegression() \n",
    "        ols.fit(x_trunc, y_trunc)\n",
    "        ols_var = (y_trunc - ols.predict(x_trunc)).var(0)\n",
    "        ols_params = ch.cat([Tensor(ols.coef_).T, Tensor(ols.intercept_)[..., None]]).flatten()\n",
    "        # check r2 for entire dataset\n",
    "        ols_pred = ols.predict(X)\n",
    "\n",
    "        # ols results\n",
    "        store[args.table_name].update_row({\n",
    "            'ols_r2': r2_score(noised.flatten(), ols_pred.flatten()), \n",
    "            'ols_var_l1': ch.abs(ols_var - gt_var),\n",
    "            'ols_param_mse': mse_loss(ols_params, gt_params),\n",
    "        })\n",
    "                \n",
    "        \"\"\"\n",
    "        Run dataset on truncated regression with known variance, while \n",
    "        assuming that the empirical noise variance is the underlying noise \n",
    "        variance of our linear regression. This means that we want to standardize \n",
    "        our dependent variable by the empirical noise variance. \n",
    "        \"\"\"\n",
    "        # variance of the residuals\n",
    "        # standardize y trunc by the empirical noise variance\n",
    "        emp_stand_y_trunc = (y_trunc - y_trunc_mu) / ch.sqrt(ols_var)\n",
    "        # standardize noised by the empirical noise variance\n",
    "        emp_stand_noised = noised / ch.sqrt(ols_var)\n",
    "        \n",
    "        emp_stand_phi = oracle.Left_Regression((phi.left - y_trunc_mu) / ch.sqrt(ols_var))\n",
    "\n",
    "        \"\"\"\n",
    "        Run dataset on truncated regression with known variance. This means that we want to standardize \n",
    "        our dependent variable by the true noise variance. \n",
    "        \"\"\"\n",
    "        # standardize y trunc by actual noise variance\n",
    "        stand_y_trunc = (y_trunc - y_trunc_mu) / ch.sqrt(noise_var)\n",
    "        # standardize noised by actual noise variance\n",
    "        stand_phi = oracle.Left_Regression((phi.left - y_trunc_mu) / ch.sqrt(noise_var))\n",
    "\n",
    "        st = datetime.datetime.now() \n",
    "        train_kwargs = Parameters({'phi': stand_phi, \n",
    "                                 'alpha': alpha,\n",
    "                                'noise_var': 1.0,\n",
    "                                'batch_size': 100,\n",
    "                                'epochs': 10, \n",
    "                                'trials': 1, \n",
    "                                'normalize': False})\n",
    "        known_trunc_reg = TruncatedLinearRegression(train_kwargs)\n",
    "        known_trunc_reg.fit(x_trunc, stand_y_trunc)    \n",
    "        total_time = int((datetime.datetime.now() - st).total_seconds())\n",
    "        w, w0 = (known_trunc_reg.coef_ * ch.sqrt(noise_var)), known_trunc_reg.intercept_[..., None] * ch.sqrt(noise_var) + y_trunc_mu\n",
    "        known_params = ch.cat([w, w0], dim=1).flatten()\n",
    "        \n",
    "        # known results\n",
    "        store[args.table_name].update_row({\n",
    "            'known_r2': r2_score(noised.flatten(), X@w.T + w0), \n",
    "            'known_param_mse': mse_loss(gt_params, known_params),\n",
    "            'known_time': total_time, \n",
    "        })\n",
    "\n",
    "        st = datetime.datetime.now()     \n",
    "        train_kwargs = Parameters({'phi': emp_stand_phi, \n",
    "                      'alpha': alpha,\n",
    "                        'var_lr': 1e-2,\n",
    "                        'batch_size': 100,\n",
    "                        'epochs': 10, \n",
    "                        'trials': 1, \n",
    "                        'num_samples': 100,\n",
    "                         'normalize': False})\n",
    "        unknown_trunc_reg = TruncatedLinearRegression(train_kwargs)\n",
    "        unknown_trunc_reg.fit(x_trunc, emp_stand_y_trunc)\n",
    "        total_time = int((datetime.datetime.now() - st).total_seconds())\n",
    "\n",
    "        unknown_var = unknown_trunc_reg.variance * ols_var\n",
    "        w, w0 = (unknown_trunc_reg.coef_ * ch.sqrt(ols_var)), unknown_trunc_reg.intercept_ * ch.sqrt(ols_var) + y_trunc_mu\n",
    "        unknown_params = ch.cat([w, w0[None,...]], dim=1).flatten()\n",
    "        \n",
    "                \n",
    "        # known emp results\n",
    "        store[args.table_name].update_row({\n",
    "            'unknown_r2': r2_score(noised.flatten(), X@w.T + w0), \n",
    "            'unknown_param_mse': mse_loss(gt_params, unknown_params),\n",
    "            'unknown_var_l1': float(ch.abs(unknown_var - gt_var)),\n",
    "            'unknown_time': total_time, \n",
    "        })\n",
    "            \n",
    "            \n",
    "        # spawn subprocess to run truncreg experiment\n",
    "        concat = ch.cat([x_trunc, y_trunc], dim=1).numpy()\n",
    "        \"\"\"\n",
    "        DATA FORMAT:\n",
    "            -First n-1 columns are independent variables\n",
    "            -nth column is dependent variable\n",
    "        \"\"\"\n",
    "        concat_df = pd.DataFrame(concat)\n",
    "        concat_df.to_csv(args.out_dir + '/' + TMP_FILE) # save data to csv\n",
    "        \"\"\"\n",
    "        Arguments\n",
    "        - c - truncation point (float)\n",
    "        - dir - left or right -> type of truncation (str)\n",
    "        \"\"\"\n",
    "        cmd = [COMMAND, PATH2SCRIPT] + [str(0), str(d), 'left', args.out_dir]\n",
    "\n",
    "        # check_output will run the command and store the result\n",
    "        st = datetime.datetime.now()\n",
    "        result = subprocess.check_output(cmd, universal_newlines=True)\n",
    "        total_time = int((datetime.datetime.now() - st).total_seconds())\n",
    "        trunc_res = Tensor(pd.read_csv(args.out_dir + '/' + RESULT_FILE)['x'].to_numpy())\n",
    "        trunc_reg_params = ch.cat([trunc_res[1:-1].flatten(), trunc_res[0][None,...]])\n",
    "\n",
    "        trunc_reg_pred = X@trunc_reg_params[:-1] + trunc_reg_params[-1]\n",
    "        \n",
    "        # truncreg results\n",
    "        store[args.table_name].update_row({\n",
    "            'trunc_reg_r2': r2_score(noised.flatten(), trunc_reg_pred.flatten()), \n",
    "            'trunc_reg_param_mse': mse_loss(trunc_reg_params, gt_params),\n",
    "            'trunc_reg_var_mse': float(ch.abs(trunc_res[-1].pow(2)[None,...] - gt_var)),\n",
    "            'trunc_reg_time': total_time, \n",
    "        })\n",
    "        \n",
    "        # add additional exp data to store\n",
    "        store[args.table_name].update_row({ \n",
    "            'alpha': alpha,\n",
    "            'num_samples': x_trunc.size(0),\n",
    "            'noise_var': noise_var, \n",
    "        })\n",
    "\n",
    "        # append row to table\n",
    "        store[args.table_name].flush_row()\n",
    "        \n",
    "        IPython.display.clear_output()\n",
    "\n",
    "store.close()    "
   ]
  },
  {
   "cell_type": "code",
   "execution_count": 58,
   "metadata": {},
   "outputs": [
    {
     "name": "stderr",
     "output_type": "stream",
     "text": [
      "100%|██████████| 1/1 [00:00<00:00, 75.71it/s]\n"
     ]
    },
    {
     "data": {
      "text/html": [
       "<div>\n",
       "<style scoped>\n",
       "    .dataframe tbody tr th:only-of-type {\n",
       "        vertical-align: middle;\n",
       "    }\n",
       "\n",
       "    .dataframe tbody tr th {\n",
       "        vertical-align: top;\n",
       "    }\n",
       "\n",
       "    .dataframe thead th {\n",
       "        text-align: right;\n",
       "    }\n",
       "</style>\n",
       "<table border=\"1\" class=\"dataframe\">\n",
       "  <thead>\n",
       "    <tr style=\"text-align: right;\">\n",
       "      <th></th>\n",
       "      <th>ols_r2</th>\n",
       "      <th>ols_param_mse</th>\n",
       "      <th>ols_var_l1</th>\n",
       "      <th>known_r2</th>\n",
       "      <th>known_param_mse</th>\n",
       "      <th>known_time</th>\n",
       "      <th>unknown_r2</th>\n",
       "      <th>unknown_param_mse</th>\n",
       "      <th>unknown_var_l1</th>\n",
       "      <th>unknown_time</th>\n",
       "      <th>trunc_reg_r2</th>\n",
       "      <th>trunc_reg_param_mse</th>\n",
       "      <th>trunc_reg_var_mse</th>\n",
       "      <th>trunc_reg_time</th>\n",
       "      <th>alpha</th>\n",
       "      <th>num_samples</th>\n",
       "      <th>noise_var</th>\n",
       "      <th>exp_id</th>\n",
       "    </tr>\n",
       "  </thead>\n",
       "  <tbody>\n",
       "    <tr>\n",
       "      <td>0</td>\n",
       "      <td>0.905274</td>\n",
       "      <td>0.336657</td>\n",
       "      <td>0.097906</td>\n",
       "      <td>0.922167</td>\n",
       "      <td>0.100971</td>\n",
       "      <td>2</td>\n",
       "      <td>0.926652</td>\n",
       "      <td>0.001637</td>\n",
       "      <td>0.094403</td>\n",
       "      <td>10</td>\n",
       "      <td>0.926755</td>\n",
       "      <td>0.000208</td>\n",
       "      <td>0.007423</td>\n",
       "      <td>2</td>\n",
       "      <td>0.57346</td>\n",
       "      <td>28673</td>\n",
       "      <td>1.0</td>\n",
       "      <td>5cf6e460-0eb7-434f-ac4c-612555511763</td>\n",
       "    </tr>\n",
       "    <tr>\n",
       "      <td>1</td>\n",
       "      <td>0.803082</td>\n",
       "      <td>1.013073</td>\n",
       "      <td>0.318880</td>\n",
       "      <td>0.858697</td>\n",
       "      <td>0.143493</td>\n",
       "      <td>3</td>\n",
       "      <td>0.865034</td>\n",
       "      <td>0.000427</td>\n",
       "      <td>0.168883</td>\n",
       "      <td>11</td>\n",
       "      <td>0.865065</td>\n",
       "      <td>0.000244</td>\n",
       "      <td>0.005285</td>\n",
       "      <td>1</td>\n",
       "      <td>0.57202</td>\n",
       "      <td>28601</td>\n",
       "      <td>2.0</td>\n",
       "      <td>5cf6e460-0eb7-434f-ac4c-612555511763</td>\n",
       "    </tr>\n",
       "    <tr>\n",
       "      <td>2</td>\n",
       "      <td>0.705571</td>\n",
       "      <td>1.762968</td>\n",
       "      <td>0.619924</td>\n",
       "      <td>0.802745</td>\n",
       "      <td>0.180964</td>\n",
       "      <td>2</td>\n",
       "      <td>0.809885</td>\n",
       "      <td>0.000858</td>\n",
       "      <td>0.248474</td>\n",
       "      <td>9</td>\n",
       "      <td>0.809988</td>\n",
       "      <td>0.000678</td>\n",
       "      <td>0.030819</td>\n",
       "      <td>1</td>\n",
       "      <td>0.57160</td>\n",
       "      <td>28580</td>\n",
       "      <td>3.0</td>\n",
       "      <td>5cf6e460-0eb7-434f-ac4c-612555511763</td>\n",
       "    </tr>\n",
       "    <tr>\n",
       "      <td>3</td>\n",
       "      <td>0.613947</td>\n",
       "      <td>2.555630</td>\n",
       "      <td>1.025489</td>\n",
       "      <td>0.753567</td>\n",
       "      <td>0.204675</td>\n",
       "      <td>2</td>\n",
       "      <td>0.761070</td>\n",
       "      <td>0.007850</td>\n",
       "      <td>0.279220</td>\n",
       "      <td>10</td>\n",
       "      <td>0.761540</td>\n",
       "      <td>0.001442</td>\n",
       "      <td>0.013542</td>\n",
       "      <td>1</td>\n",
       "      <td>0.56904</td>\n",
       "      <td>28452</td>\n",
       "      <td>4.0</td>\n",
       "      <td>5cf6e460-0eb7-434f-ac4c-612555511763</td>\n",
       "    </tr>\n",
       "    <tr>\n",
       "      <td>4</td>\n",
       "      <td>0.527195</td>\n",
       "      <td>3.380529</td>\n",
       "      <td>1.428580</td>\n",
       "      <td>0.707190</td>\n",
       "      <td>0.246009</td>\n",
       "      <td>2</td>\n",
       "      <td>0.716103</td>\n",
       "      <td>0.004696</td>\n",
       "      <td>0.422324</td>\n",
       "      <td>10</td>\n",
       "      <td>0.716655</td>\n",
       "      <td>0.000643</td>\n",
       "      <td>0.053248</td>\n",
       "      <td>1</td>\n",
       "      <td>0.56644</td>\n",
       "      <td>28322</td>\n",
       "      <td>5.0</td>\n",
       "      <td>5cf6e460-0eb7-434f-ac4c-612555511763</td>\n",
       "    </tr>\n",
       "    <tr>\n",
       "      <td>5</td>\n",
       "      <td>0.469702</td>\n",
       "      <td>3.949734</td>\n",
       "      <td>1.848119</td>\n",
       "      <td>0.676416</td>\n",
       "      <td>0.254993</td>\n",
       "      <td>2</td>\n",
       "      <td>0.685040</td>\n",
       "      <td>0.004429</td>\n",
       "      <td>0.252910</td>\n",
       "      <td>9</td>\n",
       "      <td>0.685119</td>\n",
       "      <td>0.000930</td>\n",
       "      <td>0.025168</td>\n",
       "      <td>1</td>\n",
       "      <td>0.56552</td>\n",
       "      <td>28276</td>\n",
       "      <td>6.0</td>\n",
       "      <td>5cf6e460-0eb7-434f-ac4c-612555511763</td>\n",
       "    </tr>\n",
       "    <tr>\n",
       "      <td>6</td>\n",
       "      <td>0.396495</td>\n",
       "      <td>4.720253</td>\n",
       "      <td>2.317629</td>\n",
       "      <td>0.637520</td>\n",
       "      <td>0.275878</td>\n",
       "      <td>2</td>\n",
       "      <td>0.646933</td>\n",
       "      <td>0.004690</td>\n",
       "      <td>0.552045</td>\n",
       "      <td>9</td>\n",
       "      <td>0.647471</td>\n",
       "      <td>0.000378</td>\n",
       "      <td>0.112305</td>\n",
       "      <td>1</td>\n",
       "      <td>0.56442</td>\n",
       "      <td>28221</td>\n",
       "      <td>7.0</td>\n",
       "      <td>5cf6e460-0eb7-434f-ac4c-612555511763</td>\n",
       "    </tr>\n",
       "    <tr>\n",
       "      <td>7</td>\n",
       "      <td>0.334137</td>\n",
       "      <td>5.264216</td>\n",
       "      <td>2.879313</td>\n",
       "      <td>0.604072</td>\n",
       "      <td>0.270224</td>\n",
       "      <td>2</td>\n",
       "      <td>0.611741</td>\n",
       "      <td>0.012316</td>\n",
       "      <td>0.358185</td>\n",
       "      <td>9</td>\n",
       "      <td>0.612267</td>\n",
       "      <td>0.003419</td>\n",
       "      <td>0.059824</td>\n",
       "      <td>1</td>\n",
       "      <td>0.56510</td>\n",
       "      <td>28255</td>\n",
       "      <td>8.0</td>\n",
       "      <td>5cf6e460-0eb7-434f-ac4c-612555511763</td>\n",
       "    </tr>\n",
       "    <tr>\n",
       "      <td>8</td>\n",
       "      <td>0.301316</td>\n",
       "      <td>5.615133</td>\n",
       "      <td>3.371822</td>\n",
       "      <td>0.584501</td>\n",
       "      <td>0.220113</td>\n",
       "      <td>2</td>\n",
       "      <td>0.588727</td>\n",
       "      <td>0.037618</td>\n",
       "      <td>0.544242</td>\n",
       "      <td>9</td>\n",
       "      <td>0.590096</td>\n",
       "      <td>0.007834</td>\n",
       "      <td>0.081144</td>\n",
       "      <td>1</td>\n",
       "      <td>0.56270</td>\n",
       "      <td>28135</td>\n",
       "      <td>9.0</td>\n",
       "      <td>5cf6e460-0eb7-434f-ac4c-612555511763</td>\n",
       "    </tr>\n",
       "    <tr>\n",
       "      <td>9</td>\n",
       "      <td>0.245618</td>\n",
       "      <td>6.209949</td>\n",
       "      <td>3.994150</td>\n",
       "      <td>0.553108</td>\n",
       "      <td>0.307099</td>\n",
       "      <td>2</td>\n",
       "      <td>0.562139</td>\n",
       "      <td>0.010464</td>\n",
       "      <td>0.105105</td>\n",
       "      <td>9</td>\n",
       "      <td>0.561857</td>\n",
       "      <td>0.008197</td>\n",
       "      <td>0.188725</td>\n",
       "      <td>1</td>\n",
       "      <td>0.55894</td>\n",
       "      <td>27947</td>\n",
       "      <td>10.0</td>\n",
       "      <td>5cf6e460-0eb7-434f-ac4c-612555511763</td>\n",
       "    </tr>\n",
       "  </tbody>\n",
       "</table>\n",
       "</div>"
      ],
      "text/plain": [
       "     ols_r2  ols_param_mse  ols_var_l1  known_r2  known_param_mse  known_time  \\\n",
       "0  0.905274       0.336657    0.097906  0.922167         0.100971           2   \n",
       "1  0.803082       1.013073    0.318880  0.858697         0.143493           3   \n",
       "2  0.705571       1.762968    0.619924  0.802745         0.180964           2   \n",
       "3  0.613947       2.555630    1.025489  0.753567         0.204675           2   \n",
       "4  0.527195       3.380529    1.428580  0.707190         0.246009           2   \n",
       "5  0.469702       3.949734    1.848119  0.676416         0.254993           2   \n",
       "6  0.396495       4.720253    2.317629  0.637520         0.275878           2   \n",
       "7  0.334137       5.264216    2.879313  0.604072         0.270224           2   \n",
       "8  0.301316       5.615133    3.371822  0.584501         0.220113           2   \n",
       "9  0.245618       6.209949    3.994150  0.553108         0.307099           2   \n",
       "\n",
       "   unknown_r2  unknown_param_mse  unknown_var_l1  unknown_time  trunc_reg_r2  \\\n",
       "0    0.926652           0.001637        0.094403            10      0.926755   \n",
       "1    0.865034           0.000427        0.168883            11      0.865065   \n",
       "2    0.809885           0.000858        0.248474             9      0.809988   \n",
       "3    0.761070           0.007850        0.279220            10      0.761540   \n",
       "4    0.716103           0.004696        0.422324            10      0.716655   \n",
       "5    0.685040           0.004429        0.252910             9      0.685119   \n",
       "6    0.646933           0.004690        0.552045             9      0.647471   \n",
       "7    0.611741           0.012316        0.358185             9      0.612267   \n",
       "8    0.588727           0.037618        0.544242             9      0.590096   \n",
       "9    0.562139           0.010464        0.105105             9      0.561857   \n",
       "\n",
       "   trunc_reg_param_mse  trunc_reg_var_mse  trunc_reg_time    alpha  \\\n",
       "0             0.000208           0.007423               2  0.57346   \n",
       "1             0.000244           0.005285               1  0.57202   \n",
       "2             0.000678           0.030819               1  0.57160   \n",
       "3             0.001442           0.013542               1  0.56904   \n",
       "4             0.000643           0.053248               1  0.56644   \n",
       "5             0.000930           0.025168               1  0.56552   \n",
       "6             0.000378           0.112305               1  0.56442   \n",
       "7             0.003419           0.059824               1  0.56510   \n",
       "8             0.007834           0.081144               1  0.56270   \n",
       "9             0.008197           0.188725               1  0.55894   \n",
       "\n",
       "   num_samples  noise_var                                exp_id  \n",
       "0        28673        1.0  5cf6e460-0eb7-434f-ac4c-612555511763  \n",
       "1        28601        2.0  5cf6e460-0eb7-434f-ac4c-612555511763  \n",
       "2        28580        3.0  5cf6e460-0eb7-434f-ac4c-612555511763  \n",
       "3        28452        4.0  5cf6e460-0eb7-434f-ac4c-612555511763  \n",
       "4        28322        5.0  5cf6e460-0eb7-434f-ac4c-612555511763  \n",
       "5        28276        6.0  5cf6e460-0eb7-434f-ac4c-612555511763  \n",
       "6        28221        7.0  5cf6e460-0eb7-434f-ac4c-612555511763  \n",
       "7        28255        8.0  5cf6e460-0eb7-434f-ac4c-612555511763  \n",
       "8        28135        9.0  5cf6e460-0eb7-434f-ac4c-612555511763  \n",
       "9        27947       10.0  5cf6e460-0eb7-434f-ac4c-612555511763  "
      ]
     },
     "execution_count": 58,
     "metadata": {},
     "output_type": "execute_result"
    }
   ],
   "source": [
    "reader = CollectionReader(args.out_dir + '/' + args.exp)\n",
    "logs = reader.df(args.table_name)\n",
    "# poor_results = reader.df('poor_results')\n",
    "reader.close()\n",
    "logs.head(10)"
   ]
  },
  {
   "cell_type": "code",
   "execution_count": 59,
   "metadata": {},
   "outputs": [],
   "source": [
    "logs['unknown_epsilon'] = logs['unknown_param_mse'] + logs['unknown_var_l1']\n",
    "logs['trunc_reg_epsilon'] = logs['trunc_reg_param_mse'] + logs['trunc_reg_var_mse']\n",
    "logs['ols_epsilon'] = logs['ols_param_mse'] + logs['ols_var_l1']"
   ]
  },
  {
   "cell_type": "code",
   "execution_count": 60,
   "metadata": {},
   "outputs": [],
   "source": [
    "logs['unknown_param_mse'] = logs['unknown_param_mse'] **(1/2)\n",
    "logs['known_param_mse'] = logs['known_param_mse'] **(1/2)\n",
    "logs['ols_param_mse'] = logs['ols_param_mse'] **(1/2)\n",
    "# known_emp_logs['known_emp_param_mse'] = known_emp_logs['known_emp_param_mse'] **(1/2)\n",
    "logs['trunc_reg_param_mse'] = logs['trunc_reg_param_mse'] **(1/2)"
   ]
  },
  {
   "cell_type": "code",
   "execution_count": 62,
   "metadata": {
    "scrolled": false
   },
   "outputs": [
    {
     "data": {
      "image/png": "[encoded data removed]",
      "text/plain": [
       "<Figure size 432x288 with 1 Axes>"
      ]
     },
     "metadata": {
      "needs_background": "light"
     },
     "output_type": "display_data"
    },
    {
     "data": {
      "text/plain": [
       "Text(0.5, 1.0, '100 Dimensions : Variance')"
      ]
     },
     "execution_count": 62,
     "metadata": {},
     "output_type": "execute_result"
    },
    {
     "data": {
      "image/png": "[encoded data removed]",
      "text/plain": [
       "<Figure size 432x288 with 1 Axes>"
      ]
     },
     "metadata": {
      "needs_background": "light"
     },
     "output_type": "display_data"
    }
   ],
   "source": [
    "sns.lineplot(data=logs, x='noise_var', y='ols_param_mse', label='ols', color='r')\n",
    "# sns.lineplot(data=known_emp_logs, x='noise_var', y='known_emp_param_mse', color='purple', label='known - $\\sigma_{0}^{2}$')\n",
    "sns.lineplot(data=logs, x='noise_var', y='known_param_mse', label='known - $\\sigma^{*2}$', color='blue')\n",
    "sns.lineplot(data=logs, x='noise_var', y='trunc_reg_param_mse', label='truncreg', color='orange')\n",
    "ax = sns.lineplot(data=logs, x='noise_var', y='unknown_param_mse', label='unknown', color='green')\n",
    "\n",
    "ax.set(xlabel='$\\sigma^{*2}$', ylabel='$||\\hat w - w^{*}||_{2}$')\n",
    "ax.set_title(args.exp + \" : Model Weights\")\n",
    "ax.set_title(\"100 Dimensions: Model Weights\")\n",
    "\n",
    "plt.show()\n",
    "\n",
    "sns.lineplot(data=logs, x='noise_var', y='ols_var_l1', label='ols', color='red')\n",
    "sns.lineplot(data=logs, x='noise_var', y='trunc_reg_var_mse', label='truncreg', color='orange')\n",
    "ax = sns.lineplot(data=logs, x='noise_var', y='unknown_var_l1', label='unknown', color='green')\n",
    "ax.set(xlabel='$\\sigma^{*2}$', ylabel='$|\\hat \\sigma^{2} - \\sigma^{*2}|$')\n",
    "ax.set_title(\"100 Dimensions : Variance\")"
   ]
  },
  {
   "cell_type": "code",
   "execution_count": 46,
   "metadata": {},
   "outputs": [],
   "source": [
    "alpha = 5.0 \n",
    "lower_p = (alpha / 2.0) / 100\n",
    "upper_p = ((100 - alpha) + (alpha / 2.0)) / 100\n",
    "\n",
    "\n",
    "trunc_reg_w_scores, trunc_reg_var_scores = [], [] \n",
    "unknown_w_score, unknown_var_scores = [], []\n",
    "known_scores = []\n",
    "ols_scores = {}\n",
    "for var in range(1, args.var + 1):\n",
    "    trunc_reg_w_scores, trunc_reg_var_scores = [], [] \n",
    "    unknown_w_score, unknown_var_scores = [], []\n",
    "    known_scores = []\n",
    "    ols_w_scores, ols_var_scores = [], []\n",
    "    temp_logs = logs[logs.noise_var == var]\n",
    "\n",
    "    for i in range(100):\n",
    "#         # bootstrap sample\n",
    "#         indices = randint(0, args.trials, args.trials)\n",
    "        ols_w_scores.append(temp_logs.ols_param_mse.reset_index().loc[list(ch.randint(args.trials, (args.trials,)))].ols_param_mse.mean())\n",
    "        ols_var_scores.append(temp_logs.ols_var_l1.reset_index().loc[list(ch.randint(args.trials, (args.trials,)))].ols_var_l1.mean())\n",
    "        \n",
    "        \n",
    "#         trunc_reg_w_scores.append()\n",
    "#         break\n",
    "    ols_w_scores, ols_var_scores = Tensor(ols_w_scores), Tensor(ols_var_scores)\n",
    "    w_median = ols_w_scores.median()\n",
    "    var_median = ols_var_scores.median()\n",
    "    # calculate 95% confidence interval (100 - alpha)\n",
    "    w_lower, w_upper = ch.quantile(ols_w_scores, lower_p), ch.quantile(ols_w_scores, upper_p)\n",
    "    var_lower, var_upper = ch.quantile(ols_var_scores, lower_p), ch.quantile(ols_var_scores, upper_p)\n",
    "    ols_scores['w_' + str(var)] = (float(w_median), float(w_lower), float(w_upper))\n",
    "    ols_scores['var_' + str(var)] = (float(var_median), float(var_lower), float(var_upper))"
   ]
  },
  {
   "cell_type": "code",
   "execution_count": 174,
   "metadata": {},
   "outputs": [
    {
     "data": {
      "text/plain": [
       "6     3.030272\n",
       "6     3.030272\n",
       "19    3.223487\n",
       "15    2.931073\n",
       "2     3.547897\n",
       "9     3.126174\n",
       "16    3.001810\n",
       "0     2.873226\n",
       "4     2.735724\n",
       "7     3.405046\n",
       "2     3.547897\n",
       "5     2.645933\n",
       "2     3.547897\n",
       "0     2.873226\n",
       "9     3.126174\n",
       "11    3.054120\n",
       "16    3.001810\n",
       "1     3.001408\n",
       "12    2.722246\n",
       "0     2.873226\n",
       "Name: ols_param_mse, dtype: float64"
      ]
     },
     "execution_count": 174,
     "metadata": {},
     "output_type": "execute_result"
    }
   ],
   "source": [
    "temp_logs.ols_param_mse.reset_index().loc[list(ch.randint(args.trials, (args.trials,)))].ols_param_mse"
   ]
  },
  {
   "cell_type": "code",
   "execution_count": 77,
   "metadata": {},
   "outputs": [
    {
     "data": {
      "text/plain": [
       "(tensor([ 14.7640,  -8.7930,  -0.6456,  -1.4492,   9.8987, -12.2191,  -6.0607,\n",
       "         -10.0656,   0.3224,  12.2131,   0.4597]),\n",
       " tensor([ 14.7640,  -8.7930,  -0.6456,  -1.4492,   9.8987, -12.2191,  -6.0607,\n",
       "         -10.0656,   0.3224,  12.2131,   0.4597]))"
      ]
     },
     "execution_count": 77,
     "metadata": {},
     "output_type": "execute_result"
    }
   ],
   "source": [
    "ols_params, gt_params"
   ]
  },
  {
   "cell_type": "code",
   "execution_count": 167,
   "metadata": {},
   "outputs": [],
   "source": [
    "alpha = 5.0 \n",
    "ols_ = {}\n",
    "for key in ols_scores.keys():\n",
    "    median = ols_scores[key].mean()\n",
    "    # calculate 95% confidence interval (100 - alpha)\n",
    "    lower_p = alpha / 2.0\n",
    "    lower = ch.quantile(ols_scores[key], lower_p / 100)\n",
    "    upper_p = (100 - alpha) + (alpha / 2.0)\n",
    "    upper = ch.quantile(ols_scores[key], upper_p / 100)"
   ]
  },
  {
   "cell_type": "code",
   "execution_count": 168,
   "metadata": {},
   "outputs": [
    {
     "data": {
      "text/plain": [
       "(tensor(2.6757), tensor(2.5450), tensor(2.8050))"
      ]
     },
     "execution_count": 168,
     "metadata": {},
     "output_type": "execute_result"
    }
   ],
   "source": [
    "median, lower, upper"
   ]
  },
  {
   "cell_type": "code",
   "execution_count": 165,
   "metadata": {},
   "outputs": [
    {
     "data": {
      "text/plain": [
       "tensor(2.8050)"
      ]
     },
     "execution_count": 165,
     "metadata": {},
     "output_type": "execute_result"
    }
   ],
   "source": []
  },
  {
   "cell_type": "code",
   "execution_count": 74,
   "metadata": {},
   "outputs": [],
   "source": [
    "import torch.linalg as LA\n",
    "l_inf = LA.norm(X, dim=-1, ord=float('inf')).max()\n",
    "beta = l_inf * X.size(1) ** (.5)"
   ]
  },
  {
   "cell_type": "code",
   "execution_count": 75,
   "metadata": {},
   "outputs": [],
   "source": [
    "x_norm = X / beta"
   ]
  },
  {
   "cell_type": "code",
   "execution_count": 76,
   "metadata": {},
   "outputs": [
    {
     "data": {
      "text/plain": [
       "LinearRegression()"
      ]
     },
     "execution_count": 76,
     "metadata": {},
     "output_type": "execute_result"
    }
   ],
   "source": [
    "gt_norm = LinearRegression()\n",
    "gt_norm.fit(x_norm, y)"
   ]
  },
  {
   "cell_type": "code",
   "execution_count": 66,
   "metadata": {},
   "outputs": [
    {
     "data": {
      "text/plain": [
       "tensor(10.9179)"
      ]
     },
     "execution_count": 66,
     "metadata": {},
     "output_type": "execute_result"
    }
   ],
   "source": [
    "mse_loss(gt_params, ols_params)"
   ]
  },
  {
   "cell_type": "code",
   "execution_count": 67,
   "metadata": {},
   "outputs": [
    {
     "data": {
      "text/plain": [
       "tensor(4.6358)"
      ]
     },
     "execution_count": 67,
     "metadata": {},
     "output_type": "execute_result"
    }
   ],
   "source": [
    "mse_loss(gt_params, unknown_params)"
   ]
  },
  {
   "cell_type": "code",
   "execution_count": 68,
   "metadata": {},
   "outputs": [
    {
     "data": {
      "text/plain": [
       "tensor(0.6809)"
      ]
     },
     "execution_count": 68,
     "metadata": {},
     "output_type": "execute_result"
    }
   ],
   "source": [
    "mse_loss(gt_params, trunc_reg_params)"
   ]
  },
  {
   "cell_type": "code",
   "execution_count": 69,
   "metadata": {},
   "outputs": [
    {
     "data": {
      "text/plain": [
       "tensor([[7.6996]])"
      ]
     },
     "execution_count": 69,
     "metadata": {},
     "output_type": "execute_result"
    }
   ],
   "source": [
    "unknown_var"
   ]
  },
  {
   "cell_type": "code",
   "execution_count": 18,
   "metadata": {},
   "outputs": [
    {
     "data": {
      "text/plain": [
       "tensor([  3.9563,  -2.1333,  14.2551,   3.8213,  15.4614,   4.9579,  -9.0674,\n",
       "         -2.0776, -22.9507,   1.7435, -15.0486, -12.5794, -10.7078,   5.4796,\n",
       "        -12.4827, -18.2917,   7.3877,  -1.8538,  12.7872,  28.2893,   7.2695,\n",
       "        -23.4611,   4.1070,  -7.8159, -26.8121,  -4.9069,   3.9623, -19.8507,\n",
       "         18.4712,  21.4679, -16.2436,  13.5543,   7.7817,   7.9466,  19.6852,\n",
       "        -11.2978,  -5.4686,  27.9285, -25.3441, -11.0517, -12.0706,  18.5779,\n",
       "        -17.0258,  10.5283,  17.4846, -21.7057,   1.7203, -18.1620, -24.4898,\n",
       "        -17.9561,   0.1242])"
      ]
     },
     "execution_count": 18,
     "metadata": {},
     "output_type": "execute_result"
    }
   ],
   "source": [
    "known_params"
   ]
  },
  {
   "cell_type": "code",
   "execution_count": 19,
   "metadata": {},
   "outputs": [
    {
     "data": {
      "text/plain": [
       "tensor([ 5.9634e+00, -2.0752e+00,  1.8667e+01,  4.8233e+00,  1.9721e+01,\n",
       "         7.3837e+00, -8.8153e+00, -5.0976e+00, -2.9605e+01,  4.1421e+00,\n",
       "        -1.6852e+01, -1.6086e+01, -1.0001e+01,  7.1236e+00, -1.5981e+01,\n",
       "        -2.2199e+01,  9.3080e+00, -1.1664e-01,  1.7001e+01,  3.3980e+01,\n",
       "         9.7936e+00, -2.6875e+01,  3.2644e+00, -8.8556e+00, -3.2118e+01,\n",
       "        -7.0600e+00,  5.2906e+00, -2.4072e+01,  2.5453e+01,  2.3790e+01,\n",
       "        -1.9619e+01,  1.6363e+01,  1.2499e+01,  9.4148e+00,  2.3510e+01,\n",
       "        -1.5088e+01, -6.0113e+00,  3.4654e+01, -3.0869e+01, -1.3696e+01,\n",
       "        -1.4208e+01,  2.3122e+01, -1.8836e+01,  1.0621e+01,  2.2132e+01,\n",
       "        -2.8544e+01,  1.3559e+00, -2.0967e+01, -3.0735e+01, -2.4453e+01,\n",
       "         1.5681e-02])"
      ]
     },
     "execution_count": 19,
     "metadata": {},
     "output_type": "execute_result"
    }
   ],
   "source": [
    "gt_params"
   ]
  },
  {
   "cell_type": "code",
   "execution_count": 20,
   "metadata": {},
   "outputs": [],
   "source": [
    "w, w0 = (known_trunc_reg.coef_ * noise_var), known_trunc_reg.intercept_[..., None] * noise_var + y_trunc_mu\n",
    "tmp_known_params = ch.cat([w, w0], dim=1).flatten()\n"
   ]
  },
  {
   "cell_type": "code",
   "execution_count": 23,
   "metadata": {},
   "outputs": [
    {
     "data": {
      "text/plain": [
       "tensor(13.3135)"
      ]
     },
     "execution_count": 23,
     "metadata": {},
     "output_type": "execute_result"
    }
   ],
   "source": [
    "mse_loss(gt_params, known_params)"
   ]
  },
  {
   "cell_type": "code",
   "execution_count": 61,
   "metadata": {},
   "outputs": [
    {
     "data": {
      "text/plain": [
       "tensor([[0, 1, 6, 3, 5, 4, 2],\n",
       "        [0, 1, 2, 6, 5, 4, 3]])"
      ]
     },
     "execution_count": 61,
     "metadata": {},
     "output_type": "execute_result"
    }
   ],
   "source": [
    "tmp.sort(dim=1).indices"
   ]
  },
  {
   "cell_type": "code",
   "execution_count": 26,
   "metadata": {},
   "outputs": [],
   "source": [
    "ols_ = LinearRegression().fit(x_trunc, stand_y_trunc)"
   ]
  },
  {
   "cell_type": "code",
   "execution_count": 27,
   "metadata": {},
   "outputs": [
    {
     "data": {
      "text/plain": [
       "tensor(0.8968)"
      ]
     },
     "execution_count": 27,
     "metadata": {},
     "output_type": "execute_result"
    }
   ],
   "source": [
    "(stand_y_trunc - ols_.predict(x_trunc)).var()"
   ]
  },
  {
   "cell_type": "code",
   "execution_count": 28,
   "metadata": {},
   "outputs": [
    {
     "data": {
      "text/plain": [
       "tensor(0.9444)"
      ]
     },
     "execution_count": 28,
     "metadata": {},
     "output_type": "execute_result"
    }
   ],
   "source": [
    "(stand_y_trunc - known_trunc_reg.predict(x_trunc)).var()"
   ]
  },
  {
   "cell_type": "code",
   "execution_count": 35,
   "metadata": {},
   "outputs": [],
   "source": [
    "w_, w0_ = (known_trunc_reg.coef_ * ch.sqrt(noise_var)), known_trunc_reg.intercept_[..., None] * ch.sqrt(noise_var) + y_trunc_mu"
   ]
  },
  {
   "cell_type": "code",
   "execution_count": 36,
   "metadata": {},
   "outputs": [
    {
     "data": {
      "text/plain": [
       "(torch.Size([5061, 50]), torch.Size([1, 50]))"
      ]
     },
     "execution_count": 36,
     "metadata": {},
     "output_type": "execute_result"
    }
   ],
   "source": [
    "x_trunc.size(), w_.size()"
   ]
  },
  {
   "cell_type": "code",
   "execution_count": 37,
   "metadata": {},
   "outputs": [],
   "source": [
    "trunc_pred = x_trunc@w_.T + w0_"
   ]
  },
  {
   "cell_type": "code",
   "execution_count": 38,
   "metadata": {},
   "outputs": [
    {
     "data": {
      "text/plain": [
       "tensor(9.4439)"
      ]
     },
     "execution_count": 38,
     "metadata": {},
     "output_type": "execute_result"
    }
   ],
   "source": [
    "(y_trunc - trunc_pred).var()"
   ]
  },
  {
   "cell_type": "code",
   "execution_count": 40,
   "metadata": {},
   "outputs": [
    {
     "data": {
      "text/plain": [
       "tensor(8.9684)"
      ]
     },
     "execution_count": 40,
     "metadata": {},
     "output_type": "execute_result"
    }
   ],
   "source": [
    "(y_trunc - ols.predict(x_trunc)).var()"
   ]
  },
  {
   "cell_type": "code",
   "execution_count": 46,
   "metadata": {},
   "outputs": [
    {
     "data": {
      "text/plain": [
       "tensor(9.8498)"
      ]
     },
     "execution_count": 46,
     "metadata": {},
     "output_type": "execute_result"
    }
   ],
   "source": [
    "(y_trunc - gt_ols.predict(x_trunc)).var()"
   ]
  },
  {
   "cell_type": "code",
   "execution_count": 53,
   "metadata": {},
   "outputs": [
    {
     "data": {
      "text/plain": [
       "tensor([0.9970])"
      ]
     },
     "execution_count": 53,
     "metadata": {},
     "output_type": "execute_result"
    }
   ],
   "source": [
    "from torch.nn import CosineSimilarity\n",
    "cos_sim = CosineSimilarity()\n",
    "cos_sim(known_params[None,...], gt_params[None,...])"
   ]
  },
  {
   "cell_type": "code",
   "execution_count": 57,
   "metadata": {},
   "outputs": [
    {
     "data": {
      "text/plain": [
       "tensor([0.9996])"
      ]
     },
     "execution_count": 57,
     "metadata": {},
     "output_type": "execute_result"
    }
   ],
   "source": [
    "cos_sim(ols_params[None,...], gt_params[None,...])"
   ]
  },
  {
   "cell_type": "code",
   "execution_count": 58,
   "metadata": {},
   "outputs": [
    {
     "data": {
      "text/plain": [
       "tensor(6.3956)"
      ]
     },
     "execution_count": 58,
     "metadata": {},
     "output_type": "execute_result"
    }
   ],
   "source": [
    "mse_loss(ols_params[None,...], gt_params[None,...])"
   ]
  },
  {
   "cell_type": "code",
   "execution_count": 59,
   "metadata": {},
   "outputs": [
    {
     "data": {
      "text/plain": [
       "tensor(13.3135)"
      ]
     },
     "execution_count": 59,
     "metadata": {},
     "output_type": "execute_result"
    }
   ],
   "source": [
    "mse_loss(known_params[None,...], gt_params[None,...])"
   ]
  },
  {
   "cell_type": "code",
   "execution_count": 60,
   "metadata": {},
   "outputs": [
    {
     "data": {
      "text/plain": [
       "tensor([  3.9563,  -2.1333,  14.2551,   3.8213,  15.4614,   4.9579,  -9.0674,\n",
       "         -2.0776, -22.9507,   1.7435, -15.0486, -12.5794, -10.7078,   5.4796,\n",
       "        -12.4827, -18.2917,   7.3877,  -1.8538,  12.7872,  28.2893,   7.2695,\n",
       "        -23.4611,   4.1070,  -7.8159, -26.8121,  -4.9069,   3.9623, -19.8507,\n",
       "         18.4712,  21.4679, -16.2436,  13.5543,   7.7817,   7.9466,  19.6852,\n",
       "        -11.2978,  -5.4686,  27.9285, -25.3441, -11.0517, -12.0706,  18.5779,\n",
       "        -17.0258,  10.5283,  17.4846, -21.7057,   1.7203, -18.1620, -24.4898,\n",
       "        -17.9561,   0.1242])"
      ]
     },
     "execution_count": 60,
     "metadata": {},
     "output_type": "execute_result"
    }
   ],
   "source": [
    "known_params"
   ]
  },
  {
   "cell_type": "code",
   "execution_count": 61,
   "metadata": {},
   "outputs": [
    {
     "data": {
      "text/plain": [
       "tensor([ 5.9634e+00, -2.0752e+00,  1.8667e+01,  4.8233e+00,  1.9721e+01,\n",
       "         7.3837e+00, -8.8153e+00, -5.0976e+00, -2.9605e+01,  4.1421e+00,\n",
       "        -1.6852e+01, -1.6086e+01, -1.0001e+01,  7.1236e+00, -1.5981e+01,\n",
       "        -2.2199e+01,  9.3080e+00, -1.1664e-01,  1.7001e+01,  3.3980e+01,\n",
       "         9.7936e+00, -2.6875e+01,  3.2644e+00, -8.8556e+00, -3.2118e+01,\n",
       "        -7.0600e+00,  5.2906e+00, -2.4072e+01,  2.5453e+01,  2.3790e+01,\n",
       "        -1.9619e+01,  1.6363e+01,  1.2499e+01,  9.4148e+00,  2.3510e+01,\n",
       "        -1.5088e+01, -6.0113e+00,  3.4654e+01, -3.0869e+01, -1.3696e+01,\n",
       "        -1.4208e+01,  2.3122e+01, -1.8836e+01,  1.0621e+01,  2.2132e+01,\n",
       "        -2.8544e+01,  1.3559e+00, -2.0967e+01, -3.0735e+01, -2.4453e+01,\n",
       "         1.5681e-02])"
      ]
     },
     "execution_count": 61,
     "metadata": {},
     "output_type": "execute_result"
    }
   ],
   "source": [
    "gt_params"
   ]
  },
  {
   "cell_type": "code",
   "execution_count": 140,
   "metadata": {},
   "outputs": [],
   "source": [
    "A = ch.eye(2)\n",
    "B = ch.eye(2) * (-2)"
   ]
  },
  {
   "cell_type": "code",
   "execution_count": 141,
   "metadata": {},
   "outputs": [],
   "source": [
    "ab_diff = B - A"
   ]
  },
  {
   "cell_type": "code",
   "execution_count": 145,
   "metadata": {},
   "outputs": [],
   "source": [
    "diff = ab_diff.renorm(p=2, dim=1, maxnorm=.50)"
   ]
  },
  {
   "cell_type": "code",
   "execution_count": 146,
   "metadata": {},
   "outputs": [
    {
     "data": {
      "text/plain": [
       "tensor([[0.5000, 0.0000],\n",
       "        [0.0000, 0.5000]])"
      ]
     },
     "execution_count": 146,
     "metadata": {},
     "output_type": "execute_result"
    }
   ],
   "source": [
    "A + diff"
   ]
  },
  {
   "cell_type": "code",
   "execution_count": 147,
   "metadata": {},
   "outputs": [
    {
     "data": {
      "text/plain": [
       "tensor([[-0.5000, -0.0000],\n",
       "        [-0.0000, -0.5000]])"
      ]
     },
     "execution_count": 147,
     "metadata": {},
     "output_type": "execute_result"
    }
   ],
   "source": [
    "diff"
   ]
  },
  {
   "cell_type": "code",
   "execution_count": 63,
   "metadata": {},
   "outputs": [],
   "source": [
    "dict1 = {  'Ritika': 5, 'Sam': 7, 'John' : 10 }"
   ]
  },
  {
   "cell_type": "code",
   "execution_count": 64,
   "metadata": {},
   "outputs": [],
   "source": [
    "dict2 = {'Aadi': 8,'Sam': 20,'Mark' : 11 }"
   ]
  },
  {
   "cell_type": "code",
   "execution_count": 65,
   "metadata": {},
   "outputs": [],
   "source": [
    "dict1.update(dict2)"
   ]
  },
  {
   "cell_type": "code",
   "execution_count": 66,
   "metadata": {},
   "outputs": [
    {
     "data": {
      "text/plain": [
       "{'Ritika': 5, 'Sam': 20, 'John': 10, 'Aadi': 8, 'Mark': 11}"
      ]
     },
     "execution_count": 66,
     "metadata": {},
     "output_type": "execute_result"
    }
   ],
   "source": [
    "dict1"
   ]
  },
  {
   "cell_type": "code",
   "execution_count": null,
   "metadata": {},
   "outputs": [],
   "source": []
  }
 ],
 "metadata": {
  "kernelspec": {
   "display_name": "Python 2",
   "language": "python",
   "name": "python2"
  },
  "language_info": {
   "codemirror_mode": {
    "name": "ipython",
    "version": 3
   },
   "file_extension": ".py",
   "mimetype": "text/x-python",
   "name": "python",
   "nbconvert_exporter": "python",
   "pygments_lexer": "ipython3",
   "version": "3.7.4"
  },
  "latex_envs": {
   "LaTeX_envs_menu_present": true,
   "autoclose": false,
   "autocomplete": true,
   "bibliofile": "biblio.bib",
   "cite_by": "apalike",
   "current_citInitial": 1,
   "eqLabelWithNumbers": true,
   "eqNumInitial": 1,
   "hotkeys": {
    "equation": "Ctrl-E",
    "itemize": "Ctrl-I"
   },
   "labels_anchors": false,
   "latex_user_defs": false,
   "report_style_numbering": false,
   "user_envs_cfg": false
  },
  "toc": {
   "base_numbering": 1,
   "nav_menu": {},
   "number_sections": true,
   "sideBar": true,
   "skip_h1_title": false,
   "title_cell": "Table of Contents",
   "title_sidebar": "Contents",
   "toc_cell": false,
   "toc_position": {},
   "toc_section_display": true,
   "toc_window_display": false
  },
  "varInspector": {
   "cols": {
    "lenName": 16,
    "lenType": 16,
    "lenVar": 40
   },
   "kernels_config": {
    "python": {
     "delete_cmd_postfix": "",
     "delete_cmd_prefix": "del ",
     "library": "var_list.py",
     "varRefreshCmd": "print(var_dic_list())"
    },
    "r": {
     "delete_cmd_postfix": ") ",
     "delete_cmd_prefix": "rm(",
     "library": "var_list.r",
     "varRefreshCmd": "cat(var_dic_list()) "
    }
   },
   "types_to_exclude": [
    "module",
    "function",
    "builtin_function_or_method",
    "instance",
    "_Feature"
   ],
   "window_display": false
  }
 },
 "nbformat": 4,
 "nbformat_minor": 4
}
