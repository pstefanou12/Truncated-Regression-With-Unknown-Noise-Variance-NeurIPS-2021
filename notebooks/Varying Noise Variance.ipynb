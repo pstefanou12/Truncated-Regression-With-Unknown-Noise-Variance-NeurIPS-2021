{
 "cells": [
  {
   "cell_type": "markdown",
   "metadata": {
    "id": "oXpxFPlMirr0"
   },
   "source": [
    "# Varying Noise Experiment\n",
    "In this notebook, we test our algorithm in setting where there is a lot of noise variance. We then compare our results to other methods on the same task."
   ]
  },
  {
   "cell_type": "code",
   "execution_count": 1,
   "metadata": {
    "cellView": "form",
    "colab": {
     "base_uri": "https://localhost:8080/"
    },
    "executionInfo": {
     "elapsed": 87726,
     "status": "ok",
     "timestamp": 1649778758315,
     "user": {
      "displayName": "Pat Stefanou",
      "userId": "03550109589279644114"
     },
     "user_tz": 240
    },
    "id": "4cqcUgjzirr2",
    "outputId": "b680bf53-f23b-4ab2-d16a-8e68a8fa7c04"
   },
   "outputs": [],
   "source": [
    "# #@title Run this to setup libraries and mount drive\n",
    "# %load_ext autoreload\n",
    "# # swig required for building wheel for orthnet package\n",
    "# !apt-get install swig\n",
    "# !pip3 install orthnet \n",
    "# !pip install GPUtil\n",
    "# !pip3 install cox\n",
    "# !pip install tensorboardX\n",
    "# !pip install delphi.ai --no-cache-dir\n",
    "\n",
    "# # mount google drive locally onto colab\n",
    "# from google.colab import drive\n",
    "# drive.mount('/content/drive', force_remount=True)\n",
    "\n",
    "import sys \n",
    "\n",
    "sys.path.append('/Users/patroklos/Desktop/delphi_')\n",
    "\n",
    "\n",
    "import subprocess \n",
    "import torch as ch\n",
    "from torch import Tensor\n",
    "import torch.linalg as LA\n",
    "\n",
    "from torch.distributions import Uniform\n",
    "from torch.distributions.multivariate_normal import MultivariateNormal\n",
    "import pandas as pd\n",
    "import numpy as np\n",
    "import csv\n",
    "import json\n",
    "from cox.store import Store\n",
    "from cox.readers import CollectionReader\n",
    "import os\n",
    "from sklearn.linear_model import LinearRegression\n",
    "from sklearn.metrics import r2_score\n",
    "import datetime\n",
    "import seaborn as sns\n",
    "import matplotlib.pyplot as plt\n",
    "import datetime\n",
    "import math \n",
    "import IPython \n",
    "\n",
    "from delphi.stats.truncated_linear_regression import TruncatedLinearRegression\n",
    "from delphi import oracle\n",
    "from delphi.utils.helpers import Parameters\n",
    "\n",
    "# commands and arguments\n",
    "COMMAND = 'Rscript'\n",
    "PATH2SCRIPT = './truncreg.R'\n",
    "TMP_FILE = 'tmp.csv'\n",
    "RESULT_FILE = 'result.csv'\n",
    "\n",
    "# mean squared error loss\n",
    "mse_loss = ch.nn.MSELoss(reduction='mean')"
   ]
  },
  {
   "cell_type": "code",
   "execution_count": 146,
   "metadata": {
    "executionInfo": {
     "elapsed": 8,
     "status": "ok",
     "timestamp": 1649778758317,
     "user": {
      "displayName": "Pat Stefanou",
      "userId": "03550109589279644114"
     },
     "user_tz": 240
    },
    "id": "3ivyYgVIirr5"
   },
   "outputs": [],
   "source": [
    "args = Parameters({\n",
    "    \"samples\": 5000, # number of samples to generate for ground-truth\n",
    "    \"c\": 0, # left truncation parameter\n",
    "    \"trials\": 20,\n",
    "    \"x_lower\": -10,  # lower bound for generating input features\n",
    "    \"x_upper\": 10,  # upper bound for generating input features\n",
    "    \"lower\": -1, # lower bound for generating ground-truth\n",
    "    \"upper\": 1, # lower bound for generating ground-truth\n",
    "    'var': 10,  # maximum variance to use in procedure \n",
    "    'fit_intercept': True, \n",
    "    'exp': 'revival', \n",
    "    'out_dir': 'drive/MyDrive/Results/trunc_reg/',\n",
    "})"
   ]
  },
  {
   "cell_type": "markdown",
   "metadata": {
    "id": "gMT3FjBfirr6"
   },
   "source": [
    "I will first begin, by showing how to use our algorithm in a 1 dimensional setting. I will sample input features from a Uniform distribution, I will also sample my ground-truth from a Uniform distribution, and I will add Gaussian noise with noise variance 10."
   ]
  },
  {
   "cell_type": "code",
   "execution_count": 147,
   "metadata": {
    "colab": {
     "base_uri": "https://localhost:8080/",
     "height": 461
    },
    "executionInfo": {
     "elapsed": 615,
     "status": "ok",
     "timestamp": 1649778758925,
     "user": {
      "displayName": "Pat Stefanou",
      "userId": "03550109589279644114"
     },
     "user_tz": 240
    },
    "id": "sVeJPMnWirr6",
    "outputId": "318f1b93-7803-41ad-c473-f27ffe73816f"
   },
   "outputs": [
    {
     "name": "stdout",
     "output_type": "stream",
     "text": [
      "gt weight: Parameter containing:\n",
      "tensor([[-0.1465,  0.2593, -0.7988, -0.6592, -0.9728,  0.7571,  0.7031,  0.1806,\n",
      "         -0.8125,  0.8270]], requires_grad=True)\n",
      "gt intercept: Parameter containing:\n",
      "tensor([[0.9286]], requires_grad=True)\n",
      "y trunc size: torch.Size([2658, 1])\n",
      "x truncc size: torch.Size([2658, 10])\n",
      "alpha: 0.5316\n",
      "gt ols coef:  [[ -5.565523    9.803856  -30.101515  -25.001205  -36.729042   28.435383\n",
      "   26.456596    6.9692683 -30.514868   31.182955 ]]\n",
      "gt ols intercept:  [-0.06029701]\n",
      "trunc ols coef:  [[ -5.4569325   9.699234  -29.897488  -24.77415   -36.165806   28.238518\n",
      "   26.112127    6.963383  -30.029976   30.887775 ]]\n",
      "trunc ols intercept:  [-3.772859e-07]\n",
      "emp noise var:  tensor([0.9730])\n"
     ]
    }
   ],
   "source": [
    "# distribution for generating feature vectors\n",
    "d, k = 10, 1\n",
    "W = Uniform(args.lower, args.upper)\n",
    "M = Uniform(args.x_lower, args.x_upper)\n",
    "phi = oracle.Left_Regression(Tensor([args.C]))\n",
    "# phi = oracle.Identity()\n",
    "\n",
    "# generate ground truth\n",
    "gt = ch.nn.Linear(in_features=d, out_features=k)\n",
    "gt.weight = ch.nn.Parameter(W.sample(ch.Size([k, d])))\n",
    "\n",
    "# gt.bias = ch.nn.Parameter(ch.ones(1, 1)) if args.bias else None\n",
    "gt.bias = ch.nn.Parameter(W.sample(ch.Size([1, 1]))) if args.fit_intercept else None\n",
    "\n",
    "weight, intercept = gt.weight, gt.bias\n",
    "print(f\"gt weight: {weight}\")\n",
    "if args.fit_intercept:\n",
    "    print(f\"gt intercept: {intercept}\")\n",
    "\n",
    "# create base classifier\n",
    "with ch.no_grad():\n",
    "    # generate data\n",
    "    X = M.sample(ch.Size([args.samples, d])) if isinstance(M, Uniform) else M.sample(ch.Size([args.samples]))\n",
    "    y = gt(X)\n",
    "\n",
    "noise_var = Tensor([1.0])[...,None]\n",
    "# remove synthetic data from the computation graph\n",
    "with ch.no_grad():\n",
    "    # add noise to ground-truth pedictions\n",
    "    noised = y + ch.sqrt(noise_var) * ch.randn(X.size(0), 1)\n",
    "    # truncate based off of the standardized data\n",
    "    indices = phi(noised).nonzero()[:,0]\n",
    "    y_trunc, x_trunc = noised[indices], X[indices]\n",
    "    print('y trunc size: {}'.format(y_trunc.size()))\n",
    "    print('x truncc size: {}'.format(x_trunc.size()))\n",
    "    alpha = y_trunc.size(0) / y.size(0)\n",
    "    print(f\"alpha: {alpha}\")\n",
    "\n",
    "# normalize input features\n",
    "x_trunc_mu = x_trunc.mean(0)\n",
    "x_trunc_centered = x_trunc - x_trunc_mu\n",
    "l_inf = LA.norm(x_trunc_centered, dim=-1, ord=float('inf')).max()\n",
    "beta = l_inf * (X.size(1) ** .5)\n",
    "x_trunc_norm_centered = x_trunc_centered / beta\n",
    "X_norm_centered = (X - x_trunc_mu) / beta\n",
    "\n",
    "y_trunc_mu = y_trunc.mean(0)\n",
    "y_trunc_centered = y_trunc - y_trunc_mu\n",
    "noised_centered = noised - y_trunc_mu\n",
    "    \n",
    "# ground-truth OLS\n",
    "gt_ols = LinearRegression(fit_intercept=args.fit_intercept)\n",
    "gt_ols.fit(X_norm_centered, noised_centered)\n",
    "if args.fit_intercept:\n",
    "    gt_ = ch.from_numpy(np.concatenate([gt_ols.coef_.flatten(), gt_ols.intercept_]))\n",
    "    print(\"gt ols coef: \", gt_ols.coef_)\n",
    "    print(\"gt ols intercept: \", gt_ols.intercept_)\n",
    "else: \n",
    "    gt_ = gt_ols.coef_.flatten()\n",
    "    print(\"gt ols coef: \", gt_ols.coef_)\n",
    "\n",
    "trunc_ols = LinearRegression(fit_intercept=args.fit_intercept)\n",
    "trunc_ols.fit(x_trunc_norm_centered, y_trunc_centered)\n",
    "trunc_ols_pred = trunc_ols.predict(x_trunc_norm_centered)\n",
    "print(\"trunc ols coef: \", trunc_ols.coef_)\n",
    "if args.fit_intercept:\n",
    "    print(\"trunc ols intercept: \", trunc_ols.intercept_)\n",
    "\n",
    "if X.size(1) == 1:\n",
    "    # data for plotting regressions\n",
    "    data = np.linspace(X_norm_centered.min(), X_norm_centered.max(), 100).reshape(100, 1)\n",
    "\n",
    "    ax = plt.subplot(1, 1, 1)\n",
    "    plt.scatter(X_norm_centered, noised_centered)\n",
    "    plt.scatter(x_trunc_norm_centered, y_trunc_centered)\n",
    "    plt.plot(data, gt_ols.predict(data), color='green', label='gt ols')\n",
    "    plt.plot(data, trunc_ols.predict(data), color='red', label='trunc ols')\n",
    "    plt.legend()\n",
    "    plt.title(\"Empirical and Ground Truth Dataset and Model\")\n",
    "    ax.set_xlabel(\"x\")\n",
    "    ax.set_ylabel(\"y\")\n",
    "    \n",
    "emp_noise_var = (y_trunc - trunc_ols_pred).var(0)\n",
    "print(\"emp noise var: \", emp_noise_var)"
   ]
  },
  {
   "cell_type": "markdown",
   "metadata": {},
   "source": [
    "# Check Truncated Gradients\n",
    "Here, I check my gradients with an identity oracle. To show the correctness of my custom gradients. "
   ]
  },
  {
   "cell_type": "code",
   "execution_count": 7,
   "metadata": {},
   "outputs": [
    {
     "name": "stdout",
     "output_type": "stream",
     "text": [
      "MSE grad: tensor([-0.8781,  0.4699, -1.1361, -2.7447, -2.6426, -0.4210])\n",
      "Trunc MSE grad: tensor([-0.4687,  0.2358, -0.6025, -1.3995, -1.3486,  1.8406])\n",
      "Trunc Unknown Variance MSE grad: tensor([-0.0993,  0.0500, -0.1275, -0.2964, -0.2856,  0.3791])\n",
      "Trunc Unknown Variance Lambda grad: tensor([31.9588])\n"
     ]
    }
   ],
   "source": [
    "from delphi.grad import TruncatedMSE, TruncatedUnknownVarianceMSE\n",
    "\n",
    "weight = ch.cat([gt.weight, gt.bias], axis=1).T\n",
    "# weight.requires_grad = True\n",
    "features = ch.cat([X_norm, ch.ones(X_norm.size(0), 1)], axis=1)\n",
    "\n",
    "pred = features@weight\n",
    "loss = mse_loss(pred, y)\n",
    "mse_grad = ch.autograd.grad(loss, weight)[0].flatten()\n",
    "print('MSE grad: {}'.format(mse_grad))\n",
    "\n",
    "pred = features@weight\n",
    "# trunc_loss = TruncatedMSE.apply(pred, y, oracle.Identity(), noise_var, 1000)\n",
    "trunc_loss = TruncatedMSE.apply(pred, y, phi, noise_var, 10000)\n",
    "# print(f'trunc loss: {trunc_loss}')\n",
    "trunc_mse_grad = ch.autograd.grad(trunc_loss, weight)[0].flatten()\n",
    "print('Trunc MSE grad: {}'.format(trunc_mse_grad))\n",
    "\n",
    "\n",
    "pred = features@weight\n",
    "lambda_ = ch.nn.Parameter(ch.Tensor([[emp_noise_var]])).inverse()\n",
    "# trunc_unknown_loss = TruncatedUnknownVarianceMSE.apply(pred, y, lambda_, oracle.Identity(), 1000)\n",
    "trunc_unknown_loss = TruncatedUnknownVarianceMSE.apply(pred, y, lambda_, phi, 10000)\n",
    "# print(f'trunc unknown loss: {trunc_unknown_loss}')\n",
    "trunc_unknown_mse_grad = ch.autograd.grad(trunc_unknown_loss, weight)[0].flatten()\n",
    "print('Trunc Unknown Variance MSE grad: {}'.format(trunc_unknown_mse_grad))\n",
    "\n",
    "pred = features@weight\n",
    "lambda_ = ch.nn.Parameter(ch.Tensor([[emp_noise_var]])).inverse()\n",
    "trunc_unknown_loss = TruncatedUnknownVarianceMSE.apply(pred, y, lambda_, phi, 10000)\n",
    "trunc_unknown_lambda_grad = ch.autograd.grad(trunc_unknown_loss, lambda_)[0].flatten()\n",
    "print('Trunc Unknown Variance Lambda grad: {}'.format(trunc_unknown_lambda_grad))"
   ]
  },
  {
   "cell_type": "markdown",
   "metadata": {
    "id": "htfzeVveirsA"
   },
   "source": [
    "We will now run our procedure for truncated regression with known variance, assuming that the empirical noise variance is the actual noise variance. Since we applied feature transformations to our truncated dataset, we now need to reverse the trnasformations after the completion of our procedure."
   ]
  },
  {
   "cell_type": "code",
   "execution_count": 68,
   "metadata": {
    "colab": {
     "base_uri": "https://localhost:8080/"
    },
    "executionInfo": {
     "elapsed": 2142,
     "status": "ok",
     "timestamp": 1649778791037,
     "user": {
      "displayName": "Pat Stefanou",
      "userId": "03550109589279644114"
     },
     "user_tz": 240
    },
    "id": "QLimQrI3irsA",
    "outputId": "db66212e-6aad-413f-91a1-a6a90766bfdf"
   },
   "outputs": [
    {
     "name": "stderr",
     "output_type": "stream",
     "text": [
      "Train Epoch:8 | Loss -0.7552 | Prec1: 0.000 | Prec5: 0.000 | Reg term: 0.0 ||:   0%|          | 0/8 [00:00<?, ?it/s]"
     ]
    },
    {
     "name": "stdout",
     "output_type": "stream",
     "text": [
      "trial: 1\n"
     ]
    },
    {
     "name": "stderr",
     "output_type": "stream",
     "text": [
      "                                                                                                                     \r"
     ]
    },
    {
     "data": {
      "text/plain": [
       "<delphi.stats.truncated_linear_regression.TruncatedLinearRegression at 0x7fb8b5301ad0>"
      ]
     },
     "execution_count": 68,
     "metadata": {},
     "output_type": "execute_result"
    }
   ],
   "source": [
    "train_kwargs = Parameters({\n",
    "    'phi': phi, \n",
    "    'alpha': alpha, \n",
    "    'noise_var': float(emp_noise_var), \n",
    "    'epochs': 10,\n",
    "#     'momentum': .25,\n",
    "    'verbose': True,\n",
    "    'trials': 1,\n",
    "})\n",
    "known_emp_trunc_reg = TruncatedLinearRegression(train_kwargs)\n",
    "known_emp_trunc_reg.fit(x_trunc_norm, y_trunc)"
   ]
  },
  {
   "cell_type": "code",
   "execution_count": 69,
   "metadata": {
    "colab": {
     "base_uri": "https://localhost:8080/",
     "height": 622
    },
    "executionInfo": {
     "elapsed": 191,
     "status": "error",
     "timestamp": 1649778793161,
     "user": {
      "displayName": "Pat Stefanou",
      "userId": "03550109589279644114"
     },
     "user_tz": 240
    },
    "id": "hpCEf73CirsB",
    "outputId": "627681b0-17e3-4c78-c3ce-810e000eb8c9"
   },
   "outputs": [
    {
     "name": "stdout",
     "output_type": "stream",
     "text": [
      "mse loss: 9.154183387756348\n"
     ]
    }
   ],
   "source": [
    "if X.size(1) == 1:\n",
    "    ax = plt.subplot(1, 1, 1)\n",
    "    plt.plot(data, trunc_ols.predict(data), color='red', label='ols')\n",
    "\n",
    "    plt.plot(data, known_emp_trunc_reg.predict(Tensor(data)).detach().numpy(), label='known', color='blue')\n",
    "    plt.plot(data, gt_ols.predict(data), color='green', label='gt')\n",
    "    plt.scatter(X_norm, noised, label='entire dataset')\n",
    "    plt.scatter(x_trunc_norm, y_trunc, label='truncated dataset')\n",
    "    plt.legend()\n",
    "    plt.title(\"Empirical Known Noise Variance Results - UnNormalized\")\n",
    "    ax.set_xlabel(\"x\")\n",
    "    ax.set_ylabel(\"y\")\n",
    "known_emp_ = ch.cat([known_emp_trunc_reg.coef_.flatten(), known_emp_trunc_reg.intercept_])\n",
    "loss = mse_loss(known_emp_, gt_)\n",
    "print(f'mse loss: {loss}')"
   ]
  },
  {
   "cell_type": "markdown",
   "metadata": {
    "id": "MAwZxXAKirsC"
   },
   "source": [
    "We now run our procedure for truncated regression with known variance, assuming that we are given the ground-truth noise variance."
   ]
  },
  {
   "cell_type": "code",
   "execution_count": 94,
   "metadata": {},
   "outputs": [
    {
     "name": "stdout",
     "output_type": "stream",
     "text": [
      "Logging in: /Users/patroklos/Desktop/exp/id_debug/b932c491-c48c-4037-9af4-21a7f7417af2\n"
     ]
    }
   ],
   "source": [
    "store = Store('/Users/patroklos/Desktop/exp/id_debug')"
   ]
  },
  {
   "cell_type": "code",
   "execution_count": null,
   "metadata": {
    "colab": {
     "base_uri": "https://localhost:8080/"
    },
    "executionInfo": {
     "elapsed": 9269,
     "status": "ok",
     "timestamp": 1649779026800,
     "user": {
      "displayName": "Pat Stefanou",
      "userId": "03550109589279644114"
     },
     "user_tz": 240
    },
    "id": "nL4aV6gGirsD",
    "outputId": "e6b2bb57-b2d0-4bab-eb64-d9fd4eff2588"
   },
   "outputs": [
    {
     "name": "stderr",
     "output_type": "stream",
     "text": [
      "Train Epoch:1 | Loss -0.0956 | Prec1: 0.000 | Prec5: 0.000 | Reg term: 0.0 ||:   2%|▏         | 48/2127 [00:00<00:04, 479.74it/s]"
     ]
    },
    {
     "name": "stdout",
     "output_type": "stream",
     "text": [
      "trial: 1\n"
     ]
    },
    {
     "name": "stderr",
     "output_type": "stream",
     "text": [
      "Train Epoch:1 | Loss -0.0926 | Prec1: 0.000 | Prec5: 0.000 | Reg term: 0.0 ||:   2%|▏         | 45/2127 [00:00<00:04, 444.42it/s]  "
     ]
    },
    {
     "name": "stdout",
     "output_type": "stream",
     "text": [
      "trial: 2\n"
     ]
    },
    {
     "name": "stderr",
     "output_type": "stream",
     "text": [
      "Train Epoch:3 | Loss 0.0305 | Prec1: 0.000 | Prec5: 0.000 | Reg term: 0.0 ||:  24%|██▎       | 501/2127 [00:01<00:03, 506.14it/s]  "
     ]
    }
   ],
   "source": [
    "y_trunc_scale = y_trunc_centered / ch.sqrt(noise_var)\n",
    "phi_scale = oracle.Left_Regression(phi.left - y_trunc_mu / ch.sqrt(noise_var))\n",
    "\n",
    "train_kwargs = Parameters({\n",
    "    'phi': phi_scale, \n",
    "    'alpha': alpha, \n",
    "#     'noise_var': float(noise_var), \n",
    "    'noise_var': 1.0, \n",
    "    'epochs': 5, \n",
    "    'trials': 3,\n",
    "    'batch_size': 1,\n",
    "#     'step_lr_gamma': 1.0,\n",
    "    'verbose': True,\n",
    "#     'lr': 0.0,\n",
    "#     'momentum': .9,\n",
    "    'fit_intercept': args.fit_intercept\n",
    "})\n",
    "known_trunc_reg = TruncatedLinearRegression(train_kwargs)\n",
    "known_trunc_reg.fit(x_trunc_norm_centered, y_trunc_scale)"
   ]
  },
  {
   "cell_type": "code",
   "execution_count": 128,
   "metadata": {},
   "outputs": [],
   "source": [
    "w = known_trunc_reg.coef_*ch.sqrt(noise_var)\n",
    "w0 = known_trunc_reg.intercept_*ch.sqrt(noise_var)\n",
    "known_ = ch.cat([w, w0]).flatten()"
   ]
  },
  {
   "cell_type": "code",
   "execution_count": 130,
   "metadata": {
    "colab": {
     "base_uri": "https://localhost:8080/",
     "height": 493
    },
    "executionInfo": {
     "elapsed": 734,
     "status": "error",
     "timestamp": 1649779032758,
     "user": {
      "displayName": "Pat Stefanou",
      "userId": "03550109589279644114"
     },
     "user_tz": 240
    },
    "id": "TlnlULWuirsE",
    "outputId": "f6fb92e8-ef67-4476-ad18-39c225d00800"
   },
   "outputs": [
    {
     "data": {
      "image/png": "[encoded data removed]",
      "text/plain": [
       "<Figure size 432x288 with 1 Axes>"
      ]
     },
     "metadata": {
      "needs_background": "light"
     },
     "output_type": "display_data"
    },
    {
     "name": "stdout",
     "output_type": "stream",
     "text": [
      "mse loss: 0.02902061492204666\n"
     ]
    }
   ],
   "source": [
    "if X.size(1) == 1:\n",
    "    ax = plt.subplot(1, 1, 1)\n",
    "    plt.scatter(X_norm_centered, noised_centered, label='entire dataset', alpha=.75)\n",
    "    plt.scatter(x_trunc_norm_centered, y_trunc_centered, label='truncated dataset', alpha=.75)\n",
    "    plt.plot(X_norm_centered, trunc_ols.predict(X_norm_centered), color='r', label='ols')\n",
    "    plt.plot(X_norm_centered, gt_ols.predict(X_norm_centered), color='green', label='gt')\n",
    "    plt.plot(X_norm_centered, known_trunc_reg.predict(X_norm_centered), label='known', color='blue')\n",
    "    plt.legend()\n",
    "    plt.title(\"Known Noise Variance - UnNormalized\")\n",
    "    ax.set_xlabel(\"x\")\n",
    "    ax.set_ylabel(\"y\")\n",
    "    plt.show()\n",
    "loss = mse_loss(known_, gt_)\n",
    "print(f'mse loss: {loss}')"
   ]
  },
  {
   "cell_type": "code",
   "execution_count": 313,
   "metadata": {},
   "outputs": [],
   "source": [
    "store.close()"
   ]
  },
  {
   "cell_type": "code",
   "execution_count": 314,
   "metadata": {},
   "outputs": [
    {
     "name": "stderr",
     "output_type": "stream",
     "text": [
      "100%|██████████| 1/1 [00:00<00:00, 44.03it/s]\n"
     ]
    },
    {
     "data": {
      "text/html": [
       "<div>\n",
       "<style scoped>\n",
       "    .dataframe tbody tr th:only-of-type {\n",
       "        vertical-align: middle;\n",
       "    }\n",
       "\n",
       "    .dataframe tbody tr th {\n",
       "        vertical-align: top;\n",
       "    }\n",
       "\n",
       "    .dataframe thead th {\n",
       "        text-align: right;\n",
       "    }\n",
       "</style>\n",
       "<table border=\"1\" class=\"dataframe\">\n",
       "  <thead>\n",
       "    <tr style=\"text-align: right;\">\n",
       "      <th></th>\n",
       "      <th>trial</th>\n",
       "      <th>epoch</th>\n",
       "      <th>train_loss</th>\n",
       "      <th>train_prec1</th>\n",
       "      <th>train_prec5</th>\n",
       "      <th>val_loss</th>\n",
       "      <th>val_prec1</th>\n",
       "      <th>val_prec5</th>\n",
       "      <th>exp_id</th>\n",
       "    </tr>\n",
       "  </thead>\n",
       "  <tbody>\n",
       "    <tr>\n",
       "      <th>0</th>\n",
       "      <td>0</td>\n",
       "      <td>1</td>\n",
       "      <td>0.016878</td>\n",
       "      <td>0.0</td>\n",
       "      <td>0.0</td>\n",
       "      <td>-0.008234</td>\n",
       "      <td>0.0</td>\n",
       "      <td>0.0</td>\n",
       "      <td>fd15e823-3085-46c0-9c67-85e2eab829b2</td>\n",
       "    </tr>\n",
       "    <tr>\n",
       "      <th>1</th>\n",
       "      <td>0</td>\n",
       "      <td>2</td>\n",
       "      <td>0.008836</td>\n",
       "      <td>0.0</td>\n",
       "      <td>0.0</td>\n",
       "      <td>-0.010390</td>\n",
       "      <td>0.0</td>\n",
       "      <td>0.0</td>\n",
       "      <td>fd15e823-3085-46c0-9c67-85e2eab829b2</td>\n",
       "    </tr>\n",
       "    <tr>\n",
       "      <th>2</th>\n",
       "      <td>0</td>\n",
       "      <td>3</td>\n",
       "      <td>0.009389</td>\n",
       "      <td>0.0</td>\n",
       "      <td>0.0</td>\n",
       "      <td>-0.014683</td>\n",
       "      <td>0.0</td>\n",
       "      <td>0.0</td>\n",
       "      <td>fd15e823-3085-46c0-9c67-85e2eab829b2</td>\n",
       "    </tr>\n",
       "    <tr>\n",
       "      <th>3</th>\n",
       "      <td>0</td>\n",
       "      <td>4</td>\n",
       "      <td>0.003558</td>\n",
       "      <td>0.0</td>\n",
       "      <td>0.0</td>\n",
       "      <td>-0.026249</td>\n",
       "      <td>0.0</td>\n",
       "      <td>0.0</td>\n",
       "      <td>fd15e823-3085-46c0-9c67-85e2eab829b2</td>\n",
       "    </tr>\n",
       "    <tr>\n",
       "      <th>4</th>\n",
       "      <td>0</td>\n",
       "      <td>5</td>\n",
       "      <td>0.003028</td>\n",
       "      <td>0.0</td>\n",
       "      <td>0.0</td>\n",
       "      <td>-0.020118</td>\n",
       "      <td>0.0</td>\n",
       "      <td>0.0</td>\n",
       "      <td>fd15e823-3085-46c0-9c67-85e2eab829b2</td>\n",
       "    </tr>\n",
       "  </tbody>\n",
       "</table>\n",
       "</div>"
      ],
      "text/plain": [
       "   trial  epoch  train_loss  train_prec1  train_prec5  val_loss  val_prec1  \\\n",
       "0      0      1    0.016878          0.0          0.0 -0.008234        0.0   \n",
       "1      0      2    0.008836          0.0          0.0 -0.010390        0.0   \n",
       "2      0      3    0.009389          0.0          0.0 -0.014683        0.0   \n",
       "3      0      4    0.003558          0.0          0.0 -0.026249        0.0   \n",
       "4      0      5    0.003028          0.0          0.0 -0.020118        0.0   \n",
       "\n",
       "   val_prec5                                exp_id  \n",
       "0        0.0  fd15e823-3085-46c0-9c67-85e2eab829b2  \n",
       "1        0.0  fd15e823-3085-46c0-9c67-85e2eab829b2  \n",
       "2        0.0  fd15e823-3085-46c0-9c67-85e2eab829b2  \n",
       "3        0.0  fd15e823-3085-46c0-9c67-85e2eab829b2  \n",
       "4        0.0  fd15e823-3085-46c0-9c67-85e2eab829b2  "
      ]
     },
     "execution_count": 314,
     "metadata": {},
     "output_type": "execute_result"
    }
   ],
   "source": [
    "reader = CollectionReader('/Users/patroklos/Desktop/exp/trunc_reg_debug_')\n",
    "logs = reader.df('logs')\n",
    "reader.close()\n",
    "logs.head()"
   ]
  },
  {
   "cell_type": "code",
   "execution_count": 315,
   "metadata": {},
   "outputs": [
    {
     "data": {
      "text/plain": [
       "<matplotlib.axes._subplots.AxesSubplot at 0x7f91cd0def50>"
      ]
     },
     "execution_count": 315,
     "metadata": {},
     "output_type": "execute_result"
    },
    {
     "data": {
      "image/png": "[encoded data removed]",
      "text/plain": [
       "<Figure size 432x288 with 1 Axes>"
      ]
     },
     "metadata": {
      "needs_background": "light"
     },
     "output_type": "display_data"
    }
   ],
   "source": [
    "sns.lineplot(data=logs, x='epoch', y='val_loss', label='Val Loss')\n",
    "sns.lineplot(data=logs, x='epoch', y='train_loss', label='Train Loss')"
   ]
  },
  {
   "cell_type": "markdown",
   "metadata": {
    "id": "QfeFBu4oirsE"
   },
   "source": [
    "Truncated Regression with Unknown Noise Variance"
   ]
  },
  {
   "cell_type": "code",
   "execution_count": 142,
   "metadata": {
    "colab": {
     "base_uri": "https://localhost:8080/"
    },
    "executionInfo": {
     "elapsed": 7347,
     "status": "ok",
     "timestamp": 1649697736730,
     "user": {
      "displayName": "Pat Stefanou",
      "userId": "03550109589279644114"
     },
     "user_tz": 240
    },
    "id": "lEgsoberirsF",
    "outputId": "019105d9-449f-487a-92bb-ce23e5f69d99",
    "scrolled": true
   },
   "outputs": [
    {
     "name": "stderr",
     "output_type": "stream",
     "text": [
      "Train Epoch:3 | Loss 0.0572 | Prec1: 0.000 | Prec5: 0.000 | Reg term: 0.0 ||:   0%|          | 0/24 [00:00<?, ?it/s] "
     ]
    },
    {
     "name": "stdout",
     "output_type": "stream",
     "text": [
      "trial: 1\n"
     ]
    },
    {
     "name": "stderr",
     "output_type": "stream",
     "text": [
      "Train Epoch:3 | Loss 0.0266 | Prec1: 0.000 | Prec5: 0.000 | Reg term: 0.0 ||:   0%|          | 0/24 [00:00<?, ?it/s]  "
     ]
    },
    {
     "name": "stdout",
     "output_type": "stream",
     "text": [
      "trial: 2\n"
     ]
    },
    {
     "name": "stderr",
     "output_type": "stream",
     "text": [
      "Train Epoch:3 | Loss 0.0383 | Prec1: 0.000 | Prec5: 0.000 | Reg term: 0.0 ||:   0%|          | 0/24 [00:00<?, ?it/s]  "
     ]
    },
    {
     "name": "stdout",
     "output_type": "stream",
     "text": [
      "trial: 3\n"
     ]
    },
    {
     "name": "stderr",
     "output_type": "stream",
     "text": [
      "                                                                                                                     \r"
     ]
    },
    {
     "data": {
      "text/plain": [
       "<delphi.stats.truncated_linear_regression.TruncatedLinearRegression at 0x7fb8b68894d0>"
      ]
     },
     "execution_count": 142,
     "metadata": {},
     "output_type": "execute_result"
    }
   ],
   "source": [
    "y_trunc_emp_scale = y_trunc_centered / ch.sqrt(emp_noise_var)\n",
    "phi_emp_scale = oracle.Left_Regression((phi.left - y_trunc_mu) / ch.sqrt(emp_noise_var))\n",
    "train_kwargs = Parameters({\n",
    "    'phi': phi_emp_scale, \n",
    "    'alpha': alpha, \n",
    "    'epochs': 10, \n",
    "    'trials': 3, \n",
    "    'batch_size': 10,\n",
    "    'lr': 1e-1, \n",
    "    'var_lr': 1e-2, \n",
    "#     'step_lr_gamma': 1.0,\n",
    "    'momentum': .5,\n",
    "    'verbose': True,\n",
    "    'fit_intercept': args.fit_intercept,\n",
    "})\n",
    "unknown_trunc_reg = TruncatedLinearRegression(train_kwargs)\n",
    "unknown_trunc_reg.fit(x_trunc_norm_centered, y_trunc_emp_scale)"
   ]
  },
  {
   "cell_type": "code",
   "execution_count": 143,
   "metadata": {},
   "outputs": [],
   "source": [
    "w = unknown_trunc_reg.coef_*ch.sqrt(emp_noise_var)\n",
    "w0 = unknown_trunc_reg.intercept_ * ch.sqrt(emp_noise_var)\n",
    "unknown_ = ch.cat([w.flatten(), w0])"
   ]
  },
  {
   "cell_type": "code",
   "execution_count": 145,
   "metadata": {
    "colab": {
     "base_uri": "https://localhost:8080/",
     "height": 313
    },
    "executionInfo": {
     "elapsed": 449,
     "status": "ok",
     "timestamp": 1649697738902,
     "user": {
      "displayName": "Pat Stefanou",
      "userId": "03550109589279644114"
     },
     "user_tz": 240
    },
    "id": "0M_DqiiuirsF",
    "outputId": "53ec10c3-557b-4381-ef6a-a7480208ac63"
   },
   "outputs": [
    {
     "data": {
      "image/png": "[encoded data removed]",
      "text/plain": [
       "<Figure size 432x288 with 1 Axes>"
      ]
     },
     "metadata": {
      "needs_background": "light"
     },
     "output_type": "display_data"
    },
    {
     "name": "stdout",
     "output_type": "stream",
     "text": [
      "mse loss: 0.04421595484018326\n"
     ]
    }
   ],
   "source": [
    "if X.size(1) == 1:\n",
    "    ax = plt.subplot(1, 1, 1)\n",
    "    plt.scatter(X_norm_centered, noised_centered, label='entire dataset', alpha=.75)\n",
    "    plt.scatter(x_trunc_norm_centered, y_trunc_centered, label='truncated dataset', alpha=.75)\n",
    "    plt.plot(X_norm_centered, trunc_ols.predict(X_norm_centered), label='ols', color='red')\n",
    "    plt.plot(X_norm_centered, gt_ols.predict(X_norm_centered), color='g', label='gt')\n",
    "    plt.plot(X_norm_centered, unknown_trunc_reg.predict(X_norm_centered) * ch.sqrt(emp_noise_var), color='blue', label='unknown')\n",
    "    plt.legend()\n",
    "    ax.set_title(\"Unknown Noise Variance\")\n",
    "    ax.set_xlabel(\"x\")\n",
    "    ax.set_ylabel(\"y\")\n",
    "    plt.show()\n",
    "loss = mse_loss(unknown_, gt_)\n",
    "print(f'mse loss: {loss}')"
   ]
  },
  {
   "cell_type": "markdown",
   "metadata": {
    "id": "zw80XoNLirsG"
   },
   "source": [
    "# Generate Ground-Truth and Run Experiment"
   ]
  },
  {
   "cell_type": "code",
   "execution_count": 47,
   "metadata": {
    "executionInfo": {
     "elapsed": 159,
     "status": "ok",
     "timestamp": 1649697743116,
     "user": {
      "displayName": "Pat Stefanou",
      "userId": "03550109589279644114"
     },
     "user_tz": 240
    },
    "id": "fohS234airsG"
   },
   "outputs": [],
   "source": [
    " # expriment parameters\n",
    "w_lower, w_upper = -1, 1\n",
    "d, k = 10, 1\n",
    "# distribution for generating feature vectors\n",
    "W = Uniform(w_lower, w_upper)\n",
    "dist = Uniform(-5, 5)\n",
    "phi = oracle.Left_Regression(0.0)\n",
    "    \n",
    "    \n",
    "def gen_ground_truth(): \n",
    "    # generate ground truth\n",
    "    gt = ch.nn.Linear(in_features=d, out_features=k)\n",
    "    gt.weight = ch.nn.Parameter(W.sample(ch.Size([k, d])))\n",
    "    gt.bias = ch.nn.Parameter(W.sample(ch.Size([1, 1]))) if args.bias else None\n",
    "\n",
    "    # create base classifier\n",
    "    with ch.no_grad():\n",
    "        # generate data\n",
    "        X = dist.sample(ch.Size([args.samples, d])) if isinstance(dist, Uniform) else dist.sample(ch.Size([args.samples]))\n",
    "        y = gt(X)\n",
    "        \n",
    "    return X, y"
   ]
  },
  {
   "cell_type": "code",
   "execution_count": 56,
   "metadata": {
    "colab": {
     "base_uri": "https://localhost:8080/",
     "height": 546
    },
    "executionInfo": {
     "elapsed": 8451,
     "status": "error",
     "timestamp": 1649698152046,
     "user": {
      "displayName": "Pat Stefanou",
      "userId": "03550109589279644114"
     },
     "user_tz": 240
    },
    "id": "iL4PUkN_irsG",
    "outputId": "88d5609c-7bc0-4e47-fcad-ee353578230f",
    "scrolled": true
   },
   "outputs": [
    {
     "name": "stdout",
     "output_type": "stream",
     "text": [
      "Logging in: /content/drive/MyDrive/Results/trunc_reg/rervival/80032631-b1c7-40cb-8ab8-ad22cc83f5cc\n"
     ]
    },
    {
     "name": "stderr",
     "output_type": "stream",
     "text": []
    },
    {
     "ename": "CalledProcessError",
     "evalue": "ignored",
     "output_type": "error",
     "traceback": [
      "\u001b[0;31m---------------------------------------------------------------------------\u001b[0m",
      "\u001b[0;31mCalledProcessError\u001b[0m                        Traceback (most recent call last)",
      "\u001b[0;32m<ipython-input-56-35dd5d4ddf47>\u001b[0m in \u001b[0;36m<module>\u001b[0;34m()\u001b[0m\n\u001b[1;32m    213\u001b[0m         \u001b[0;31m# check_output will run the command and store the result\u001b[0m\u001b[0;34m\u001b[0m\u001b[0;34m\u001b[0m\u001b[0;34m\u001b[0m\u001b[0m\n\u001b[1;32m    214\u001b[0m         \u001b[0mst\u001b[0m \u001b[0;34m=\u001b[0m \u001b[0mdatetime\u001b[0m\u001b[0;34m.\u001b[0m\u001b[0mdatetime\u001b[0m\u001b[0;34m.\u001b[0m\u001b[0mnow\u001b[0m\u001b[0;34m(\u001b[0m\u001b[0;34m)\u001b[0m\u001b[0;34m\u001b[0m\u001b[0;34m\u001b[0m\u001b[0m\n\u001b[0;32m--> 215\u001b[0;31m         \u001b[0mresult\u001b[0m \u001b[0;34m=\u001b[0m \u001b[0msubprocess\u001b[0m\u001b[0;34m.\u001b[0m\u001b[0mcheck_output\u001b[0m\u001b[0;34m(\u001b[0m\u001b[0mcmd\u001b[0m\u001b[0;34m,\u001b[0m \u001b[0muniversal_newlines\u001b[0m\u001b[0;34m=\u001b[0m\u001b[0;32mTrue\u001b[0m\u001b[0;34m)\u001b[0m\u001b[0;34m\u001b[0m\u001b[0;34m\u001b[0m\u001b[0m\n\u001b[0m\u001b[1;32m    216\u001b[0m         \u001b[0mtotal_time\u001b[0m \u001b[0;34m=\u001b[0m \u001b[0mint\u001b[0m\u001b[0;34m(\u001b[0m\u001b[0;34m(\u001b[0m\u001b[0mdatetime\u001b[0m\u001b[0;34m.\u001b[0m\u001b[0mdatetime\u001b[0m\u001b[0;34m.\u001b[0m\u001b[0mnow\u001b[0m\u001b[0;34m(\u001b[0m\u001b[0;34m)\u001b[0m \u001b[0;34m-\u001b[0m \u001b[0mst\u001b[0m\u001b[0;34m)\u001b[0m\u001b[0;34m.\u001b[0m\u001b[0mtotal_seconds\u001b[0m\u001b[0;34m(\u001b[0m\u001b[0;34m)\u001b[0m\u001b[0;34m)\u001b[0m\u001b[0;34m\u001b[0m\u001b[0;34m\u001b[0m\u001b[0m\n\u001b[1;32m    217\u001b[0m         \u001b[0mtrunc_res\u001b[0m \u001b[0;34m=\u001b[0m \u001b[0mTensor\u001b[0m\u001b[0;34m(\u001b[0m\u001b[0mpd\u001b[0m\u001b[0;34m.\u001b[0m\u001b[0mread_csv\u001b[0m\u001b[0;34m(\u001b[0m\u001b[0margs\u001b[0m\u001b[0;34m.\u001b[0m\u001b[0mout_dir\u001b[0m \u001b[0;34m+\u001b[0m \u001b[0;34m'/'\u001b[0m \u001b[0;34m+\u001b[0m \u001b[0mRESULT_FILE\u001b[0m\u001b[0;34m)\u001b[0m\u001b[0;34m[\u001b[0m\u001b[0;34m'x'\u001b[0m\u001b[0;34m]\u001b[0m\u001b[0;34m.\u001b[0m\u001b[0mto_numpy\u001b[0m\u001b[0;34m(\u001b[0m\u001b[0;34m)\u001b[0m\u001b[0;34m)\u001b[0m\u001b[0;34m\u001b[0m\u001b[0;34m\u001b[0m\u001b[0m\n",
      "\u001b[0;32m/usr/lib/python3.7/subprocess.py\u001b[0m in \u001b[0;36mcheck_output\u001b[0;34m(timeout, *popenargs, **kwargs)\u001b[0m\n\u001b[1;32m    409\u001b[0m \u001b[0;34m\u001b[0m\u001b[0m\n\u001b[1;32m    410\u001b[0m     return run(*popenargs, stdout=PIPE, timeout=timeout, check=True,\n\u001b[0;32m--> 411\u001b[0;31m                **kwargs).stdout\n\u001b[0m\u001b[1;32m    412\u001b[0m \u001b[0;34m\u001b[0m\u001b[0m\n\u001b[1;32m    413\u001b[0m \u001b[0;34m\u001b[0m\u001b[0m\n",
      "\u001b[0;32m/usr/lib/python3.7/subprocess.py\u001b[0m in \u001b[0;36mrun\u001b[0;34m(input, capture_output, timeout, check, *popenargs, **kwargs)\u001b[0m\n\u001b[1;32m    510\u001b[0m         \u001b[0;32mif\u001b[0m \u001b[0mcheck\u001b[0m \u001b[0;32mand\u001b[0m \u001b[0mretcode\u001b[0m\u001b[0;34m:\u001b[0m\u001b[0;34m\u001b[0m\u001b[0;34m\u001b[0m\u001b[0m\n\u001b[1;32m    511\u001b[0m             raise CalledProcessError(retcode, process.args,\n\u001b[0;32m--> 512\u001b[0;31m                                      output=stdout, stderr=stderr)\n\u001b[0m\u001b[1;32m    513\u001b[0m     \u001b[0;32mreturn\u001b[0m \u001b[0mCompletedProcess\u001b[0m\u001b[0;34m(\u001b[0m\u001b[0mprocess\u001b[0m\u001b[0;34m.\u001b[0m\u001b[0margs\u001b[0m\u001b[0;34m,\u001b[0m \u001b[0mretcode\u001b[0m\u001b[0;34m,\u001b[0m \u001b[0mstdout\u001b[0m\u001b[0;34m,\u001b[0m \u001b[0mstderr\u001b[0m\u001b[0;34m)\u001b[0m\u001b[0;34m\u001b[0m\u001b[0;34m\u001b[0m\u001b[0m\n\u001b[1;32m    514\u001b[0m \u001b[0;34m\u001b[0m\u001b[0m\n",
      "\u001b[0;31mCalledProcessError\u001b[0m: Command '['Rscript', './truncreg.R', '0', '10', 'left', 'drive/MyDrive/Results/trunc_reg/']' returned non-zero exit status 2."
     ]
    }
   ],
   "source": [
    "# create store and add table\n",
    "store = Store(args.out_dir + args.exp)\n",
    "store.add_table(args.table_name, { \n",
    "    'ols_r2': float,\n",
    "    'ols_param_mse': float,\n",
    "    'ols_var_l1': float,\n",
    "    'known_emp_r2': float,\n",
    "    'known_emp_param_mse': float,\n",
    "    'known_emp_time': int,\n",
    "    'known_r2': float,\n",
    "    'known_param_mse': float,\n",
    "    'known_time': int,\n",
    "    'unknown_r2': float, \n",
    "    'unknown_param_mse': float,\n",
    "    'unknown_var_l1': float,\n",
    "    'unknown_time': int,\n",
    "    'trunc_reg_r2': float,\n",
    "    'trunc_reg_param_mse': float, \n",
    "    'trunc_reg_var_mse': float,\n",
    "    'trunc_reg_time': int,\n",
    "    'alpha': float, \n",
    "    'num_samples': int,\n",
    "    'noise_var': float, \n",
    "})\n",
    "\n",
    "\n",
    "# store.add_table('poor_results', { \n",
    "#     'train_nll': float, \n",
    "#     'val_nll': float, \n",
    "#     'converge': bool, \n",
    "#     'noise_var': int,\n",
    "# })\n",
    "\n",
    "large_grad = 0\n",
    "large_mse = 0\n",
    "\n",
    "phi = oracle.Left_Regression(ch.zeros(1))\n",
    "\n",
    "for i in range(args.trials):\n",
    "    # generate ground truth\n",
    "    X, y = gen_ground_truth()\n",
    "    \n",
    "    for noise_var in range(1, args.var + 1): \n",
    "        noise_var = Tensor([noise_var])[None,...]\n",
    "        # add noise to ground-truth pedictions\n",
    "        noised = y + ch.sqrt(noise_var) * ch.randn(X.size(0), 1)\n",
    "        # truncate based off of the standardized data\n",
    "        indices = phi(noised).flatten().nonzero(as_tuple=False).flatten()\n",
    "        y_trunc, x_trunc = noised[indices], X[indices]\n",
    "        alpha = y_trunc.size(0) / args.samples\n",
    "        # mean for dependent variable\n",
    "        y_trunc_mu = y_trunc.mean(0)\n",
    "        \n",
    "        # normalize input features\n",
    "        l_inf = LA.norm(x_trunc, dim=-1, ord=float('inf')).max()\n",
    "        beta = l_inf * (x_trunc.size(1) ** .5)\n",
    "\n",
    "        X /= beta\n",
    "        x_trunc /= beta\n",
    "        \n",
    "        # ground-truth ols\n",
    "        gt_ols = LinearRegression()\n",
    "        gt_ols.fit(X, noised)\n",
    "        gt_params = ch.cat([Tensor(gt_ols.coef_).T, Tensor(gt_ols.intercept_)[..., None]]).flatten()\n",
    "        \n",
    "        # empirical linear regression\n",
    "        ols = LinearRegression() \n",
    "        ols.fit(x_trunc, y_trunc)\n",
    "        ols_var = (y_trunc - ols.predict(x_trunc)).var(0)\n",
    "        ols_params = ch.cat([Tensor(ols.coef_).T, Tensor(ols.intercept_)[..., None]]).flatten()\n",
    "        # check r2 for entire dataset\n",
    "        ols_pred = ols.predict(X)\n",
    "\n",
    "        # ols results\n",
    "        store[args.table_name].update_row({\n",
    "            'ols_r2': r2_score(noised.flatten(), ols_pred.flatten()), \n",
    "            'ols_var_l1': ch.abs(ols_var - noise_var),\n",
    "            'ols_param_mse': mse_loss(ols_params, gt_params),\n",
    "        })\n",
    "                \n",
    "        \"\"\"\n",
    "        Run dataset on truncated regression with known variance, while \n",
    "        assuming that the empirical noise variance is the underlying noise \n",
    "        variance of our linear regression. This means that we want to standardize \n",
    "        our dependent variable by the empirical noise variance. \n",
    "        \"\"\"\n",
    "        # variance of the residuals\n",
    "        # standardize y trunc by the empirical noise variance\n",
    "        emp_stand_y_trunc = (y_trunc - y_trunc_mu) / ch.sqrt(ols_var)\n",
    "        # standardize noised by the empirical noise variance\n",
    "        emp_stand_noised = noised / ch.sqrt(ols_var)\n",
    "        \n",
    "        emp_stand_phi = oracle.Left_Regression((phi.left - y_trunc_mu) / ch.sqrt(ols_var))\n",
    "        st = datetime.datetime.now()    \n",
    "        train_kwargs = Parameters({\n",
    "            'phi': emp_stand_phi, \n",
    "            'alpha': alpha, \n",
    "            'noise_var': float(emp_noise_var), \n",
    "            'epochs': 5,\n",
    "            'momentum': .25,\n",
    "            'verbose': True,\n",
    "            'num_trials': 1,\n",
    "        })    \n",
    "        known_emp_trunc_reg = TruncatedLinearRegression(train_kwargs)\n",
    "        known_emp_trunc_reg.fit(x_trunc, emp_stand_y_trunc)    \n",
    "        total_time = int((datetime.datetime.now() - st).total_seconds())\n",
    "        w, w0 = (known_emp_trunc_reg.coef_ * ch.sqrt(emp_noise_var)), known_emp_trunc_reg.intercept_[..., None] * ch.sqrt(emp_noise_var) + y_trunc_mu\n",
    "        known_emp_params = ch.cat([w, w0], dim=1).flatten()\n",
    "\n",
    "        # known emp results\n",
    "        store[args.table_name].update_row({\n",
    "            'known_emp_r2': r2_score(noised.flatten(), X@w.T + w0), \n",
    "            'known_emp_param_mse': mse_loss(known_emp_params, gt_params),\n",
    "            'known_emp_time': total_time, \n",
    "        })\n",
    "\n",
    "        \"\"\"\n",
    "        Run dataset on truncated regression with known variance. This means that we want to standardize \n",
    "        our dependent variable by the true noise variance. \n",
    "        \"\"\"\n",
    "        # standardize y trunc by actual noise variance\n",
    "        stand_y_trunc = (y_trunc - y_trunc_mu) / ch.sqrt(noise_var)\n",
    "        # standardize noised by actual noise variance\n",
    "        stand_phi = oracle.Left_Regression((phi.left - y_trunc_mu) / ch.sqrt(noise_var))\n",
    "\n",
    "        st = datetime.datetime.now()    \n",
    "        train_kwargs = Parameters({\n",
    "            'phi': stand_phi, \n",
    "            'alpha': alpha, \n",
    "            'noise_var': 1.0, \n",
    "            'epochs': 5,\n",
    "            'momentum': .25,\n",
    "            'verbose': True,\n",
    "            'num_trials': 1,\n",
    "        })    \n",
    "        known_trunc_reg = TruncatedLinearRegression(train_kwargs)\n",
    "        known_trunc_reg.fit(x_trunc, stand_y_trunc)    \n",
    "        total_time = int((datetime.datetime.now() - st).total_seconds())\n",
    "        w, w0 = (known_trunc_reg.coef_ * ch.sqrt(noise_var)), known_trunc_reg.intercept_[..., None] * ch.sqrt(noise_var) + y_trunc_mu\n",
    "        known_params = ch.cat([w, w0], dim=1).flatten()\n",
    "        \n",
    "        # known results\n",
    "        store[args.table_name].update_row({\n",
    "            'known_r2': r2_score(noised.flatten(), X@w.T + w0), \n",
    "            'known_param_mse': mse_loss(gt_params, known_params),\n",
    "            'known_time': total_time, \n",
    "        })\n",
    "\n",
    "        st = datetime.datetime.now()   \n",
    "        train_kwargs = Parameters({\n",
    "            'phi': emp_stand_phi, \n",
    "            'alpha': alpha, \n",
    "            'epochs': 5,\n",
    "            'momentum': .25,\n",
    "            'verbose': True,\n",
    "            'num_trials': 1,\n",
    "        })     \n",
    "        unknown_trunc_reg = TruncatedLinearRegression(train_kwargs)\n",
    "        unknown_trunc_reg.fit(x_trunc, emp_stand_y_trunc)\n",
    "        total_time = int((datetime.datetime.now() - st).total_seconds())\n",
    "\n",
    "        unknown_var = unknown_trunc_reg.variance * ols_var\n",
    "        w, w0 = (unknown_trunc_reg.coef_ * ch.sqrt(ols_var)), (unknown_trunc_reg.intercept_ * ch.sqrt(ols_var) + y_trunc_mu)[...,None]\n",
    "        unknown_params = ch.cat([w, w0], dim=1).flatten()\n",
    "        \n",
    "\n",
    "        \n",
    "        unknown_param_mse = mse_loss(gt_params, unknown_params)\n",
    "        if unknown_param_mse >= 2.0: \n",
    "            large_mse += 1\n",
    "            for x, y_ in unknown_trunc_reg.val_loader: \n",
    "                val_nll = unknown_trunc_reg.trunc_reg.calc_nll(x, y_)\n",
    "                grad = unknown_trunc_reg.trunc_reg.calc_grad(x, y_)\n",
    "                converge = (grad <= args.tol).all()\n",
    "\n",
    "            for x, y_ in unknown_trunc_reg.train_loader: \n",
    "                train_nll = unknown_trunc_reg.trunc_reg.calc_nll(x, y_)\n",
    "                break\n",
    "                \n",
    "        \n",
    "            # store['poor_results'].update_row({\n",
    "            #     'train_nll': train_nll, \n",
    "            #     'val_nll': val_nll, \n",
    "            #     'converge': converge,\n",
    "            #     'noise_var': noise_var\n",
    "            # })\n",
    "            \n",
    "            # store['poor_results'].flush_row()\n",
    "                \n",
    "        # known emp results\n",
    "        store[args.table_name].update_row({\n",
    "            'unknown_r2': r2_score(noised.flatten(), X@w.T + w0), \n",
    "            'unknown_param_mse': mse_loss(gt_params, unknown_params),\n",
    "            'unknown_var_l1': float(ch.abs(unknown_var - noise_var)),\n",
    "            'unknown_time': total_time, \n",
    "        })\n",
    "            \n",
    "            \n",
    "        # spawn subprocess to run truncreg experiment\n",
    "        concat = ch.cat([x_trunc, y_trunc], dim=1).numpy()\n",
    "        \"\"\"\n",
    "        DATA FORMAT:\n",
    "            -First n-1 columns are independent variables\n",
    "            -nth column is dependent variable\n",
    "        \"\"\"\n",
    "        concat_df = pd.DataFrame(concat)\n",
    "        concat_df.to_csv(args.out_dir + '/' + TMP_FILE) # save data to csv\n",
    "        \"\"\"\n",
    "        Arguments\n",
    "        - c - truncation point (float)\n",
    "        - dir - left or right -> type of truncation (str)\n",
    "        \"\"\"\n",
    "        cmd = [COMMAND, PATH2SCRIPT] + [str(0), str(d), 'left', args.out_dir]\n",
    "\n",
    "        # check_output will run the command and store the result\n",
    "        st = datetime.datetime.now()\n",
    "        result = subprocess.check_output(cmd, universal_newlines=True)\n",
    "        total_time = int((datetime.datetime.now() - st).total_seconds())\n",
    "        trunc_res = Tensor(pd.read_csv(args.out_dir + '/' + RESULT_FILE)['x'].to_numpy())\n",
    "        trunc_reg_params = ch.cat([trunc_res[1:-1].flatten(), trunc_res[0][None,...]])\n",
    "\n",
    "        trunc_reg_pred = X@trunc_reg_params[:-1] + trunc_reg_params[-1]\n",
    "        \n",
    "        # truncreg results\n",
    "        store[args.table_name].update_row({\n",
    "            'trunc_reg_r2': r2_score(noised.flatten(), trunc_reg_pred.flatten()), \n",
    "            'trunc_reg_param_mse': mse_loss(trunc_reg_params, gt_params),\n",
    "            'trunc_reg_var_mse': float(ch.abs(trunc_res[-1].pow(2)[None,...] - noise_var)),\n",
    "            'trunc_reg_time': total_time, \n",
    "        })\n",
    "        \n",
    "        # add additional exp data to store\n",
    "        store[args.table_name].update_row({ \n",
    "            'alpha': float(alpha.flatten()),\n",
    "            'num_samples': x_trunc.size(0),\n",
    "            'noise_var': noise_var, \n",
    "        })\n",
    "\n",
    "        # append row to table\n",
    "        store[args.table_name].flush_row()\n",
    "        \n",
    "        IPython.display.clear_output()\n",
    "\n",
    "store.close()    "
   ]
  },
  {
   "cell_type": "code",
   "execution_count": null,
   "metadata": {
    "id": "j3-Z9urWirsI",
    "outputId": "9997bf90-715d-426a-89ed-08f03c9483ed"
   },
   "outputs": [
    {
     "name": "stderr",
     "output_type": "stream",
     "text": [
      "100%|██████████| 1/1 [00:00<00:00, 17.43it/s]\n"
     ]
    },
    {
     "data": {
      "text/html": [
       "<div>\n",
       "<style scoped>\n",
       "    .dataframe tbody tr th:only-of-type {\n",
       "        vertical-align: middle;\n",
       "    }\n",
       "\n",
       "    .dataframe tbody tr th {\n",
       "        vertical-align: top;\n",
       "    }\n",
       "\n",
       "    .dataframe thead th {\n",
       "        text-align: right;\n",
       "    }\n",
       "</style>\n",
       "<table border=\"1\" class=\"dataframe\">\n",
       "  <thead>\n",
       "    <tr style=\"text-align: right;\">\n",
       "      <th></th>\n",
       "      <th>ols_r2</th>\n",
       "      <th>ols_param_mse</th>\n",
       "      <th>ols_var_l1</th>\n",
       "      <th>known_r2</th>\n",
       "      <th>known_param_mse</th>\n",
       "      <th>known_time</th>\n",
       "      <th>unknown_r2</th>\n",
       "      <th>unknown_param_mse</th>\n",
       "      <th>unknown_var_l1</th>\n",
       "      <th>unknown_time</th>\n",
       "      <th>trunc_reg_r2</th>\n",
       "      <th>trunc_reg_param_mse</th>\n",
       "      <th>trunc_reg_var_mse</th>\n",
       "      <th>trunc_reg_time</th>\n",
       "      <th>alpha</th>\n",
       "      <th>num_samples</th>\n",
       "      <th>noise_var</th>\n",
       "      <th>exp_id</th>\n",
       "    </tr>\n",
       "  </thead>\n",
       "  <tbody>\n",
       "    <tr>\n",
       "      <td>0</td>\n",
       "      <td>0.919864</td>\n",
       "      <td>0.432705</td>\n",
       "      <td>0.061598</td>\n",
       "      <td>0.941135</td>\n",
       "      <td>0.038272</td>\n",
       "      <td>16</td>\n",
       "      <td>0.939486</td>\n",
       "      <td>0.067332</td>\n",
       "      <td>0.053015</td>\n",
       "      <td>1</td>\n",
       "      <td>0.940754</td>\n",
       "      <td>0.034685</td>\n",
       "      <td>0.032654</td>\n",
       "      <td>0</td>\n",
       "      <td>0.502667</td>\n",
       "      <td>754</td>\n",
       "      <td>1.0</td>\n",
       "      <td>837f7870-dfd9-4cef-be28-5c61cc63949f</td>\n",
       "    </tr>\n",
       "    <tr>\n",
       "      <td>1</td>\n",
       "      <td>0.813471</td>\n",
       "      <td>1.758263</td>\n",
       "      <td>0.334296</td>\n",
       "      <td>0.879476</td>\n",
       "      <td>0.484447</td>\n",
       "      <td>15</td>\n",
       "      <td>0.895083</td>\n",
       "      <td>0.128968</td>\n",
       "      <td>0.048412</td>\n",
       "      <td>1</td>\n",
       "      <td>0.893422</td>\n",
       "      <td>0.116251</td>\n",
       "      <td>0.043236</td>\n",
       "      <td>0</td>\n",
       "      <td>0.494000</td>\n",
       "      <td>741</td>\n",
       "      <td>2.0</td>\n",
       "      <td>837f7870-dfd9-4cef-be28-5c61cc63949f</td>\n",
       "    </tr>\n",
       "    <tr>\n",
       "      <td>2</td>\n",
       "      <td>0.735197</td>\n",
       "      <td>2.638096</td>\n",
       "      <td>0.608368</td>\n",
       "      <td>0.845774</td>\n",
       "      <td>0.381254</td>\n",
       "      <td>16</td>\n",
       "      <td>0.834389</td>\n",
       "      <td>0.564952</td>\n",
       "      <td>0.320493</td>\n",
       "      <td>1</td>\n",
       "      <td>0.849624</td>\n",
       "      <td>0.165917</td>\n",
       "      <td>0.109880</td>\n",
       "      <td>0</td>\n",
       "      <td>0.508667</td>\n",
       "      <td>763</td>\n",
       "      <td>3.0</td>\n",
       "      <td>837f7870-dfd9-4cef-be28-5c61cc63949f</td>\n",
       "    </tr>\n",
       "    <tr>\n",
       "      <td>3</td>\n",
       "      <td>0.663425</td>\n",
       "      <td>2.853571</td>\n",
       "      <td>0.854965</td>\n",
       "      <td>0.799452</td>\n",
       "      <td>0.307403</td>\n",
       "      <td>15</td>\n",
       "      <td>0.778606</td>\n",
       "      <td>0.546359</td>\n",
       "      <td>0.271009</td>\n",
       "      <td>1</td>\n",
       "      <td>0.798979</td>\n",
       "      <td>0.252207</td>\n",
       "      <td>0.257234</td>\n",
       "      <td>0</td>\n",
       "      <td>0.484000</td>\n",
       "      <td>726</td>\n",
       "      <td>4.0</td>\n",
       "      <td>837f7870-dfd9-4cef-be28-5c61cc63949f</td>\n",
       "    </tr>\n",
       "    <tr>\n",
       "      <td>4</td>\n",
       "      <td>0.605695</td>\n",
       "      <td>3.763897</td>\n",
       "      <td>1.438328</td>\n",
       "      <td>0.772314</td>\n",
       "      <td>0.468740</td>\n",
       "      <td>16</td>\n",
       "      <td>0.780413</td>\n",
       "      <td>0.213085</td>\n",
       "      <td>0.011284</td>\n",
       "      <td>1</td>\n",
       "      <td>0.782388</td>\n",
       "      <td>0.162499</td>\n",
       "      <td>0.174946</td>\n",
       "      <td>0</td>\n",
       "      <td>0.490667</td>\n",
       "      <td>736</td>\n",
       "      <td>5.0</td>\n",
       "      <td>837f7870-dfd9-4cef-be28-5c61cc63949f</td>\n",
       "    </tr>\n",
       "    <tr>\n",
       "      <td>5</td>\n",
       "      <td>0.456628</td>\n",
       "      <td>5.348772</td>\n",
       "      <td>1.851150</td>\n",
       "      <td>0.694088</td>\n",
       "      <td>1.069650</td>\n",
       "      <td>20</td>\n",
       "      <td>0.720098</td>\n",
       "      <td>0.241409</td>\n",
       "      <td>0.101773</td>\n",
       "      <td>1</td>\n",
       "      <td>0.722143</td>\n",
       "      <td>0.190485</td>\n",
       "      <td>0.197092</td>\n",
       "      <td>0</td>\n",
       "      <td>0.489333</td>\n",
       "      <td>734</td>\n",
       "      <td>6.0</td>\n",
       "      <td>837f7870-dfd9-4cef-be28-5c61cc63949f</td>\n",
       "    </tr>\n",
       "    <tr>\n",
       "      <td>6</td>\n",
       "      <td>0.381663</td>\n",
       "      <td>7.899115</td>\n",
       "      <td>2.622770</td>\n",
       "      <td>0.637642</td>\n",
       "      <td>2.542969</td>\n",
       "      <td>18</td>\n",
       "      <td>0.684961</td>\n",
       "      <td>1.184335</td>\n",
       "      <td>0.894857</td>\n",
       "      <td>1</td>\n",
       "      <td>0.678221</td>\n",
       "      <td>1.057704</td>\n",
       "      <td>0.883207</td>\n",
       "      <td>0</td>\n",
       "      <td>0.491333</td>\n",
       "      <td>737</td>\n",
       "      <td>7.0</td>\n",
       "      <td>837f7870-dfd9-4cef-be28-5c61cc63949f</td>\n",
       "    </tr>\n",
       "    <tr>\n",
       "      <td>7</td>\n",
       "      <td>0.319984</td>\n",
       "      <td>8.750479</td>\n",
       "      <td>3.184480</td>\n",
       "      <td>0.640802</td>\n",
       "      <td>1.813212</td>\n",
       "      <td>18</td>\n",
       "      <td>0.664154</td>\n",
       "      <td>0.732471</td>\n",
       "      <td>0.700975</td>\n",
       "      <td>1</td>\n",
       "      <td>0.666126</td>\n",
       "      <td>0.653326</td>\n",
       "      <td>0.467048</td>\n",
       "      <td>0</td>\n",
       "      <td>0.511333</td>\n",
       "      <td>767</td>\n",
       "      <td>8.0</td>\n",
       "      <td>837f7870-dfd9-4cef-be28-5c61cc63949f</td>\n",
       "    </tr>\n",
       "    <tr>\n",
       "      <td>8</td>\n",
       "      <td>0.244285</td>\n",
       "      <td>8.424655</td>\n",
       "      <td>3.947756</td>\n",
       "      <td>0.596598</td>\n",
       "      <td>2.050194</td>\n",
       "      <td>19</td>\n",
       "      <td>0.583841</td>\n",
       "      <td>1.498760</td>\n",
       "      <td>1.503243</td>\n",
       "      <td>1</td>\n",
       "      <td>0.620563</td>\n",
       "      <td>0.952123</td>\n",
       "      <td>0.989464</td>\n",
       "      <td>0</td>\n",
       "      <td>0.486000</td>\n",
       "      <td>729</td>\n",
       "      <td>9.0</td>\n",
       "      <td>837f7870-dfd9-4cef-be28-5c61cc63949f</td>\n",
       "    </tr>\n",
       "    <tr>\n",
       "      <td>9</td>\n",
       "      <td>0.250309</td>\n",
       "      <td>8.623458</td>\n",
       "      <td>3.869784</td>\n",
       "      <td>0.597356</td>\n",
       "      <td>1.375096</td>\n",
       "      <td>18</td>\n",
       "      <td>0.603521</td>\n",
       "      <td>0.752158</td>\n",
       "      <td>0.992073</td>\n",
       "      <td>1</td>\n",
       "      <td>0.618344</td>\n",
       "      <td>0.517917</td>\n",
       "      <td>0.220717</td>\n",
       "      <td>0</td>\n",
       "      <td>0.486667</td>\n",
       "      <td>730</td>\n",
       "      <td>10.0</td>\n",
       "      <td>837f7870-dfd9-4cef-be28-5c61cc63949f</td>\n",
       "    </tr>\n",
       "  </tbody>\n",
       "</table>\n",
       "</div>"
      ],
      "text/plain": [
       "     ols_r2  ols_param_mse  ols_var_l1  known_r2  known_param_mse  known_time  \\\n",
       "0  0.919864       0.432705    0.061598  0.941135         0.038272          16   \n",
       "1  0.813471       1.758263    0.334296  0.879476         0.484447          15   \n",
       "2  0.735197       2.638096    0.608368  0.845774         0.381254          16   \n",
       "3  0.663425       2.853571    0.854965  0.799452         0.307403          15   \n",
       "4  0.605695       3.763897    1.438328  0.772314         0.468740          16   \n",
       "5  0.456628       5.348772    1.851150  0.694088         1.069650          20   \n",
       "6  0.381663       7.899115    2.622770  0.637642         2.542969          18   \n",
       "7  0.319984       8.750479    3.184480  0.640802         1.813212          18   \n",
       "8  0.244285       8.424655    3.947756  0.596598         2.050194          19   \n",
       "9  0.250309       8.623458    3.869784  0.597356         1.375096          18   \n",
       "\n",
       "   unknown_r2  unknown_param_mse  unknown_var_l1  unknown_time  trunc_reg_r2  \\\n",
       "0    0.939486           0.067332        0.053015             1      0.940754   \n",
       "1    0.895083           0.128968        0.048412             1      0.893422   \n",
       "2    0.834389           0.564952        0.320493             1      0.849624   \n",
       "3    0.778606           0.546359        0.271009             1      0.798979   \n",
       "4    0.780413           0.213085        0.011284             1      0.782388   \n",
       "5    0.720098           0.241409        0.101773             1      0.722143   \n",
       "6    0.684961           1.184335        0.894857             1      0.678221   \n",
       "7    0.664154           0.732471        0.700975             1      0.666126   \n",
       "8    0.583841           1.498760        1.503243             1      0.620563   \n",
       "9    0.603521           0.752158        0.992073             1      0.618344   \n",
       "\n",
       "   trunc_reg_param_mse  trunc_reg_var_mse  trunc_reg_time     alpha  \\\n",
       "0             0.034685           0.032654               0  0.502667   \n",
       "1             0.116251           0.043236               0  0.494000   \n",
       "2             0.165917           0.109880               0  0.508667   \n",
       "3             0.252207           0.257234               0  0.484000   \n",
       "4             0.162499           0.174946               0  0.490667   \n",
       "5             0.190485           0.197092               0  0.489333   \n",
       "6             1.057704           0.883207               0  0.491333   \n",
       "7             0.653326           0.467048               0  0.511333   \n",
       "8             0.952123           0.989464               0  0.486000   \n",
       "9             0.517917           0.220717               0  0.486667   \n",
       "\n",
       "   num_samples  noise_var                                exp_id  \n",
       "0          754        1.0  837f7870-dfd9-4cef-be28-5c61cc63949f  \n",
       "1          741        2.0  837f7870-dfd9-4cef-be28-5c61cc63949f  \n",
       "2          763        3.0  837f7870-dfd9-4cef-be28-5c61cc63949f  \n",
       "3          726        4.0  837f7870-dfd9-4cef-be28-5c61cc63949f  \n",
       "4          736        5.0  837f7870-dfd9-4cef-be28-5c61cc63949f  \n",
       "5          734        6.0  837f7870-dfd9-4cef-be28-5c61cc63949f  \n",
       "6          737        7.0  837f7870-dfd9-4cef-be28-5c61cc63949f  \n",
       "7          767        8.0  837f7870-dfd9-4cef-be28-5c61cc63949f  \n",
       "8          729        9.0  837f7870-dfd9-4cef-be28-5c61cc63949f  \n",
       "9          730       10.0  837f7870-dfd9-4cef-be28-5c61cc63949f  "
      ]
     },
     "execution_count": 186,
     "metadata": {},
     "output_type": "execute_result"
    }
   ],
   "source": [
    "reader = CollectionReader(args.out_dir + '/' + args.exp)\n",
    "logs = reader.df(args.table_name)\n",
    "# poor_results = reader.df('poor_results')\n",
    "reader.close()\n",
    "logs.head(10)"
   ]
  },
  {
   "cell_type": "code",
   "execution_count": null,
   "metadata": {
    "id": "ZH6U1qxOirsI"
   },
   "outputs": [],
   "source": [
    "logs['unknown_epsilon'] = logs['unknown_param_mse'] + logs['unknown_var_l1']\n",
    "logs['trunc_reg_epsilon'] = logs['trunc_reg_param_mse'] + logs['trunc_reg_var_mse']\n",
    "logs['ols_epsilon'] = logs['ols_param_mse'] + logs['ols_var_l1']"
   ]
  },
  {
   "cell_type": "code",
   "execution_count": null,
   "metadata": {
    "id": "RWqovbKDirsI"
   },
   "outputs": [],
   "source": [
    "logs['unknown_param_mse'] = logs['unknown_param_mse'] **(1/2)\n",
    "logs['known_param_mse'] = logs['known_param_mse'] **(1/2)\n",
    "logs['ols_param_mse'] = logs['ols_param_mse'] **(1/2)\n",
    "# known_emp_logs['known_emp_param_mse'] = known_emp_logs['known_emp_param_mse'] **(1/2)\n",
    "logs['trunc_reg_param_mse'] = logs['trunc_reg_param_mse'] **(1/2)"
   ]
  },
  {
   "cell_type": "code",
   "execution_count": null,
   "metadata": {
    "id": "OYAxTUFlirsJ",
    "outputId": "11f6dda3-eeeb-402c-ec70-dee9824bdaa1",
    "scrolled": false
   },
   "outputs": [
    {
     "data": {
      "image/png": "[encoded data removed]",
      "text/plain": [
       "<Figure size 432x288 with 1 Axes>"
      ]
     },
     "metadata": {
      "needs_background": "light"
     },
     "output_type": "display_data"
    },
    {
     "data": {
      "text/plain": [
       "Text(0.5, 1.0, '10 Dimensions : Variance')"
      ]
     },
     "execution_count": 191,
     "metadata": {},
     "output_type": "execute_result"
    },
    {
     "data": {
      "image/png": "[encoded data removed]",
      "text/plain": [
       "<Figure size 432x288 with 1 Axes>"
      ]
     },
     "metadata": {
      "needs_background": "light"
     },
     "output_type": "display_data"
    }
   ],
   "source": [
    "sns.lineplot(data=logs, x='noise_var', y='ols_param_mse', label='ols', color='r')\n",
    "# sns.lineplot(data=known_emp_logs, x='noise_var', y='known_emp_param_mse', color='purple', label='known - $\\sigma_{0}^{2}$')\n",
    "sns.lineplot(data=logs, x='noise_var', y='known_param_mse', label='known - $\\sigma^{*2}$', color='blue')\n",
    "sns.lineplot(data=logs, x='noise_var', y='trunc_reg_param_mse', label='truncreg', color='orange')\n",
    "ax = sns.lineplot(data=logs, x='noise_var', y='unknown_param_mse', label='unknown', color='green')\n",
    "\n",
    "ax.set(xlabel='$\\sigma^{*2}$', ylabel='$||\\hat w - w^{*}||_{2}$')\n",
    "ax.set_title(args.exp + \" : Model Weights\")\n",
    "ax.set_title(\"10 Dimensions: Model Weights\")\n",
    "\n",
    "plt.show()\n",
    "\n",
    "sns.lineplot(data=logs, x='noise_var', y='ols_var_l1', label='ols', color='red')\n",
    "sns.lineplot(data=logs, x='noise_var', y='trunc_reg_var_mse', label='truncreg', color='orange')\n",
    "ax = sns.lineplot(data=logs, x='noise_var', y='unknown_var_l1', label='unknown', color='green')\n",
    "ax.set(xlabel='$\\sigma^{*2}$', ylabel='$|\\hat \\sigma^{2} - \\sigma^{*2}|$')\n",
    "ax.set_title(\"10 Dimensions : Variance\")"
   ]
  },
  {
   "cell_type": "code",
   "execution_count": null,
   "metadata": {
    "id": "ehM4afVBirsJ"
   },
   "outputs": [],
   "source": [
    "alpha = 5.0 \n",
    "lower_p = (alpha / 2.0) / 100\n",
    "upper_p = ((100 - alpha) + (alpha / 2.0)) / 100\n",
    "\n",
    "\n",
    "trunc_reg_w_scores, trunc_reg_var_scores = [], [] \n",
    "unknown_w_score, unknown_var_scores = [], []\n",
    "known_scores = []\n",
    "ols_scores = {}\n",
    "for var in range(1, args.var + 1):\n",
    "    trunc_reg_w_scores, trunc_reg_var_scores = [], [] \n",
    "    unknown_w_score, unknown_var_scores = [], []\n",
    "    known_scores = []\n",
    "    ols_w_scores, ols_var_scores = [], []\n",
    "    temp_logs = logs[logs.noise_var == var]\n",
    "\n",
    "    for i in range(100):\n",
    "#         # bootstrap sample\n",
    "#         indices = randint(0, args.trials, args.trials)\n",
    "        ols_w_scores.append(temp_logs.ols_param_mse.reset_index().loc[list(ch.randint(args.trials, (args.trials,)))].ols_param_mse.mean())\n",
    "        ols_var_scores.append(temp_logs.ols_var_l1.reset_index().loc[list(ch.randint(args.trials, (args.trials,)))].ols_var_l1.mean())\n",
    "        \n",
    "        \n",
    "#         trunc_reg_w_scores.append()\n",
    "#         break\n",
    "    ols_w_scores, ols_var_scores = Tensor(ols_w_scores), Tensor(ols_var_scores)\n",
    "    w_median = ols_w_scores.median()\n",
    "    var_median = ols_var_scores.median()\n",
    "    # calculate 95% confidence interval (100 - alpha)\n",
    "    w_lower, w_upper = ch.quantile(ols_w_scores, lower_p), ch.quantile(ols_w_scores, upper_p)\n",
    "    var_lower, var_upper = ch.quantile(ols_var_scores, lower_p), ch.quantile(ols_var_scores, upper_p)\n",
    "    ols_scores['w_' + str(var)] = (float(w_median), float(w_lower), float(w_upper))\n",
    "    ols_scores['var_' + str(var)] = (float(var_median), float(var_lower), float(var_upper))"
   ]
  },
  {
   "cell_type": "code",
   "execution_count": null,
   "metadata": {
    "id": "_1cZOzk1irsK",
    "outputId": "6414a843-44d8-439e-e5fb-47da4e47c9c3"
   },
   "outputs": [
    {
     "data": {
      "text/plain": [
       "6     3.030272\n",
       "6     3.030272\n",
       "19    3.223487\n",
       "15    2.931073\n",
       "2     3.547897\n",
       "9     3.126174\n",
       "16    3.001810\n",
       "0     2.873226\n",
       "4     2.735724\n",
       "7     3.405046\n",
       "2     3.547897\n",
       "5     2.645933\n",
       "2     3.547897\n",
       "0     2.873226\n",
       "9     3.126174\n",
       "11    3.054120\n",
       "16    3.001810\n",
       "1     3.001408\n",
       "12    2.722246\n",
       "0     2.873226\n",
       "Name: ols_param_mse, dtype: float64"
      ]
     },
     "execution_count": 174,
     "metadata": {},
     "output_type": "execute_result"
    }
   ],
   "source": [
    "temp_logs.ols_param_mse.reset_index().loc[list(ch.randint(args.trials, (args.trials,)))].ols_param_mse"
   ]
  },
  {
   "cell_type": "code",
   "execution_count": null,
   "metadata": {
    "id": "2dK91owTirsL",
    "outputId": "bff6e6c3-1b47-446d-aabc-59483496ddcc"
   },
   "outputs": [
    {
     "data": {
      "text/plain": [
       "{'w_1': (0.600812554359436, 0.5397992134094238, 0.6643595099449158),\n",
       " 'var_1': (0.08511735498905182, 0.059293828904628754, 0.1030203253030777),\n",
       " 'w_2': (1.0421823263168335, 0.9507401585578918, 1.1385873556137085),\n",
       " 'var_2': (0.23780572414398193, 0.187019482254982, 0.2787726819515228),\n",
       " 'w_3': (1.4848092794418335, 1.3937994241714478, 1.5721241235733032),\n",
       " 'var_3': (0.5787283182144165, 0.4987471103668213, 0.6642507910728455),\n",
       " 'w_4': (1.7780349254608154, 1.6675844192504883, 1.8767249584197998),\n",
       " 'var_4': (0.8503002524375916, 0.7792227268218994, 0.9504703283309937),\n",
       " 'w_5': (2.016340494155884, 1.9012539386749268, 2.111964225769043),\n",
       " 'var_5': (1.2625733613967896, 1.1418821811676025, 1.365757703781128),\n",
       " 'w_6': (2.2523915767669678, 2.1477010250091553, 2.405884027481079),\n",
       " 'var_6': (1.567497730255127, 1.4404025077819824, 1.746000051498413),\n",
       " 'w_7': (2.4736948013305664, 2.380859136581421, 2.638007164001465),\n",
       " 'var_7': (2.012190580368042, 1.8744463920593262, 2.1975018978118896),\n",
       " 'w_8': (2.661393404006958, 2.547041416168213, 2.780317783355713),\n",
       " 'var_8': (2.4921326637268066, 2.273275852203369, 2.7426459789276123),\n",
       " 'w_9': (2.9220097064971924, 2.8296003341674805, 3.0195181369781494),\n",
       " 'var_9': (2.823328971862793, 2.541536331176758, 3.131558418273926),\n",
       " 'w_10': (3.0419094562530518, 2.9373834133148193, 3.1681230068206787),\n",
       " 'var_10': (3.330625534057617, 3.106765031814575, 3.659716844558716)}"
      ]
     },
     "execution_count": 175,
     "metadata": {},
     "output_type": "execute_result"
    }
   ],
   "source": [
    "ols_scores"
   ]
  },
  {
   "cell_type": "code",
   "execution_count": null,
   "metadata": {
    "id": "zluTnQw-irsL"
   },
   "outputs": [],
   "source": [
    "alpha = 5.0 \n",
    "ols_ = {}\n",
    "for key in ols_scores.keys():\n",
    "    median = ols_scores[key].mean()\n",
    "    # calculate 95% confidence interval (100 - alpha)\n",
    "    lower_p = alpha / 2.0\n",
    "    lower = ch.quantile(ols_scores[key], lower_p / 100)\n",
    "    upper_p = (100 - alpha) + (alpha / 2.0)\n",
    "    upper = ch.quantile(ols_scores[key], upper_p / 100)"
   ]
  },
  {
   "cell_type": "code",
   "execution_count": null,
   "metadata": {
    "id": "ZJ7dTX9NirsL",
    "outputId": "9ca571ea-16bf-4cd6-c488-61d0b78680b7"
   },
   "outputs": [
    {
     "data": {
      "text/plain": [
       "(tensor(2.6757), tensor(2.5450), tensor(2.8050))"
      ]
     },
     "execution_count": 168,
     "metadata": {},
     "output_type": "execute_result"
    }
   ],
   "source": [
    "median, lower, upper"
   ]
  },
  {
   "cell_type": "code",
   "execution_count": null,
   "metadata": {
    "id": "p79q1REzirsL",
    "outputId": "0334e0c1-c49e-4110-8671-185b3c2bf6c1"
   },
   "outputs": [
    {
     "data": {
      "text/plain": [
       "tensor(2.8050)"
      ]
     },
     "execution_count": 165,
     "metadata": {},
     "output_type": "execute_result"
    }
   ],
   "source": []
  },
  {
   "cell_type": "code",
   "execution_count": null,
   "metadata": {
    "id": "0kGw1hhiirsM"
   },
   "outputs": [],
   "source": [
    "import torch.linalg as LA\n",
    "l_inf = LA.norm(X, dim=-1, ord=float('inf')).max()\n",
    "beta = l_inf * X.size(1) ** (.5)"
   ]
  },
  {
   "cell_type": "code",
   "execution_count": null,
   "metadata": {
    "id": "fdmfA7IlirsM"
   },
   "outputs": [],
   "source": [
    "x_norm = X / beta"
   ]
  },
  {
   "cell_type": "code",
   "execution_count": null,
   "metadata": {
    "id": "pYEPETXEirsM",
    "outputId": "3a4eda8d-7375-4711-c0d9-a908609ddf1f"
   },
   "outputs": [
    {
     "data": {
      "text/plain": [
       "LinearRegression()"
      ]
     },
     "execution_count": 76,
     "metadata": {},
     "output_type": "execute_result"
    }
   ],
   "source": [
    "gt_norm = LinearRegression()\n",
    "gt_norm.fit(x_norm, y)"
   ]
  },
  {
   "cell_type": "code",
   "execution_count": null,
   "metadata": {
    "id": "JMmtG2QIirsO"
   },
   "outputs": [],
   "source": [
    "norm_w = np.concatenate([gt_norm.coef_, gt_norm.intercept_.reshape(-1, 1)], axis=1)"
   ]
  },
  {
   "cell_type": "code",
   "execution_count": null,
   "metadata": {
    "id": "F5kTbh9lirsO"
   },
   "outputs": [],
   "source": [
    "w_ = np.concatenate([gt_ols.coef_, gt_ols.intercept_.reshape(-1, 1)], axis=1)"
   ]
  },
  {
   "cell_type": "code",
   "execution_count": null,
   "metadata": {
    "id": "GnRYx3SUirsO",
    "outputId": "a32ff816-8990-4ecb-bc18-082f05b58878"
   },
   "outputs": [
    {
     "data": {
      "text/plain": [
       "array([[15.91523  , 15.874461 , 21.831177 , 15.561473 , 15.849096 ,\n",
       "        15.670087 , 15.684167 , 15.925425 , 15.788613 , 15.7659235,\n",
       "         1.0026407]], dtype=float32)"
      ]
     },
     "execution_count": 81,
     "metadata": {},
     "output_type": "execute_result"
    }
   ],
   "source": [
    "norm_w / w_"
   ]
  },
  {
   "cell_type": "code",
   "execution_count": null,
   "metadata": {
    "id": "bdTMorzMirsO",
    "outputId": "fce49dbf-d993-4b9e-efaf-bc42cdccbd77"
   },
   "outputs": [
    {
     "data": {
      "text/plain": [
       "tensor(15.8109)"
      ]
     },
     "execution_count": 83,
     "metadata": {},
     "output_type": "execute_result"
    }
   ],
   "source": [
    "beta"
   ]
  },
  {
   "cell_type": "code",
   "execution_count": null,
   "metadata": {
    "id": "94ubURPsirsO",
    "outputId": "17253010-2b68-494c-ef6c-4726d2024cb1"
   },
   "outputs": [
    {
     "data": {
      "text/plain": [
       "(tensor(2.8282), tensor([0.0923]))"
      ]
     },
     "execution_count": 99,
     "metadata": {},
     "output_type": "execute_result"
    }
   ],
   "source": [
    "poor_results_schema = { \n",
    "    'train_nll': float, \n",
    "    'val_nll': float, \n",
    "    'converge': bool, \n",
    "    'noise_var': int,\n",
    "}"
   ]
  },
  {
   "cell_type": "code",
   "execution_count": null,
   "metadata": {
    "id": "6H-AG--9irsP",
    "outputId": "aadb0329-dcd3-4c4a-fd83-3a0177c50f43"
   },
   "outputs": [
    {
     "data": {
      "text/plain": [
       "tensor([0.0923])"
      ]
     },
     "execution_count": 100,
     "metadata": {},
     "output_type": "execute_result"
    }
   ],
   "source": [
    "gt_unknown_params[:,-1]"
   ]
  },
  {
   "cell_type": "code",
   "execution_count": null,
   "metadata": {
    "id": "UfMqFYxeirsP",
    "outputId": "5b9988f1-b1ac-4fd5-bb2b-050d15f77f47"
   },
   "outputs": [
    {
     "data": {
      "text/plain": [
       "tensor([-5.3711, -3.9572,  0.3237])"
      ]
     },
     "execution_count": 28,
     "metadata": {},
     "output_type": "execute_result"
    }
   ],
   "source": [
    "gt_params"
   ]
  },
  {
   "cell_type": "code",
   "execution_count": null,
   "metadata": {
    "id": "OoCd5UiAirsP",
    "outputId": "22c772b6-ae00-4fe4-8ee8-0168e6f2199f"
   },
   "outputs": [
    {
     "data": {
      "text/plain": [
       "tensor([-5.9933, -4.8433, -0.2351])"
      ]
     },
     "execution_count": 29,
     "metadata": {},
     "output_type": "execute_result"
    }
   ],
   "source": [
    "known_params"
   ]
  },
  {
   "cell_type": "code",
   "execution_count": null,
   "metadata": {
    "id": "GphuJCU7irsQ",
    "outputId": "9a286b93-8eb2-4d0b-b80a-ff68908e9f66"
   },
   "outputs": [
    {
     "data": {
      "text/plain": [
       "tensor([-33.6909, -33.2362, -30.2377])"
      ]
     },
     "execution_count": 30,
     "metadata": {},
     "output_type": "execute_result"
    }
   ],
   "source": [
    "unknown_params"
   ]
  },
  {
   "cell_type": "code",
   "execution_count": null,
   "metadata": {
    "id": "n4mVUxjuirsQ",
    "outputId": "424c1290-4276-41da-fee8-ea94b805d000"
   },
   "outputs": [
    {
     "data": {
      "text/plain": [
       "tensor([-2.7725, -2.2341,  2.7319])"
      ]
     },
     "execution_count": 31,
     "metadata": {},
     "output_type": "execute_result"
    }
   ],
   "source": [
    "ols_params"
   ]
  },
  {
   "cell_type": "code",
   "execution_count": null,
   "metadata": {
    "id": "bGKDSNLJirsQ",
    "outputId": "060865b3-7fd6-4615-cce3-4939f11ec41f"
   },
   "outputs": [
    {
     "data": {
      "text/plain": [
       "tensor(9.8939)"
      ]
     },
     "execution_count": 65,
     "metadata": {},
     "output_type": "execute_result"
    }
   ],
   "source": [
    "mse_loss(gt_params, known_params)"
   ]
  },
  {
   "cell_type": "code",
   "execution_count": null,
   "metadata": {
    "id": "fc0WZhthirsQ",
    "outputId": "f60dcdff-a41b-4e57-d32b-da5e8bac989b"
   },
   "outputs": [
    {
     "data": {
      "text/plain": [
       "tensor(10.9179)"
      ]
     },
     "execution_count": 66,
     "metadata": {},
     "output_type": "execute_result"
    }
   ],
   "source": [
    "mse_loss(gt_params, ols_params)"
   ]
  },
  {
   "cell_type": "code",
   "execution_count": null,
   "metadata": {
    "id": "Q_11Dy_kirsR",
    "outputId": "be7a709b-96b9-49b4-8895-4265a3eb2de7"
   },
   "outputs": [
    {
     "data": {
      "text/plain": [
       "tensor(4.6358)"
      ]
     },
     "execution_count": 67,
     "metadata": {},
     "output_type": "execute_result"
    }
   ],
   "source": [
    "mse_loss(gt_params, unknown_params)"
   ]
  },
  {
   "cell_type": "code",
   "execution_count": null,
   "metadata": {
    "id": "OUqfB_BOirsS",
    "outputId": "aa73204f-c7df-440f-8eb2-5d890739a5f4"
   },
   "outputs": [
    {
     "data": {
      "text/plain": [
       "tensor(0.6809)"
      ]
     },
     "execution_count": 68,
     "metadata": {},
     "output_type": "execute_result"
    }
   ],
   "source": [
    "mse_loss(gt_params, trunc_reg_params)"
   ]
  },
  {
   "cell_type": "code",
   "execution_count": null,
   "metadata": {
    "id": "uPFasuB0irsS",
    "outputId": "ab239429-30e0-4ec3-89bd-de8bcef44604"
   },
   "outputs": [
    {
     "data": {
      "text/plain": [
       "tensor([[7.6996]])"
      ]
     },
     "execution_count": 69,
     "metadata": {},
     "output_type": "execute_result"
    }
   ],
   "source": [
    "unknown_var"
   ]
  },
  {
   "cell_type": "code",
   "execution_count": null,
   "metadata": {
    "id": "ld2qAjUCirsT",
    "outputId": "d94bd6d2-4d73-42db-8473-cf80608a3441"
   },
   "outputs": [
    {
     "data": {
      "text/plain": [
       "tensor([10.0126])"
      ]
     },
     "execution_count": 72,
     "metadata": {},
     "output_type": "execute_result"
    }
   ],
   "source": [
    "trunc_res[-1].pow(2)[None,...]"
   ]
  },
  {
   "cell_type": "code",
   "execution_count": null,
   "metadata": {
    "id": "XblaM2ekirsT",
    "outputId": "f4cab947-2d66-47a2-ef26-88303e875ee0"
   },
   "outputs": [
    {
     "data": {
      "text/plain": [
       "tensor([[10.]])"
      ]
     },
     "execution_count": 73,
     "metadata": {},
     "output_type": "execute_result"
    }
   ],
   "source": [
    "noise_var"
   ]
  },
  {
   "cell_type": "code",
   "execution_count": null,
   "metadata": {
    "id": "EKatsUo_irsU"
   },
   "outputs": [],
   "source": [
    "my_list = ch.randn(100000, 1)"
   ]
  },
  {
   "cell_type": "code",
   "execution_count": null,
   "metadata": {
    "id": "rMOgNOwxirsU",
    "outputId": "c1c1ee55-6350-4074-eaa9-048434aa3838"
   },
   "outputs": [
    {
     "name": "stdout",
     "output_type": "stream",
     "text": [
      "4.36.1\r\n"
     ]
    }
   ],
   "source": [
    "!tqdm --version"
   ]
  },
  {
   "cell_type": "code",
   "execution_count": null,
   "metadata": {
    "id": "ihBaIx9WirsV",
    "outputId": "6cb8e921-f89a-40ec-ecc3-12af728dfa08"
   },
   "outputs": [
    {
     "ename": "RuntimeError",
     "evalue": "The size of tensor a (50) must match the size of tensor b (1500) at non-singleton dimension 0",
     "output_type": "error",
     "traceback": [
      "\u001b[0;31m---------------------------------------------------------------------------\u001b[0m",
      "\u001b[0;31mRuntimeError\u001b[0m                              Traceback (most recent call last)",
      "\u001b[0;32m<ipython-input-52-69b9c8eeb53a>\u001b[0m in \u001b[0;36m<module>\u001b[0;34m\u001b[0m\n\u001b[0;32m----> 1\u001b[0;31m \u001b[0mnoised\u001b[0m \u001b[0;34m=\u001b[0m \u001b[0my\u001b[0m \u001b[0;34m+\u001b[0m \u001b[0mch\u001b[0m\u001b[0;34m.\u001b[0m\u001b[0msqrt\u001b[0m\u001b[0;34m(\u001b[0m\u001b[0mnoise_var\u001b[0m\u001b[0;34m)\u001b[0m \u001b[0;34m*\u001b[0m \u001b[0mch\u001b[0m\u001b[0;34m.\u001b[0m\u001b[0mrandn\u001b[0m\u001b[0;34m(\u001b[0m\u001b[0mX\u001b[0m\u001b[0;34m.\u001b[0m\u001b[0msize\u001b[0m\u001b[0;34m(\u001b[0m\u001b[0;36m0\u001b[0m\u001b[0;34m)\u001b[0m\u001b[0;34m,\u001b[0m \u001b[0;36m1\u001b[0m\u001b[0;34m)\u001b[0m\u001b[0;34m\u001b[0m\u001b[0;34m\u001b[0m\u001b[0m\n\u001b[0m",
      "\u001b[0;31mRuntimeError\u001b[0m: The size of tensor a (50) must match the size of tensor b (1500) at non-singleton dimension 0"
     ]
    }
   ],
   "source": [
    "noised = y + ch.sqrt(noise_var) * ch.randn(X.size(0), 1)\n"
   ]
  },
  {
   "cell_type": "code",
   "execution_count": null,
   "metadata": {
    "id": "dLTUCQmjirsV",
    "outputId": "b796476c-89f2-49eb-9739-32f6b75af385"
   },
   "outputs": [
    {
     "data": {
      "text/plain": [
       "tensor(1.3272)"
      ]
     },
     "execution_count": 126,
     "metadata": {},
     "output_type": "execute_result"
    }
   ],
   "source": [
    "stand_y_trunc.var()"
   ]
  },
  {
   "cell_type": "code",
   "execution_count": null,
   "metadata": {
    "id": "ZMvrm-HairsV",
    "outputId": "d65de950-a741-4f6b-b6e2-1d94469711aa"
   },
   "outputs": [
    {
     "data": {
      "text/plain": [
       "1500"
      ]
     },
     "execution_count": 55,
     "metadata": {},
     "output_type": "execute_result"
    }
   ],
   "source": [
    "X.size(0)"
   ]
  },
  {
   "cell_type": "code",
   "execution_count": null,
   "metadata": {
    "id": "eTDfc_HVirsV",
    "outputId": "574f38c4-173a-48a3-95bc-413e57c562cd"
   },
   "outputs": [
    {
     "data": {
      "text/plain": [
       "tensor([[10.]])"
      ]
     },
     "execution_count": 57,
     "metadata": {},
     "output_type": "execute_result"
    }
   ],
   "source": [
    "noise_var"
   ]
  },
  {
   "cell_type": "code",
   "execution_count": null,
   "metadata": {
    "id": "7zSXlVuoirsW"
   },
   "outputs": [],
   "source": [
    "x_, y_ = gen_ground_truth()"
   ]
  },
  {
   "cell_type": "code",
   "execution_count": null,
   "metadata": {
    "id": "L42BvJpeirsW",
    "outputId": "8983fc38-1aca-44ca-ac96-b1b8c8884021"
   },
   "outputs": [
    {
     "data": {
      "text/plain": [
       "(torch.Size([1500, 2]), torch.Size([1500, 1]))"
      ]
     },
     "execution_count": 60,
     "metadata": {},
     "output_type": "execute_result"
    }
   ],
   "source": [
    "x_.size(), y_.size()"
   ]
  },
  {
   "cell_type": "code",
   "execution_count": null,
   "metadata": {
    "id": "RDiqZ7OZirsW",
    "outputId": "03e3a128-5d33-4120-837a-6146282f390e"
   },
   "outputs": [
    {
     "data": {
      "text/plain": [
       "torch.Size([50, 1])"
      ]
     },
     "execution_count": 62,
     "metadata": {},
     "output_type": "execute_result"
    }
   ],
   "source": [
    "y.size()"
   ]
  },
  {
   "cell_type": "code",
   "execution_count": null,
   "metadata": {
    "id": "_g-ZvKNMirsW",
    "outputId": "3bc8d6be-221c-4a9a-b5aa-062106d2aa27"
   },
   "outputs": [
    {
     "data": {
      "text/plain": [
       "(tensor([[10.]]), tensor(1.3272))"
      ]
     },
     "execution_count": 128,
     "metadata": {},
     "output_type": "execute_result"
    }
   ],
   "source": [
    "noise_var, stand_y_trunc.var()"
   ]
  },
  {
   "cell_type": "code",
   "execution_count": null,
   "metadata": {
    "id": "JSNSbGabirsX",
    "outputId": "57ed9231-0fc3-4ec2-bb70-9913cfeea1c7"
   },
   "outputs": [
    {
     "data": {
      "text/plain": [
       "tensor([  3.8552,   3.9957,  11.0500,   2.0983,   3.5950,   5.7007, -10.0353,\n",
       "          7.4186,  -0.3144,  10.8848,   1.0893])"
      ]
     },
     "execution_count": 129,
     "metadata": {},
     "output_type": "execute_result"
    }
   ],
   "source": [
    "known_params"
   ]
  },
  {
   "cell_type": "code",
   "execution_count": null,
   "metadata": {
    "id": "NGwkKgeSirsX",
    "outputId": "76494a66-0ba8-4567-8297-73ec66d708b8"
   },
   "outputs": [
    {
     "data": {
      "text/plain": [
       "tensor([  5.3274,   5.9516,  15.2384,   2.6309,   4.6678,   7.9395, -14.1709,\n",
       "          9.6652,  -0.3480,  14.1360,  -0.8966])"
      ]
     },
     "execution_count": 130,
     "metadata": {},
     "output_type": "execute_result"
    }
   ],
   "source": [
    "gt_params"
   ]
  },
  {
   "cell_type": "code",
   "execution_count": 85,
   "metadata": {
    "colab": {
     "base_uri": "https://localhost:8080/"
    },
    "executionInfo": {
     "elapsed": 5167,
     "status": "ok",
     "timestamp": 1649699309512,
     "user": {
      "displayName": "Pat Stefanou",
      "userId": "03550109589279644114"
     },
     "user_tz": 240
    },
    "id": "rPTRnkK8irsX",
    "outputId": "adb4b622-fe50-4679-bbbb-ca8b3df58c1c"
   },
   "outputs": [
    {
     "name": "stderr",
     "output_type": "stream",
     "text": [
      "R[write to console]: Installing package into ‘/usr/local/lib/R/site-library’\n",
      "(as ‘lib’ is unspecified)\n",
      "\n",
      "R[write to console]: trying URL 'https://cran.rstudio.com/src/contrib/truncreg_0.2-5.tar.gz'\n",
      "\n",
      "R[write to console]: Content type 'application/x-gzip'\n",
      "R[write to console]:  length 6699 bytes\n",
      "\n",
      "R[write to console]: =\n",
      "R[write to console]: =\n",
      "R[write to console]: =\n",
      "R[write to console]: =\n",
      "R[write to console]: =\n",
      "R[write to console]: =\n",
      "R[write to console]: =\n",
      "R[write to console]: =\n",
      "R[write to console]: =\n",
      "R[write to console]: =\n",
      "R[write to console]: =\n",
      "R[write to console]: =\n",
      "R[write to console]: =\n",
      "R[write to console]: =\n",
      "R[write to console]: =\n",
      "R[write to console]: =\n",
      "R[write to console]: =\n",
      "R[write to console]: =\n",
      "R[write to console]: =\n",
      "R[write to console]: =\n",
      "R[write to console]: =\n",
      "R[write to console]: =\n",
      "R[write to console]: =\n",
      "R[write to console]: =\n",
      "R[write to console]: =\n",
      "R[write to console]: =\n",
      "R[write to console]: =\n",
      "R[write to console]: =\n",
      "R[write to console]: =\n",
      "R[write to console]: =\n",
      "R[write to console]: =\n",
      "R[write to console]: =\n",
      "R[write to console]: =\n",
      "R[write to console]: =\n",
      "R[write to console]: =\n",
      "R[write to console]: =\n",
      "R[write to console]: =\n",
      "R[write to console]: =\n",
      "R[write to console]: =\n",
      "R[write to console]: =\n",
      "R[write to console]: =\n",
      "R[write to console]: =\n",
      "R[write to console]: =\n",
      "R[write to console]: =\n",
      "R[write to console]: =\n",
      "R[write to console]: =\n",
      "R[write to console]: =\n",
      "R[write to console]: =\n",
      "R[write to console]: =\n",
      "R[write to console]: =\n",
      "R[write to console]: \n",
      "\n",
      "R[write to console]: downloaded 6699 bytes\n",
      "\n",
      "\n",
      "R[write to console]: \n",
      "\n",
      "R[write to console]: \n",
      "R[write to console]: The downloaded source packages are in\n",
      "\t‘/tmp/RtmpXb75zG/downloaded_packages’\n",
      "R[write to console]: \n",
      "R[write to console]: \n",
      "\n"
     ]
    }
   ],
   "source": [
    "%%R\n",
    "install.packages('truncreg')"
   ]
  },
  {
   "cell_type": "code",
   "execution_count": 113,
   "metadata": {
    "colab": {
     "base_uri": "https://localhost:8080/"
    },
    "executionInfo": {
     "elapsed": 158,
     "status": "ok",
     "timestamp": 1649699828703,
     "user": {
      "displayName": "Pat Stefanou",
      "userId": "03550109589279644114"
     },
     "user_tz": 240
    },
    "id": "qcGY-ARMirsX",
    "outputId": "6ddef497-a1c8-45f0-b2a9-a979f42e3510"
   },
   "outputs": [
    {
     "name": "stdout",
     "output_type": "stream",
     "text": [
      "The rpy2.ipython extension is already loaded. To reload it, use:\n",
      "  %reload_ext rpy2.ipython\n"
     ]
    }
   ],
   "source": [
    "%load_ext rpy2.ipython\n",
    "\n",
    "X_ = x_trunc.numpy()\n",
    "%R -i X_\n",
    "\n",
    "y_ = y_trunc.numpy()\n",
    "%R -i y_"
   ]
  },
  {
   "cell_type": "code",
   "execution_count": 129,
   "metadata": {
    "colab": {
     "base_uri": "https://localhost:8080/",
     "height": 824
    },
    "executionInfo": {
     "elapsed": 316,
     "status": "error",
     "timestamp": 1649700286393,
     "user": {
      "displayName": "Pat Stefanou",
      "userId": "03550109589279644114"
     },
     "user_tz": 240
    },
    "id": "jMM6GW8OpJSR",
    "outputId": "d6e9ac1c-4da0-4896-d59c-9ce7ed9fe1c7"
   },
   "outputs": [
    {
     "name": "stderr",
     "output_type": "stream",
     "text": [
      "R[write to console]: Error in dimnames(x) <- dn : \n",
      "  length of 'dimnames' [2] not equal to array extent\n",
      "\n",
      "R[write to console]: In addition: \n",
      "R[write to console]: Warning message:\n",
      "\n",
      "R[write to console]: In if (class(X) == \"matrix\") formula.type <- FALSE else formula.type <- TRUE :\n",
      "R[write to console]: \n",
      " \n",
      "R[write to console]:  the condition has length > 1 and only the first element will be used\n",
      "\n"
     ]
    },
    {
     "name": "stdout",
     "output_type": "stream",
     "text": [
      "\n",
      "Error in dimnames(x) <- dn : \n",
      "  length of 'dimnames' [2] not equal to array extent\n"
     ]
    },
    {
     "ename": "RInterpreterError",
     "evalue": "ignored",
     "output_type": "error",
     "traceback": [
      "\u001b[0;31m---------------------------------------------------------------------------\u001b[0m",
      "\u001b[0;31mRRuntimeError\u001b[0m                             Traceback (most recent call last)",
      "\u001b[0;32m/usr/local/lib/python3.7/dist-packages/rpy2/ipython/rmagic.py\u001b[0m in \u001b[0;36meval\u001b[0;34m(self, code)\u001b[0m\n\u001b[1;32m    267\u001b[0m                 \u001b[0;31m# Need the newline in case the last line in code is a comment.\u001b[0m\u001b[0;34m\u001b[0m\u001b[0;34m\u001b[0m\u001b[0;34m\u001b[0m\u001b[0m\n\u001b[0;32m--> 268\u001b[0;31m                 \u001b[0mvalue\u001b[0m\u001b[0;34m,\u001b[0m \u001b[0mvisible\u001b[0m \u001b[0;34m=\u001b[0m \u001b[0mro\u001b[0m\u001b[0;34m.\u001b[0m\u001b[0mr\u001b[0m\u001b[0;34m(\u001b[0m\u001b[0;34m\"withVisible({%s\\n})\"\u001b[0m \u001b[0;34m%\u001b[0m \u001b[0mcode\u001b[0m\u001b[0;34m)\u001b[0m\u001b[0;34m\u001b[0m\u001b[0;34m\u001b[0m\u001b[0m\n\u001b[0m\u001b[1;32m    269\u001b[0m             \u001b[0;32mexcept\u001b[0m \u001b[0;34m(\u001b[0m\u001b[0mri\u001b[0m\u001b[0;34m.\u001b[0m\u001b[0membedded\u001b[0m\u001b[0;34m.\u001b[0m\u001b[0mRRuntimeError\u001b[0m\u001b[0;34m,\u001b[0m \u001b[0mValueError\u001b[0m\u001b[0;34m)\u001b[0m \u001b[0;32mas\u001b[0m \u001b[0mexception\u001b[0m\u001b[0;34m:\u001b[0m\u001b[0;34m\u001b[0m\u001b[0;34m\u001b[0m\u001b[0m\n",
      "\u001b[0;32m/usr/local/lib/python3.7/dist-packages/rpy2/robjects/__init__.py\u001b[0m in \u001b[0;36m__call__\u001b[0;34m(self, string)\u001b[0m\n\u001b[1;32m    437\u001b[0m         \u001b[0mp\u001b[0m \u001b[0;34m=\u001b[0m \u001b[0mrinterface\u001b[0m\u001b[0;34m.\u001b[0m\u001b[0mparse\u001b[0m\u001b[0;34m(\u001b[0m\u001b[0mstring\u001b[0m\u001b[0;34m)\u001b[0m\u001b[0;34m\u001b[0m\u001b[0;34m\u001b[0m\u001b[0m\n\u001b[0;32m--> 438\u001b[0;31m         \u001b[0mres\u001b[0m \u001b[0;34m=\u001b[0m \u001b[0mself\u001b[0m\u001b[0;34m.\u001b[0m\u001b[0meval\u001b[0m\u001b[0;34m(\u001b[0m\u001b[0mp\u001b[0m\u001b[0;34m)\u001b[0m\u001b[0;34m\u001b[0m\u001b[0;34m\u001b[0m\u001b[0m\n\u001b[0m\u001b[1;32m    439\u001b[0m         \u001b[0;32mreturn\u001b[0m \u001b[0mconversion\u001b[0m\u001b[0;34m.\u001b[0m\u001b[0mrpy2py\u001b[0m\u001b[0;34m(\u001b[0m\u001b[0mres\u001b[0m\u001b[0;34m)\u001b[0m\u001b[0;34m\u001b[0m\u001b[0;34m\u001b[0m\u001b[0m\n",
      "\u001b[0;32m/usr/local/lib/python3.7/dist-packages/rpy2/robjects/functions.py\u001b[0m in \u001b[0;36m__call__\u001b[0;34m(self, *args, **kwargs)\u001b[0m\n\u001b[1;32m    198\u001b[0m         return (super(SignatureTranslatedFunction, self)\n\u001b[0;32m--> 199\u001b[0;31m                 .__call__(*args, **kwargs))\n\u001b[0m\u001b[1;32m    200\u001b[0m \u001b[0;34m\u001b[0m\u001b[0m\n",
      "\u001b[0;32m/usr/local/lib/python3.7/dist-packages/rpy2/robjects/functions.py\u001b[0m in \u001b[0;36m__call__\u001b[0;34m(self, *args, **kwargs)\u001b[0m\n\u001b[1;32m    124\u001b[0m                 \u001b[0mnew_kwargs\u001b[0m\u001b[0;34m[\u001b[0m\u001b[0mk\u001b[0m\u001b[0;34m]\u001b[0m \u001b[0;34m=\u001b[0m \u001b[0mconversion\u001b[0m\u001b[0;34m.\u001b[0m\u001b[0mpy2rpy\u001b[0m\u001b[0;34m(\u001b[0m\u001b[0mv\u001b[0m\u001b[0;34m)\u001b[0m\u001b[0;34m\u001b[0m\u001b[0;34m\u001b[0m\u001b[0m\n\u001b[0;32m--> 125\u001b[0;31m         \u001b[0mres\u001b[0m \u001b[0;34m=\u001b[0m \u001b[0msuper\u001b[0m\u001b[0;34m(\u001b[0m\u001b[0mFunction\u001b[0m\u001b[0;34m,\u001b[0m \u001b[0mself\u001b[0m\u001b[0;34m)\u001b[0m\u001b[0;34m.\u001b[0m\u001b[0m__call__\u001b[0m\u001b[0;34m(\u001b[0m\u001b[0;34m*\u001b[0m\u001b[0mnew_args\u001b[0m\u001b[0;34m,\u001b[0m \u001b[0;34m**\u001b[0m\u001b[0mnew_kwargs\u001b[0m\u001b[0;34m)\u001b[0m\u001b[0;34m\u001b[0m\u001b[0;34m\u001b[0m\u001b[0m\n\u001b[0m\u001b[1;32m    126\u001b[0m         \u001b[0mres\u001b[0m \u001b[0;34m=\u001b[0m \u001b[0mconversion\u001b[0m\u001b[0;34m.\u001b[0m\u001b[0mrpy2py\u001b[0m\u001b[0;34m(\u001b[0m\u001b[0mres\u001b[0m\u001b[0;34m)\u001b[0m\u001b[0;34m\u001b[0m\u001b[0;34m\u001b[0m\u001b[0m\n",
      "\u001b[0;32m/usr/local/lib/python3.7/dist-packages/rpy2/rinterface_lib/conversion.py\u001b[0m in \u001b[0;36m_\u001b[0;34m(*args, **kwargs)\u001b[0m\n\u001b[1;32m     44\u001b[0m     \u001b[0;32mdef\u001b[0m \u001b[0m_\u001b[0m\u001b[0;34m(\u001b[0m\u001b[0;34m*\u001b[0m\u001b[0margs\u001b[0m\u001b[0;34m,\u001b[0m \u001b[0;34m**\u001b[0m\u001b[0mkwargs\u001b[0m\u001b[0;34m)\u001b[0m\u001b[0;34m:\u001b[0m\u001b[0;34m\u001b[0m\u001b[0;34m\u001b[0m\u001b[0m\n\u001b[0;32m---> 45\u001b[0;31m         \u001b[0mcdata\u001b[0m \u001b[0;34m=\u001b[0m \u001b[0mfunction\u001b[0m\u001b[0;34m(\u001b[0m\u001b[0;34m*\u001b[0m\u001b[0margs\u001b[0m\u001b[0;34m,\u001b[0m \u001b[0;34m**\u001b[0m\u001b[0mkwargs\u001b[0m\u001b[0;34m)\u001b[0m\u001b[0;34m\u001b[0m\u001b[0;34m\u001b[0m\u001b[0m\n\u001b[0m\u001b[1;32m     46\u001b[0m         \u001b[0;31m# TODO: test cdata is of the expected CType\u001b[0m\u001b[0;34m\u001b[0m\u001b[0;34m\u001b[0m\u001b[0;34m\u001b[0m\u001b[0m\n",
      "\u001b[0;32m/usr/local/lib/python3.7/dist-packages/rpy2/rinterface.py\u001b[0m in \u001b[0;36m__call__\u001b[0;34m(self, *args, **kwargs)\u001b[0m\n\u001b[1;32m    679\u001b[0m             \u001b[0;32mif\u001b[0m \u001b[0merror_occured\u001b[0m\u001b[0;34m[\u001b[0m\u001b[0;36m0\u001b[0m\u001b[0;34m]\u001b[0m\u001b[0;34m:\u001b[0m\u001b[0;34m\u001b[0m\u001b[0;34m\u001b[0m\u001b[0m\n\u001b[0;32m--> 680\u001b[0;31m                 \u001b[0;32mraise\u001b[0m \u001b[0membedded\u001b[0m\u001b[0;34m.\u001b[0m\u001b[0mRRuntimeError\u001b[0m\u001b[0;34m(\u001b[0m\u001b[0m_rinterface\u001b[0m\u001b[0;34m.\u001b[0m\u001b[0m_geterrmessage\u001b[0m\u001b[0;34m(\u001b[0m\u001b[0;34m)\u001b[0m\u001b[0;34m)\u001b[0m\u001b[0;34m\u001b[0m\u001b[0;34m\u001b[0m\u001b[0m\n\u001b[0m\u001b[1;32m    681\u001b[0m         \u001b[0;32mreturn\u001b[0m \u001b[0mres\u001b[0m\u001b[0;34m\u001b[0m\u001b[0;34m\u001b[0m\u001b[0m\n",
      "\u001b[0;31mRRuntimeError\u001b[0m: Error in dimnames(x) <- dn : \n  length of 'dimnames' [2] not equal to array extent\n",
      "\nDuring handling of the above exception, another exception occurred:\n",
      "\u001b[0;31mRInterpreterError\u001b[0m                         Traceback (most recent call last)",
      "\u001b[0;32m<ipython-input-129-e4049d3bafeb>\u001b[0m in \u001b[0;36m<module>\u001b[0;34m()\u001b[0m\n\u001b[0;32m----> 1\u001b[0;31m \u001b[0mget_ipython\u001b[0m\u001b[0;34m(\u001b[0m\u001b[0;34m)\u001b[0m\u001b[0;34m.\u001b[0m\u001b[0mrun_cell_magic\u001b[0m\u001b[0;34m(\u001b[0m\u001b[0;34m'R'\u001b[0m\u001b[0;34m,\u001b[0m \u001b[0;34m''\u001b[0m\u001b[0;34m,\u001b[0m \u001b[0;34m\"library(truncreg)\\nX <- as.matrix(X_)\\ny <- as.matrix(y_)\\ndf <- data.frame(X=X, y=y)\\n# truncated regression procedure\\ntrunc_reg <- truncreg(df$y ~ X, data=df, point=0, direction='left', scaled=TRUE)\\n# return model coefficients\\n# coef_df <- coef(trunc_reg)\"\u001b[0m\u001b[0;34m)\u001b[0m\u001b[0;34m\u001b[0m\u001b[0;34m\u001b[0m\u001b[0m\n\u001b[0m",
      "\u001b[0;32m/usr/local/lib/python3.7/dist-packages/IPython/core/interactiveshell.py\u001b[0m in \u001b[0;36mrun_cell_magic\u001b[0;34m(self, magic_name, line, cell)\u001b[0m\n\u001b[1;32m   2115\u001b[0m             \u001b[0mmagic_arg_s\u001b[0m \u001b[0;34m=\u001b[0m \u001b[0mself\u001b[0m\u001b[0;34m.\u001b[0m\u001b[0mvar_expand\u001b[0m\u001b[0;34m(\u001b[0m\u001b[0mline\u001b[0m\u001b[0;34m,\u001b[0m \u001b[0mstack_depth\u001b[0m\u001b[0;34m)\u001b[0m\u001b[0;34m\u001b[0m\u001b[0;34m\u001b[0m\u001b[0m\n\u001b[1;32m   2116\u001b[0m             \u001b[0;32mwith\u001b[0m \u001b[0mself\u001b[0m\u001b[0;34m.\u001b[0m\u001b[0mbuiltin_trap\u001b[0m\u001b[0;34m:\u001b[0m\u001b[0;34m\u001b[0m\u001b[0;34m\u001b[0m\u001b[0m\n\u001b[0;32m-> 2117\u001b[0;31m                 \u001b[0mresult\u001b[0m \u001b[0;34m=\u001b[0m \u001b[0mfn\u001b[0m\u001b[0;34m(\u001b[0m\u001b[0mmagic_arg_s\u001b[0m\u001b[0;34m,\u001b[0m \u001b[0mcell\u001b[0m\u001b[0;34m)\u001b[0m\u001b[0;34m\u001b[0m\u001b[0;34m\u001b[0m\u001b[0m\n\u001b[0m\u001b[1;32m   2118\u001b[0m             \u001b[0;32mreturn\u001b[0m \u001b[0mresult\u001b[0m\u001b[0;34m\u001b[0m\u001b[0;34m\u001b[0m\u001b[0m\n\u001b[1;32m   2119\u001b[0m \u001b[0;34m\u001b[0m\u001b[0m\n",
      "\u001b[0;32m<decorator-gen-121>\u001b[0m in \u001b[0;36mR\u001b[0;34m(self, line, cell, local_ns)\u001b[0m\n",
      "\u001b[0;32m/usr/local/lib/python3.7/dist-packages/IPython/core/magic.py\u001b[0m in \u001b[0;36m<lambda>\u001b[0;34m(f, *a, **k)\u001b[0m\n\u001b[1;32m    186\u001b[0m     \u001b[0;31m# but it's overkill for just that one bit of state.\u001b[0m\u001b[0;34m\u001b[0m\u001b[0;34m\u001b[0m\u001b[0;34m\u001b[0m\u001b[0m\n\u001b[1;32m    187\u001b[0m     \u001b[0;32mdef\u001b[0m \u001b[0mmagic_deco\u001b[0m\u001b[0;34m(\u001b[0m\u001b[0marg\u001b[0m\u001b[0;34m)\u001b[0m\u001b[0;34m:\u001b[0m\u001b[0;34m\u001b[0m\u001b[0;34m\u001b[0m\u001b[0m\n\u001b[0;32m--> 188\u001b[0;31m         \u001b[0mcall\u001b[0m \u001b[0;34m=\u001b[0m \u001b[0;32mlambda\u001b[0m \u001b[0mf\u001b[0m\u001b[0;34m,\u001b[0m \u001b[0;34m*\u001b[0m\u001b[0ma\u001b[0m\u001b[0;34m,\u001b[0m \u001b[0;34m**\u001b[0m\u001b[0mk\u001b[0m\u001b[0;34m:\u001b[0m \u001b[0mf\u001b[0m\u001b[0;34m(\u001b[0m\u001b[0;34m*\u001b[0m\u001b[0ma\u001b[0m\u001b[0;34m,\u001b[0m \u001b[0;34m**\u001b[0m\u001b[0mk\u001b[0m\u001b[0;34m)\u001b[0m\u001b[0;34m\u001b[0m\u001b[0;34m\u001b[0m\u001b[0m\n\u001b[0m\u001b[1;32m    189\u001b[0m \u001b[0;34m\u001b[0m\u001b[0m\n\u001b[1;32m    190\u001b[0m         \u001b[0;32mif\u001b[0m \u001b[0mcallable\u001b[0m\u001b[0;34m(\u001b[0m\u001b[0marg\u001b[0m\u001b[0;34m)\u001b[0m\u001b[0;34m:\u001b[0m\u001b[0;34m\u001b[0m\u001b[0;34m\u001b[0m\u001b[0m\n",
      "\u001b[0;32m/usr/local/lib/python3.7/dist-packages/rpy2/ipython/rmagic.py\u001b[0m in \u001b[0;36mR\u001b[0;34m(self, line, cell, local_ns)\u001b[0m\n\u001b[1;32m    781\u001b[0m             \u001b[0;32mif\u001b[0m \u001b[0;32mnot\u001b[0m \u001b[0me\u001b[0m\u001b[0;34m.\u001b[0m\u001b[0mstdout\u001b[0m\u001b[0;34m.\u001b[0m\u001b[0mendswith\u001b[0m\u001b[0;34m(\u001b[0m\u001b[0me\u001b[0m\u001b[0;34m.\u001b[0m\u001b[0merr\u001b[0m\u001b[0;34m)\u001b[0m\u001b[0;34m:\u001b[0m\u001b[0;34m\u001b[0m\u001b[0;34m\u001b[0m\u001b[0m\n\u001b[1;32m    782\u001b[0m                 \u001b[0mprint\u001b[0m\u001b[0;34m(\u001b[0m\u001b[0me\u001b[0m\u001b[0;34m.\u001b[0m\u001b[0merr\u001b[0m\u001b[0;34m)\u001b[0m\u001b[0;34m\u001b[0m\u001b[0;34m\u001b[0m\u001b[0m\n\u001b[0;32m--> 783\u001b[0;31m             \u001b[0;32mraise\u001b[0m \u001b[0me\u001b[0m\u001b[0;34m\u001b[0m\u001b[0;34m\u001b[0m\u001b[0m\n\u001b[0m\u001b[1;32m    784\u001b[0m         \u001b[0;32mfinally\u001b[0m\u001b[0;34m:\u001b[0m\u001b[0;34m\u001b[0m\u001b[0;34m\u001b[0m\u001b[0m\n\u001b[1;32m    785\u001b[0m             \u001b[0;32mif\u001b[0m \u001b[0mself\u001b[0m\u001b[0;34m.\u001b[0m\u001b[0mdevice\u001b[0m \u001b[0;32min\u001b[0m \u001b[0;34m[\u001b[0m\u001b[0;34m'png'\u001b[0m\u001b[0;34m,\u001b[0m \u001b[0;34m'svg'\u001b[0m\u001b[0;34m]\u001b[0m\u001b[0;34m:\u001b[0m\u001b[0;34m\u001b[0m\u001b[0;34m\u001b[0m\u001b[0m\n",
      "\u001b[0;32m/usr/local/lib/python3.7/dist-packages/rpy2/ipython/rmagic.py\u001b[0m in \u001b[0;36mR\u001b[0;34m(self, line, cell, local_ns)\u001b[0m\n\u001b[1;32m    761\u001b[0m                     \u001b[0mreturn_output\u001b[0m \u001b[0;34m=\u001b[0m \u001b[0;32mFalse\u001b[0m\u001b[0;34m\u001b[0m\u001b[0;34m\u001b[0m\u001b[0m\n\u001b[1;32m    762\u001b[0m             \u001b[0;32melse\u001b[0m\u001b[0;34m:\u001b[0m\u001b[0;34m\u001b[0m\u001b[0;34m\u001b[0m\u001b[0m\n\u001b[0;32m--> 763\u001b[0;31m                 \u001b[0mtext_result\u001b[0m\u001b[0;34m,\u001b[0m \u001b[0mresult\u001b[0m\u001b[0;34m,\u001b[0m \u001b[0mvisible\u001b[0m \u001b[0;34m=\u001b[0m \u001b[0mself\u001b[0m\u001b[0;34m.\u001b[0m\u001b[0meval\u001b[0m\u001b[0;34m(\u001b[0m\u001b[0mcode\u001b[0m\u001b[0;34m)\u001b[0m\u001b[0;34m\u001b[0m\u001b[0;34m\u001b[0m\u001b[0m\n\u001b[0m\u001b[1;32m    764\u001b[0m                 \u001b[0mtext_output\u001b[0m \u001b[0;34m+=\u001b[0m \u001b[0mtext_result\u001b[0m\u001b[0;34m\u001b[0m\u001b[0;34m\u001b[0m\u001b[0m\n\u001b[1;32m    765\u001b[0m                 \u001b[0;32mif\u001b[0m \u001b[0mvisible\u001b[0m\u001b[0;34m:\u001b[0m\u001b[0;34m\u001b[0m\u001b[0;34m\u001b[0m\u001b[0m\n",
      "\u001b[0;32m/usr/local/lib/python3.7/dist-packages/rpy2/ipython/rmagic.py\u001b[0m in \u001b[0;36meval\u001b[0;34m(self, code)\u001b[0m\n\u001b[1;32m    271\u001b[0m                 \u001b[0mwarning_or_other_msg\u001b[0m \u001b[0;34m=\u001b[0m \u001b[0mself\u001b[0m\u001b[0;34m.\u001b[0m\u001b[0mflush\u001b[0m\u001b[0;34m(\u001b[0m\u001b[0;34m)\u001b[0m\u001b[0;34m\u001b[0m\u001b[0;34m\u001b[0m\u001b[0m\n\u001b[1;32m    272\u001b[0m                 raise RInterpreterError(code, str(exception),\n\u001b[0;32m--> 273\u001b[0;31m                                         warning_or_other_msg)\n\u001b[0m\u001b[1;32m    274\u001b[0m             \u001b[0mtext_output\u001b[0m \u001b[0;34m=\u001b[0m \u001b[0mself\u001b[0m\u001b[0;34m.\u001b[0m\u001b[0mflush\u001b[0m\u001b[0;34m(\u001b[0m\u001b[0;34m)\u001b[0m\u001b[0;34m\u001b[0m\u001b[0;34m\u001b[0m\u001b[0m\n\u001b[1;32m    275\u001b[0m             \u001b[0;32mreturn\u001b[0m \u001b[0mtext_output\u001b[0m\u001b[0;34m,\u001b[0m \u001b[0mvalue\u001b[0m\u001b[0;34m,\u001b[0m \u001b[0mvisible\u001b[0m\u001b[0;34m[\u001b[0m\u001b[0;36m0\u001b[0m\u001b[0;34m]\u001b[0m\u001b[0;34m\u001b[0m\u001b[0;34m\u001b[0m\u001b[0m\n",
      "\u001b[0;31mRInterpreterError\u001b[0m: Failed to parse and evaluate line \"library(truncreg)\\nX <- as.matrix(X_)\\ny <- as.matrix(y_)\\ndf <- data.frame(X=X, y=y)\\n# truncated regression procedure\\ntrunc_reg <- truncreg(df$y ~ X, data=df, point=0, direction='left', scaled=TRUE)\\n# return model coefficients\\n# coef_df <- coef(trunc_reg)\".\nR error message: \"Error in dimnames(x) <- dn : \\n  length of 'dimnames' [2] not equal to array extent\""
     ]
    }
   ],
   "source": [
    "%%R\n",
    "library(truncreg)\n",
    "X <- as.matrix(X_)\n",
    "y <- as.matrix(y_)\n",
    "df <- data.frame(X=X, y=y)\n",
    "# truncated regression procedure\n",
    "trunc_reg <- truncreg(df$y ~ X, data=df, point=0, direction='left', scaled=TRUE)\n",
    "# return model coefficients\n",
    "# coef_df <- coef(trunc_reg)"
   ]
  },
  {
   "cell_type": "code",
   "execution_count": 130,
   "metadata": {
    "colab": {
     "base_uri": "https://localhost:8080/"
    },
    "executionInfo": {
     "elapsed": 2215,
     "status": "ok",
     "timestamp": 1649700298807,
     "user": {
      "displayName": "Pat Stefanou",
      "userId": "03550109589279644114"
     },
     "user_tz": 240
    },
    "id": "ED9TPlI7r0GF",
    "outputId": "05dec1a8-dcec-4066-b90a-eded00f2e155"
   },
   "outputs": [
    {
     "name": "stdout",
     "output_type": "stream",
     "text": [
      " [1] \"X.1\"  \"X.2\"  \"X.3\"  \"X.4\"  \"X.5\"  \"X.6\"  \"X.7\"  \"X.8\"  \"X.9\"  \"X.10\"\n",
      "[11] \"y\"   \n",
      "[[1]]\n",
      "  [1] \"1\"   \"2\"   \"3\"   \"4\"   \"5\"   \"6\"   \"7\"   \"8\"   \"9\"   \"10\"  \"11\"  \"12\" \n",
      " [13] \"13\"  \"14\"  \"15\"  \"16\"  \"17\"  \"18\"  \"19\"  \"20\"  \"21\"  \"22\"  \"23\"  \"24\" \n",
      " [25] \"25\"  \"26\"  \"27\"  \"28\"  \"29\"  \"30\"  \"31\"  \"32\"  \"33\"  \"34\"  \"35\"  \"36\" \n",
      " [37] \"37\"  \"38\"  \"39\"  \"40\"  \"41\"  \"42\"  \"43\"  \"44\"  \"45\"  \"46\"  \"47\"  \"48\" \n",
      " [49] \"49\"  \"50\"  \"51\"  \"52\"  \"53\"  \"54\"  \"55\"  \"56\"  \"57\"  \"58\"  \"59\"  \"60\" \n",
      " [61] \"61\"  \"62\"  \"63\"  \"64\"  \"65\"  \"66\"  \"67\"  \"68\"  \"69\"  \"70\"  \"71\"  \"72\" \n",
      " [73] \"73\"  \"74\"  \"75\"  \"76\"  \"77\"  \"78\"  \"79\"  \"80\"  \"81\"  \"82\"  \"83\"  \"84\" \n",
      " [85] \"85\"  \"86\"  \"87\"  \"88\"  \"89\"  \"90\"  \"91\"  \"92\"  \"93\"  \"94\"  \"95\"  \"96\" \n",
      " [97] \"97\"  \"98\"  \"99\"  \"100\" \"101\" \"102\" \"103\" \"104\" \"105\" \"106\" \"107\" \"108\"\n",
      "[109] \"109\" \"110\" \"111\" \"112\" \"113\" \"114\" \"115\" \"116\" \"117\" \"118\" \"119\" \"120\"\n",
      "[121] \"121\" \"122\" \"123\" \"124\" \"125\" \"126\" \"127\" \"128\" \"129\" \"130\" \"131\" \"132\"\n",
      "[133] \"133\" \"134\" \"135\" \"136\" \"137\" \"138\" \"139\" \"140\" \"141\" \"142\" \"143\" \"144\"\n",
      "[145] \"145\" \"146\" \"147\" \"148\" \"149\" \"150\" \"151\" \"152\" \"153\" \"154\" \"155\" \"156\"\n",
      "[157] \"157\" \"158\" \"159\" \"160\" \"161\" \"162\" \"163\" \"164\" \"165\" \"166\" \"167\" \"168\"\n",
      "[169] \"169\" \"170\" \"171\" \"172\" \"173\" \"174\" \"175\" \"176\" \"177\" \"178\" \"179\" \"180\"\n",
      "[181] \"181\" \"182\" \"183\" \"184\" \"185\" \"186\" \"187\" \"188\" \"189\" \"190\" \"191\" \"192\"\n",
      "[193] \"193\" \"194\" \"195\" \"196\" \"197\" \"198\" \"199\" \"200\" \"201\" \"202\" \"203\" \"204\"\n",
      "[205] \"205\" \"206\" \"207\" \"208\" \"209\" \"210\" \"211\" \"212\" \"213\" \"214\" \"215\" \"216\"\n",
      "[217] \"217\" \"218\" \"219\" \"220\" \"221\" \"222\" \"223\" \"224\" \"225\" \"226\" \"227\" \"228\"\n",
      "[229] \"229\" \"230\" \"231\" \"232\" \"233\" \"234\" \"235\" \"236\" \"237\" \"238\" \"239\" \"240\"\n",
      "[241] \"241\" \"242\" \"243\" \"244\" \"245\" \"246\" \"247\" \"248\" \"249\" \"250\" \"251\" \"252\"\n",
      "[253] \"253\" \"254\" \"255\" \"256\" \"257\" \"258\" \"259\" \"260\" \"261\" \"262\" \"263\" \"264\"\n",
      "[265] \"265\" \"266\" \"267\" \"268\" \"269\" \"270\" \"271\" \"272\" \"273\" \"274\" \"275\" \"276\"\n",
      "[277] \"277\" \"278\" \"279\" \"280\" \"281\" \"282\" \"283\" \"284\" \"285\" \"286\" \"287\" \"288\"\n",
      "[289] \"289\" \"290\" \"291\" \"292\" \"293\" \"294\" \"295\" \"296\" \"297\" \"298\" \"299\" \"300\"\n",
      "[301] \"301\" \"302\" \"303\" \"304\" \"305\" \"306\" \"307\" \"308\" \"309\" \"310\" \"311\" \"312\"\n",
      "[313] \"313\" \"314\" \"315\" \"316\" \"317\" \"318\" \"319\" \"320\" \"321\" \"322\" \"323\" \"324\"\n",
      "[325] \"325\" \"326\" \"327\" \"328\" \"329\" \"330\" \"331\" \"332\" \"333\" \"334\" \"335\" \"336\"\n",
      "[337] \"337\" \"338\" \"339\" \"340\" \"341\" \"342\" \"343\" \"344\" \"345\" \"346\" \"347\" \"348\"\n",
      "[349] \"349\" \"350\" \"351\" \"352\" \"353\" \"354\" \"355\" \"356\" \"357\" \"358\" \"359\" \"360\"\n",
      "[361] \"361\" \"362\" \"363\" \"364\" \"365\" \"366\" \"367\" \"368\" \"369\" \"370\" \"371\" \"372\"\n",
      "[373] \"373\" \"374\" \"375\" \"376\" \"377\" \"378\" \"379\" \"380\" \"381\" \"382\" \"383\" \"384\"\n",
      "[385] \"385\" \"386\" \"387\" \"388\" \"389\" \"390\" \"391\" \"392\" \"393\" \"394\" \"395\" \"396\"\n",
      "[397] \"397\" \"398\" \"399\" \"400\" \"401\" \"402\" \"403\" \"404\" \"405\" \"406\" \"407\" \"408\"\n",
      "[409] \"409\" \"410\" \"411\" \"412\" \"413\" \"414\" \"415\" \"416\" \"417\" \"418\" \"419\" \"420\"\n",
      "[421] \"421\" \"422\" \"423\" \"424\" \"425\" \"426\" \"427\" \"428\" \"429\" \"430\" \"431\" \"432\"\n",
      "[433] \"433\" \"434\" \"435\" \"436\" \"437\" \"438\" \"439\" \"440\" \"441\" \"442\" \"443\" \"444\"\n",
      "[445] \"445\" \"446\" \"447\" \"448\" \"449\" \"450\" \"451\" \"452\" \"453\" \"454\" \"455\" \"456\"\n",
      "[457] \"457\" \"458\" \"459\" \"460\" \"461\" \"462\" \"463\" \"464\" \"465\" \"466\" \"467\" \"468\"\n",
      "[469] \"469\"\n",
      "\n",
      "[[2]]\n",
      " [1] \"X.1\"  \"X.2\"  \"X.3\"  \"X.4\"  \"X.5\"  \"X.6\"  \"X.7\"  \"X.8\"  \"X.9\"  \"X.10\"\n",
      "[11] \"y\"   \n",
      "\n"
     ]
    }
   ],
   "source": [
    "%%R\n",
    "print(colnames(df))\n",
    "dimnames(df)"
   ]
  },
  {
   "cell_type": "code",
   "execution_count": 79,
   "metadata": {
    "colab": {
     "base_uri": "https://localhost:8080/"
    },
    "executionInfo": {
     "elapsed": 187,
     "status": "ok",
     "timestamp": 1649699258939,
     "user": {
      "displayName": "Pat Stefanou",
      "userId": "03550109589279644114"
     },
     "user_tz": 240
    },
    "id": "ozfBiJj9r_j-",
    "outputId": "a91cd73e-ebc4-4501-c19f-9ce780a2057a"
   },
   "outputs": [
    {
     "data": {
      "text/plain": [
       "(torch.Size([469, 10]), torch.Size([469, 1]))"
      ]
     },
     "execution_count": 79,
     "metadata": {},
     "output_type": "execute_result"
    }
   ],
   "source": [
    "x_trunc.size(), y_trunc.size()"
   ]
  },
  {
   "cell_type": "code",
   "execution_count": 8,
   "metadata": {
    "executionInfo": {
     "elapsed": 2,
     "status": "ok",
     "timestamp": 1649698888535,
     "user": {
      "displayName": "Pat Stefanou",
      "userId": "03550109589279644114"
     },
     "user_tz": 240
    },
    "id": "5z1wXtu-toeX"
   },
   "outputs": [],
   "source": [
    "from torch.nn import MSELoss"
   ]
  },
  {
   "cell_type": "code",
   "execution_count": 15,
   "metadata": {
    "id": "-VGlt5Hnt1lW"
   },
   "outputs": [],
   "source": []
  },
  {
   "cell_type": "code",
   "execution_count": 1,
   "metadata": {},
   "outputs": [
    {
     "ename": "NameError",
     "evalue": "name 'ch' is not defined",
     "output_type": "error",
     "traceback": [
      "\u001b[0;31m---------------------------------------------------------------------------\u001b[0m",
      "\u001b[0;31mNameError\u001b[0m                                 Traceback (most recent call last)",
      "\u001b[0;32m<ipython-input-1-31e76edfc8c4>\u001b[0m in \u001b[0;36m<module>\u001b[0;34m\u001b[0m\n\u001b[0;32m----> 1\u001b[0;31m \u001b[0mfeatures\u001b[0m \u001b[0;34m=\u001b[0m \u001b[0mch\u001b[0m\u001b[0;34m.\u001b[0m\u001b[0mcat\u001b[0m\u001b[0;34m(\u001b[0m\u001b[0;34m[\u001b[0m\u001b[0mX\u001b[0m\u001b[0;34m,\u001b[0m \u001b[0mch\u001b[0m\u001b[0;34m.\u001b[0m\u001b[0mones\u001b[0m\u001b[0;34m(\u001b[0m\u001b[0mX\u001b[0m\u001b[0;34m.\u001b[0m\u001b[0msize\u001b[0m\u001b[0;34m(\u001b[0m\u001b[0;36m0\u001b[0m\u001b[0;34m)\u001b[0m\u001b[0;34m,\u001b[0m \u001b[0;36m1\u001b[0m\u001b[0;34m)\u001b[0m\u001b[0;34m]\u001b[0m\u001b[0;34m,\u001b[0m \u001b[0maxis\u001b[0m\u001b[0;34m=\u001b[0m\u001b[0;36m1\u001b[0m\u001b[0;34m)\u001b[0m\u001b[0;34m\u001b[0m\u001b[0;34m\u001b[0m\u001b[0m\n\u001b[0m\u001b[1;32m      2\u001b[0m \u001b[0mw\u001b[0m \u001b[0;34m=\u001b[0m \u001b[0mch\u001b[0m\u001b[0;34m.\u001b[0m\u001b[0mrandn\u001b[0m\u001b[0;34m(\u001b[0m\u001b[0;36m2\u001b[0m\u001b[0;34m,\u001b[0m \u001b[0;36m1\u001b[0m\u001b[0;34m)\u001b[0m\u001b[0;34m\u001b[0m\u001b[0;34m\u001b[0m\u001b[0m\n\u001b[1;32m      3\u001b[0m \u001b[0mw\u001b[0m\u001b[0;34m.\u001b[0m\u001b[0mrequires_grad\u001b[0m \u001b[0;34m=\u001b[0m \u001b[0;32mTrue\u001b[0m\u001b[0;34m\u001b[0m\u001b[0;34m\u001b[0m\u001b[0m\n\u001b[1;32m      4\u001b[0m \u001b[0;34m\u001b[0m\u001b[0m\n\u001b[1;32m      5\u001b[0m \u001b[0mpred\u001b[0m \u001b[0;34m=\u001b[0m \u001b[0mfeatures\u001b[0m\u001b[0;34m@\u001b[0m\u001b[0mw\u001b[0m\u001b[0;34m\u001b[0m\u001b[0;34m\u001b[0m\u001b[0m\n",
      "\u001b[0;31mNameError\u001b[0m: name 'ch' is not defined"
     ]
    }
   ],
   "source": []
  },
  {
   "cell_type": "code",
   "execution_count": 42,
   "metadata": {},
   "outputs": [],
   "source": []
  },
  {
   "cell_type": "code",
   "execution_count": 43,
   "metadata": {},
   "outputs": [
    {
     "data": {
      "text/plain": [
       "(tensor([[76.9764],\n",
       "         [-1.7127]]),)"
      ]
     },
     "execution_count": 43,
     "metadata": {},
     "output_type": "execute_result"
    }
   ],
   "source": []
  },
  {
   "cell_type": "code",
   "execution_count": 47,
   "metadata": {},
   "outputs": [
    {
     "name": "stdout",
     "output_type": "stream",
     "text": [
      "output: (tensor([[ 3.4020e-04],\n",
      "        [-2.8871e-05],\n",
      "        [ 5.4262e-04],\n",
      "        ...,\n",
      "        [ 9.9043e-04],\n",
      "        [-7.9562e-04],\n",
      "        [-2.7680e-04]]), tensor([[-2.6022e-04],\n",
      "        [-4.6293e-05],\n",
      "        [-3.7677e-04],\n",
      "        ...,\n",
      "        [-6.4016e-04],\n",
      "        [ 4.0875e-04],\n",
      "        [ 1.0456e-04]]))\n"
     ]
    },
    {
     "data": {
      "text/plain": [
       "(tensor([[38.4875],\n",
       "         [-0.8564]]),)"
      ]
     },
     "execution_count": 47,
     "metadata": {},
     "output_type": "execute_result"
    }
   ],
   "source": []
  },
  {
   "cell_type": "code",
   "execution_count": 45,
   "metadata": {},
   "outputs": [
    {
     "data": {
      "text/plain": [
       "torch.Size([10000, 1])"
      ]
     },
     "execution_count": 45,
     "metadata": {},
     "output_type": "execute_result"
    }
   ],
   "source": [
    "pred.size()"
   ]
  },
  {
   "cell_type": "code",
   "execution_count": 68,
   "metadata": {},
   "outputs": [
    {
     "name": "stdout",
     "output_type": "stream",
     "text": [
      "grad: tensor([[-0.0600],\n",
      "        [ 0.0216]])\n",
      "grad: tensor([[0.1763],\n",
      "        [0.0030]])\n",
      "grad: tensor([[-0.3470],\n",
      "        [-0.0044]])\n",
      "grad: tensor([[-0.1934],\n",
      "        [ 0.0178]])\n",
      "grad: tensor([[ 0.0703],\n",
      "        [-0.0213]])\n",
      "grad: tensor([[0.0590],\n",
      "        [0.0486]])\n",
      "grad: tensor([[0.2103],\n",
      "        [0.0508]])\n",
      "grad: tensor([[ 0.1401],\n",
      "        [-0.0220]])\n",
      "grad: tensor([[0.3397],\n",
      "        [0.0580]])\n",
      "grad: tensor([[-0.0349],\n",
      "        [-0.0367]])\n",
      "grad: tensor([[-0.0007],\n",
      "        [-0.0107]])\n",
      "grad: tensor([[-0.2366],\n",
      "        [ 0.0240]])\n",
      "grad: tensor([[ 0.3621],\n",
      "        [-0.0125]])\n",
      "grad: tensor([[-0.0965],\n",
      "        [-0.0354]])\n",
      "grad: tensor([[0.0574],\n",
      "        [0.0212]])\n",
      "grad: tensor([[-0.0403],\n",
      "        [-0.0349]])\n",
      "grad: tensor([[-0.1275],\n",
      "        [-0.0002]])\n",
      "grad: tensor([[-0.2531],\n",
      "        [ 0.0585]])\n",
      "grad: tensor([[-0.1811],\n",
      "        [-0.0194]])\n",
      "grad: tensor([[ 0.0299],\n",
      "        [-0.0166]])\n",
      "grad: tensor([[-0.1178],\n",
      "        [ 0.0233]])\n",
      "grad: tensor([[0.2608],\n",
      "        [0.0028]])\n",
      "grad: tensor([[0.3649],\n",
      "        [0.0573]])\n",
      "grad: tensor([[0.0005],\n",
      "        [0.0231]])\n",
      "grad: tensor([[-0.1682],\n",
      "        [-0.0261]])\n",
      "grad: tensor([[-0.1747],\n",
      "        [ 0.0011]])\n",
      "grad: tensor([[ 0.1718],\n",
      "        [-0.0185]])\n",
      "grad: tensor([[-0.1949],\n",
      "        [-0.0344]])\n",
      "grad: tensor([[-0.1601],\n",
      "        [-0.0299]])\n",
      "grad: tensor([[-0.1457],\n",
      "        [ 0.0352]])\n",
      "grad: tensor([[-0.0957],\n",
      "        [ 0.0384]])\n",
      "grad: tensor([[-0.0336],\n",
      "        [ 0.0004]])\n",
      "grad: tensor([[ 0.0613],\n",
      "        [-0.0235]])\n",
      "grad: tensor([[-0.0515],\n",
      "        [-0.0117]])\n",
      "grad: tensor([[ 0.0974],\n",
      "        [-0.0225]])\n",
      "grad: tensor([[-0.0186],\n",
      "        [-0.0416]])\n",
      "grad: tensor([[ 0.1375],\n",
      "        [-0.0447]])\n",
      "grad: tensor([[-0.1219],\n",
      "        [-0.0068]])\n",
      "grad: tensor([[-0.0665],\n",
      "        [ 0.0116]])\n",
      "grad: tensor([[ 0.1588],\n",
      "        [-0.0035]])\n",
      "grad: tensor([[-0.1799],\n",
      "        [ 0.0220]])\n",
      "grad: tensor([[0.0927],\n",
      "        [0.0194]])\n",
      "grad: tensor([[-0.2060],\n",
      "        [ 0.0555]])\n",
      "grad: tensor([[ 0.1386],\n",
      "        [-0.0133]])\n",
      "grad: tensor([[-0.0656],\n",
      "        [-0.0423]])\n",
      "grad: tensor([[0.2262],\n",
      "        [0.0301]])\n",
      "grad: tensor([[-0.1216],\n",
      "        [ 0.0677]])\n",
      "grad: tensor([[0.0791],\n",
      "        [0.0045]])\n",
      "grad: tensor([[-0.2210],\n",
      "        [-0.0534]])\n",
      "grad: tensor([[0.3889],\n",
      "        [0.0034]])\n",
      "grad: tensor([[ 0.4373],\n",
      "        [-0.0088]])\n",
      "grad: tensor([[-0.1239],\n",
      "        [ 0.0210]])\n",
      "grad: tensor([[0.0841],\n",
      "        [0.0582]])\n",
      "grad: tensor([[-0.2515],\n",
      "        [ 0.0484]])\n",
      "grad: tensor([[-0.1932],\n",
      "        [-0.0418]])\n",
      "grad: tensor([[ 0.0580],\n",
      "        [-0.0439]])\n",
      "grad: tensor([[-0.0166],\n",
      "        [-0.0272]])\n",
      "grad: tensor([[0.0894],\n",
      "        [0.0806]])\n",
      "grad: tensor([[-0.1709],\n",
      "        [ 0.0406]])\n",
      "grad: tensor([[-0.1348],\n",
      "        [-0.0251]])\n",
      "grad: tensor([[0.0276],\n",
      "        [0.0175]])\n",
      "grad: tensor([[ 0.2370],\n",
      "        [-0.0259]])\n",
      "grad: tensor([[-0.1082],\n",
      "        [ 0.0248]])\n",
      "grad: tensor([[0.2969],\n",
      "        [0.0048]])\n",
      "grad: tensor([[-0.1089],\n",
      "        [-0.0093]])\n",
      "grad: tensor([[ 0.1052],\n",
      "        [-0.0240]])\n",
      "grad: tensor([[-0.2759],\n",
      "        [ 0.0151]])\n",
      "grad: tensor([[ 0.0839],\n",
      "        [-0.0365]])\n",
      "grad: tensor([[-0.1578],\n",
      "        [-0.0273]])\n",
      "grad: tensor([[ 0.3055],\n",
      "        [-0.0063]])\n",
      "grad: tensor([[-0.1485],\n",
      "        [ 0.0369]])\n",
      "grad: tensor([[0.1591],\n",
      "        [0.0131]])\n",
      "grad: tensor([[-0.1280],\n",
      "        [-0.0173]])\n",
      "grad: tensor([[-0.0719],\n",
      "        [ 0.0278]])\n",
      "grad: tensor([[ 0.1290],\n",
      "        [-0.0319]])\n",
      "grad: tensor([[-0.3570],\n",
      "        [-0.0912]])\n",
      "grad: tensor([[ 0.0034],\n",
      "        [-0.0043]])\n",
      "grad: tensor([[ 0.1727],\n",
      "        [-0.0101]])\n",
      "grad: tensor([[-0.1356],\n",
      "        [ 0.0519]])\n",
      "grad: tensor([[0.0756],\n",
      "        [0.0177]])\n",
      "grad: tensor([[-0.0641],\n",
      "        [ 0.0085]])\n",
      "grad: tensor([[ 0.1099],\n",
      "        [-0.0265]])\n",
      "grad: tensor([[ 0.2271],\n",
      "        [-0.0635]])\n",
      "grad: tensor([[0.0621],\n",
      "        [0.0539]])\n",
      "grad: tensor([[0.0650],\n",
      "        [0.0152]])\n",
      "grad: tensor([[ 0.0969],\n",
      "        [-0.0062]])\n",
      "grad: tensor([[-0.2997],\n",
      "        [ 0.0054]])\n",
      "grad: tensor([[0.1198],\n",
      "        [0.0255]])\n",
      "grad: tensor([[0.0806],\n",
      "        [0.0182]])\n",
      "grad: tensor([[0.1101],\n",
      "        [0.0308]])\n",
      "grad: tensor([[-0.3155],\n",
      "        [-0.0053]])\n",
      "grad: tensor([[-0.1341],\n",
      "        [-0.0496]])\n",
      "grad: tensor([[ 0.0120],\n",
      "        [-0.0054]])\n",
      "grad: tensor([[-0.1756],\n",
      "        [-0.0190]])\n",
      "grad: tensor([[ 0.1357],\n",
      "        [-0.0701]])\n",
      "grad: tensor([[-0.0054],\n",
      "        [ 0.0470]])\n",
      "grad: tensor([[ 0.0914],\n",
      "        [-0.0207]])\n",
      "grad: tensor([[0.1112],\n",
      "        [0.0249]])\n",
      "grad: tensor([[-0.0192],\n",
      "        [ 0.0028]])\n",
      "grad: tensor([[0.1139],\n",
      "        [0.0254]])\n",
      "grad: tensor([[-0.2207],\n",
      "        [ 0.0162]])\n",
      "grad: tensor([[-0.0312],\n",
      "        [-0.0079]])\n",
      "grad: tensor([[0.1176],\n",
      "        [0.0536]])\n",
      "grad: tensor([[ 0.1484],\n",
      "        [-0.0282]])\n",
      "grad: tensor([[-0.3797],\n",
      "        [ 0.0128]])\n",
      "grad: tensor([[-0.0137],\n",
      "        [-0.0321]])\n",
      "grad: tensor([[ 0.2182],\n",
      "        [-0.0202]])\n",
      "grad: tensor([[-0.1784],\n",
      "        [-0.0098]])\n",
      "grad: tensor([[ 0.0862],\n",
      "        [-0.0029]])\n",
      "grad: tensor([[0.3001],\n",
      "        [0.0132]])\n",
      "grad: tensor([[-0.0994],\n",
      "        [-0.0604]])\n",
      "grad: tensor([[-0.0035],\n",
      "        [ 0.0139]])\n",
      "grad: tensor([[ 0.0476],\n",
      "        [-0.0265]])\n",
      "grad: tensor([[0.1245],\n",
      "        [0.0043]])\n",
      "grad: tensor([[ 0.1371],\n",
      "        [-0.0157]])\n",
      "grad: tensor([[-0.2818],\n",
      "        [ 0.0245]])\n",
      "grad: tensor([[ 0.1540],\n",
      "        [-0.0670]])\n",
      "grad: tensor([[-0.2457],\n",
      "        [ 0.0824]])\n",
      "grad: tensor([[-0.0743],\n",
      "        [ 0.0190]])\n",
      "grad: tensor([[ 0.0020],\n",
      "        [-0.0247]])\n",
      "grad: tensor([[0.0415],\n",
      "        [0.0380]])\n",
      "grad: tensor([[-0.0670],\n",
      "        [-0.0306]])\n",
      "grad: tensor([[0.1289],\n",
      "        [0.0308]])\n",
      "grad: tensor([[ 0.1708],\n",
      "        [-0.0074]])\n",
      "grad: tensor([[-0.1886],\n",
      "        [-0.0315]])\n",
      "grad: tensor([[ 0.0952],\n",
      "        [-0.0266]])\n",
      "grad: tensor([[ 0.0724],\n",
      "        [-0.0455]])\n",
      "grad: tensor([[0.0131],\n",
      "        [0.0101]])\n",
      "grad: tensor([[-0.0985],\n",
      "        [ 0.0094]])\n",
      "grad: tensor([[0.2685],\n",
      "        [0.0072]])\n",
      "grad: tensor([[-0.1043],\n",
      "        [ 0.0392]])\n",
      "grad: tensor([[-0.3075],\n",
      "        [-0.0462]])\n",
      "grad: tensor([[-0.0533],\n",
      "        [ 0.0716]])\n",
      "grad: tensor([[ 0.1392],\n",
      "        [-0.0055]])\n",
      "grad: tensor([[-0.0076],\n",
      "        [-0.0029]])\n",
      "grad: tensor([[-0.0459],\n",
      "        [-0.0259]])\n",
      "grad: tensor([[ 0.2130],\n",
      "        [-0.0329]])\n",
      "grad: tensor([[-0.2217],\n",
      "        [-0.0287]])\n",
      "grad: tensor([[0.4101],\n",
      "        [0.0024]])\n",
      "grad: tensor([[-0.1796],\n",
      "        [ 0.0177]])\n",
      "grad: tensor([[-0.2262],\n",
      "        [ 0.0431]])\n",
      "grad: tensor([[0.1148],\n",
      "        [0.0122]])\n",
      "grad: tensor([[-0.1103],\n",
      "        [ 0.0789]])\n",
      "grad: tensor([[ 0.1951],\n",
      "        [-0.0285]])\n",
      "grad: tensor([[-0.2206],\n",
      "        [ 0.0099]])\n",
      "grad: tensor([[-0.0195],\n",
      "        [-0.0613]])\n",
      "grad: tensor([[ 0.2163],\n",
      "        [-0.0504]])\n",
      "grad: tensor([[0.5831],\n",
      "        [0.0186]])\n",
      "grad: tensor([[0.0445],\n",
      "        [0.0040]])\n",
      "grad: tensor([[0.0831],\n",
      "        [0.0830]])\n",
      "grad: tensor([[-0.3149],\n",
      "        [-0.0138]])\n",
      "grad: tensor([[-0.1945],\n",
      "        [ 0.0213]])\n",
      "grad: tensor([[-0.1652],\n",
      "        [-0.0207]])\n",
      "grad: tensor([[-0.2339],\n",
      "        [-0.0151]])\n",
      "grad: tensor([[0.2907],\n",
      "        [0.0120]])\n",
      "grad: tensor([[ 0.1673],\n",
      "        [-0.0085]])\n",
      "grad: tensor([[-0.1208],\n",
      "        [ 0.0190]])\n",
      "grad: tensor([[ 0.0576],\n",
      "        [-0.0146]])\n",
      "grad: tensor([[0.0149],\n",
      "        [0.0141]])\n",
      "grad: tensor([[-0.2281],\n",
      "        [-0.0230]])\n",
      "grad: tensor([[-0.1509],\n",
      "        [ 0.0371]])\n",
      "grad: tensor([[-0.1633],\n",
      "        [ 0.0488]])\n",
      "grad: tensor([[0.0026],\n",
      "        [0.0466]])\n",
      "grad: tensor([[ 0.0236],\n",
      "        [-0.0229]])\n",
      "grad: tensor([[-0.2106],\n",
      "        [-0.0378]])\n",
      "grad: tensor([[ 0.3026],\n",
      "        [-0.0115]])\n",
      "grad: tensor([[ 0.0720],\n",
      "        [-0.0230]])\n",
      "grad: tensor([[ 0.0167],\n",
      "        [-0.0192]])\n",
      "grad: tensor([[ 0.0149],\n",
      "        [-0.0548]])\n",
      "grad: tensor([[0.1671],\n",
      "        [0.0140]])\n",
      "grad: tensor([[-0.1393],\n",
      "        [-0.0452]])\n",
      "grad: tensor([[-0.0680],\n",
      "        [-0.0420]])\n",
      "grad: tensor([[-0.2869],\n",
      "        [ 0.0165]])\n",
      "grad: tensor([[0.3921],\n",
      "        [0.0290]])\n",
      "grad: tensor([[0.1317],\n",
      "        [0.0094]])\n",
      "grad: tensor([[-0.1624],\n",
      "        [ 0.0012]])\n",
      "grad: tensor([[ 0.1859],\n",
      "        [-0.0669]])\n",
      "grad: tensor([[-0.2698],\n",
      "        [ 0.0386]])\n",
      "grad: tensor([[-0.0455],\n",
      "        [-0.0421]])\n",
      "grad: tensor([[0.1005],\n",
      "        [0.0653]])\n",
      "grad: tensor([[0.1557],\n",
      "        [0.0157]])\n",
      "grad: tensor([[0.1152],\n",
      "        [0.0750]])\n",
      "grad: tensor([[0.0923],\n",
      "        [0.0210]])\n",
      "grad: tensor([[-0.2397],\n",
      "        [-0.0392]])\n",
      "grad: tensor([[ 0.0459],\n",
      "        [-0.0272]])\n",
      "grad: tensor([[-0.1016],\n",
      "        [-0.0043]])\n",
      "grad: tensor([[0.0627],\n",
      "        [0.0289]])\n",
      "grad: tensor([[0.1448],\n",
      "        [0.0002]])\n",
      "grad: tensor([[-0.3329],\n",
      "        [-0.0590]])\n",
      "grad: tensor([[-0.1376],\n",
      "        [-0.0478]])\n",
      "grad: tensor([[ 0.1091],\n",
      "        [-0.0352]])\n",
      "grad: tensor([[-0.1711],\n",
      "        [ 0.0194]])\n",
      "grad: tensor([[-0.0242],\n",
      "        [ 0.0177]])\n",
      "grad: tensor([[ 0.0162],\n",
      "        [-0.0158]])\n",
      "grad: tensor([[-0.0092],\n",
      "        [ 0.0172]])\n",
      "grad: tensor([[0.2139],\n",
      "        [0.0128]])\n",
      "grad: tensor([[ 0.0453],\n",
      "        [-0.0595]])\n",
      "grad: tensor([[-0.0898],\n",
      "        [-0.0141]])\n",
      "grad: tensor([[0.0512],\n",
      "        [0.0182]])\n",
      "grad: tensor([[-0.0179],\n",
      "        [ 0.0191]])\n",
      "grad: tensor([[0.1479],\n",
      "        [0.0028]])\n",
      "grad: tensor([[-0.4077],\n",
      "        [ 0.0094]])\n",
      "grad: tensor([[-0.0442],\n",
      "        [-0.0154]])\n",
      "grad: tensor([[-0.1440],\n",
      "        [-0.0262]])\n",
      "grad: tensor([[ 0.2790],\n",
      "        [-0.0318]])\n",
      "grad: tensor([[ 0.0941],\n",
      "        [-0.0583]])\n",
      "grad: tensor([[-0.2559],\n",
      "        [-0.0327]])\n",
      "grad: tensor([[0.4008],\n",
      "        [0.0333]])\n",
      "grad: tensor([[-0.2445],\n",
      "        [ 0.0369]])\n",
      "grad: tensor([[ 0.2288],\n",
      "        [-0.0026]])\n",
      "grad: tensor([[0.0298],\n",
      "        [0.0121]])\n",
      "grad: tensor([[3.7536e-01],\n",
      "        [8.3619e-05]])\n",
      "grad: tensor([[-0.2896],\n",
      "        [-0.0128]])\n",
      "grad: tensor([[ 0.1393],\n",
      "        [-0.0453]])\n",
      "grad: tensor([[-0.1681],\n",
      "        [-0.0248]])\n",
      "grad: tensor([[-0.0098],\n",
      "        [-0.0055]])\n",
      "grad: tensor([[ 0.0541],\n",
      "        [-0.0342]])\n",
      "grad: tensor([[-0.1491],\n",
      "        [-0.0575]])\n",
      "grad: tensor([[ 0.0950],\n",
      "        [-0.0229]])\n",
      "grad: tensor([[ 0.1867],\n",
      "        [-0.0065]])\n",
      "grad: tensor([[-0.5424],\n",
      "        [ 0.0545]])\n",
      "grad: tensor([[ 0.2804],\n",
      "        [-0.0327]])\n",
      "grad: tensor([[-0.0532],\n",
      "        [-0.0082]])\n",
      "grad: tensor([[-0.0693],\n",
      "        [-0.0567]])\n",
      "grad: tensor([[0.2165],\n",
      "        [0.0585]])\n",
      "grad: tensor([[-0.4989],\n",
      "        [-0.0162]])\n",
      "grad: tensor([[0.1868],\n",
      "        [0.0162]])\n",
      "grad: tensor([[ 0.1196],\n",
      "        [-0.0350]])\n",
      "grad: tensor([[ 0.0340],\n",
      "        [-0.0153]])\n",
      "grad: tensor([[-0.0230],\n",
      "        [ 0.0324]])\n",
      "grad: tensor([[-0.1612],\n",
      "        [-0.0261]])\n",
      "grad: tensor([[ 0.3459],\n",
      "        [-0.0118]])\n",
      "grad: tensor([[-0.1761],\n",
      "        [ 0.0460]])\n",
      "grad: tensor([[ 0.1747],\n",
      "        [-0.0333]])\n",
      "grad: tensor([[-0.3886],\n",
      "        [ 0.0578]])\n",
      "grad: tensor([[0.0881],\n",
      "        [0.0140]])\n",
      "grad: tensor([[0.0197],\n",
      "        [0.0108]])\n",
      "grad: tensor([[-0.1041],\n",
      "        [-0.0169]])\n",
      "grad: tensor([[0.0630],\n",
      "        [0.0047]])\n",
      "grad: tensor([[0.0561],\n",
      "        [0.0162]])\n",
      "grad: tensor([[-0.1813],\n",
      "        [-0.0296]])\n",
      "grad: tensor([[ 0.1546],\n",
      "        [-0.0118]])\n",
      "grad: tensor([[-0.0033],\n",
      "        [ 0.0315]])\n",
      "grad: tensor([[-0.1136],\n",
      "        [-0.0260]])\n",
      "grad: tensor([[-0.0768],\n",
      "        [-0.0481]])\n",
      "grad: tensor([[0.1396],\n",
      "        [0.0448]])\n",
      "grad: tensor([[ 0.1298],\n",
      "        [-0.0304]])\n",
      "grad: tensor([[0.2000],\n",
      "        [0.0029]])\n",
      "grad: tensor([[-0.0225],\n",
      "        [ 0.0036]])\n",
      "grad: tensor([[-0.3183],\n",
      "        [ 0.0086]])\n",
      "grad: tensor([[0.3582],\n",
      "        [0.0224]])\n",
      "grad: tensor([[-0.0967],\n",
      "        [ 0.0131]])\n",
      "grad: tensor([[-0.4026],\n",
      "        [ 0.0005]])\n",
      "grad: tensor([[ 0.0327],\n",
      "        [-0.0025]])\n",
      "grad: tensor([[ 0.1405],\n",
      "        [-0.0180]])\n",
      "grad: tensor([[-0.3066],\n",
      "        [ 0.0032]])\n",
      "grad: tensor([[ 0.1496],\n",
      "        [-0.0338]])\n",
      "grad: tensor([[0.4259],\n",
      "        [0.0370]])\n",
      "grad: tensor([[0.0874],\n",
      "        [0.0081]])\n",
      "grad: tensor([[-0.0020],\n",
      "        [ 0.0491]])\n",
      "grad: tensor([[0.1284],\n",
      "        [0.0238]])\n",
      "grad: tensor([[-0.2442],\n",
      "        [ 0.0313]])\n",
      "grad: tensor([[-0.1190],\n",
      "        [ 0.0226]])\n",
      "grad: tensor([[-0.1787],\n",
      "        [ 0.0277]])\n",
      "grad: tensor([[ 0.1335],\n",
      "        [-0.0300]])\n",
      "grad: tensor([[-0.0907],\n",
      "        [ 0.0061]])\n",
      "grad: tensor([[-0.0437],\n",
      "        [ 0.0155]])\n",
      "grad: tensor([[-0.2770],\n",
      "        [ 0.0444]])\n",
      "grad: tensor([[ 0.1969],\n",
      "        [-0.0201]])\n",
      "grad: tensor([[-0.2796],\n",
      "        [-0.0028]])\n",
      "grad: tensor([[-0.2185],\n",
      "        [ 0.0233]])\n",
      "grad: tensor([[0.1850],\n",
      "        [0.0233]])\n",
      "grad: tensor([[ 0.3409],\n",
      "        [-0.0269]])\n",
      "grad: tensor([[0.3733],\n",
      "        [0.0231]])\n",
      "grad: tensor([[-0.0599],\n",
      "        [-0.0135]])\n",
      "grad: tensor([[ 0.1844],\n",
      "        [-0.0250]])\n",
      "grad: tensor([[-0.0818],\n",
      "        [ 0.0045]])\n",
      "grad: tensor([[0.0056],\n",
      "        [0.0147]])\n",
      "grad: tensor([[-0.1799],\n",
      "        [ 0.0166]])\n",
      "grad: tensor([[0.5309],\n",
      "        [0.0017]])\n",
      "grad: tensor([[-0.4470],\n",
      "        [-0.0061]])\n",
      "grad: tensor([[-0.1024],\n",
      "        [-0.0110]])\n",
      "grad: tensor([[-0.0400],\n",
      "        [ 0.0132]])\n",
      "grad: tensor([[-0.0759],\n",
      "        [-0.0027]])\n",
      "grad: tensor([[ 0.2117],\n",
      "        [-0.0007]])\n",
      "grad: tensor([[ 0.2159],\n",
      "        [-0.0138]])\n",
      "grad: tensor([[-0.1406],\n",
      "        [ 0.0112]])\n",
      "grad: tensor([[ 0.2024],\n",
      "        [-0.0017]])\n",
      "grad: tensor([[-0.1071],\n",
      "        [ 0.0411]])\n",
      "grad: tensor([[-0.2732],\n",
      "        [ 0.0315]])\n",
      "grad: tensor([[-0.1405],\n",
      "        [ 0.0481]])\n",
      "grad: tensor([[-0.0201],\n",
      "        [-0.0169]])\n",
      "grad: tensor([[0.3804],\n",
      "        [0.0102]])\n",
      "grad: tensor([[-0.0592],\n",
      "        [ 0.0516]])\n",
      "grad: tensor([[-0.0901],\n",
      "        [ 0.0021]])\n",
      "grad: tensor([[-0.2080],\n",
      "        [-0.0500]])\n",
      "grad: tensor([[ 0.4021],\n",
      "        [-0.0583]])\n",
      "grad: tensor([[-0.1978],\n",
      "        [ 0.0352]])\n",
      "grad: tensor([[ 0.0040],\n",
      "        [-0.0610]])\n",
      "grad: tensor([[-0.0596],\n",
      "        [ 0.0356]])\n",
      "grad: tensor([[-0.1194],\n",
      "        [ 0.0117]])\n",
      "grad: tensor([[ 0.1015],\n",
      "        [-0.0126]])\n",
      "grad: tensor([[0.3437],\n",
      "        [0.0229]])\n",
      "grad: tensor([[-0.2162],\n",
      "        [ 0.0114]])\n",
      "grad: tensor([[-0.0009],\n",
      "        [-0.0078]])\n",
      "grad: tensor([[-0.0097],\n",
      "        [-0.0243]])\n",
      "grad: tensor([[ 0.0716],\n",
      "        [-0.0310]])\n",
      "grad: tensor([[ 0.2263],\n",
      "        [-0.0037]])\n",
      "grad: tensor([[-0.1996],\n",
      "        [ 0.0288]])\n",
      "grad: tensor([[-0.0734],\n",
      "        [ 0.0274]])\n",
      "grad: tensor([[-0.1114],\n",
      "        [ 0.0013]])\n",
      "grad: tensor([[0.1792],\n",
      "        [0.0390]])\n",
      "grad: tensor([[-0.1846],\n",
      "        [-0.0211]])\n",
      "grad: tensor([[0.2583],\n",
      "        [0.0580]])\n",
      "grad: tensor([[ 0.1535],\n",
      "        [-0.0224]])\n",
      "grad: tensor([[-0.1382],\n",
      "        [-0.0217]])\n",
      "grad: tensor([[-0.1413],\n",
      "        [ 0.0739]])\n",
      "grad: tensor([[-0.2506],\n",
      "        [ 0.0154]])\n",
      "grad: tensor([[-0.0067],\n",
      "        [-0.0230]])\n",
      "grad: tensor([[0.1748],\n",
      "        [0.0088]])\n",
      "grad: tensor([[ 0.3647],\n",
      "        [-0.0033]])\n",
      "grad: tensor([[-0.1323],\n",
      "        [-0.0110]])\n",
      "grad: tensor([[-0.1787],\n",
      "        [ 0.0205]])\n",
      "grad: tensor([[-0.3302],\n",
      "        [ 0.0016]])\n",
      "grad: tensor([[ 0.3548],\n",
      "        [-0.0400]])\n",
      "grad: tensor([[-0.0040],\n",
      "        [-0.0673]])\n",
      "grad: tensor([[-0.2504],\n",
      "        [-0.0144]])\n",
      "grad: tensor([[0.1508],\n",
      "        [0.0159]])\n",
      "grad: tensor([[-0.3542],\n",
      "        [ 0.0223]])\n",
      "grad: tensor([[ 0.3337],\n",
      "        [-0.0454]])\n",
      "grad: tensor([[-0.0389],\n",
      "        [-0.0436]])\n",
      "grad: tensor([[ 0.3035],\n",
      "        [-0.0022]])\n",
      "grad: tensor([[-0.0151],\n",
      "        [-0.0084]])\n",
      "grad: tensor([[-0.0271],\n",
      "        [ 0.0145]])\n"
     ]
    },
    {
     "name": "stdout",
     "output_type": "stream",
     "text": [
      "grad: tensor([[-0.0589],\n",
      "        [ 0.0026]])\n",
      "grad: tensor([[0.3435],\n",
      "        [0.0173]])\n",
      "grad: tensor([[ 0.0034],\n",
      "        [-0.0115]])\n",
      "grad: tensor([[-0.1892],\n",
      "        [-0.0159]])\n",
      "grad: tensor([[0.1923],\n",
      "        [0.0060]])\n",
      "grad: tensor([[-0.0961],\n",
      "        [ 0.0785]])\n",
      "grad: tensor([[ 0.2790],\n",
      "        [-0.0053]])\n",
      "grad: tensor([[-0.1334],\n",
      "        [ 0.0145]])\n",
      "grad: tensor([[-0.2584],\n",
      "        [-0.0121]])\n",
      "grad: tensor([[ 0.0974],\n",
      "        [-0.0294]])\n",
      "grad: tensor([[-0.2706],\n",
      "        [ 0.0076]])\n",
      "grad: tensor([[-0.2660],\n",
      "        [-0.0195]])\n",
      "grad: tensor([[0.1236],\n",
      "        [0.0450]])\n",
      "grad: tensor([[0.0422],\n",
      "        [0.0543]])\n",
      "grad: tensor([[-0.1698],\n",
      "        [ 0.0069]])\n",
      "grad: tensor([[-0.0656],\n",
      "        [-0.0360]])\n",
      "grad: tensor([[0.0158],\n",
      "        [0.0235]])\n",
      "grad: tensor([[ 0.0875],\n",
      "        [-0.0161]])\n",
      "grad: tensor([[ 0.0391],\n",
      "        [-0.0602]])\n",
      "grad: tensor([[-0.2127],\n",
      "        [-0.0079]])\n",
      "grad: tensor([[-0.0085],\n",
      "        [-0.0200]])\n",
      "grad: tensor([[0.1859],\n",
      "        [0.0004]])\n",
      "grad: tensor([[0.1358],\n",
      "        [0.0288]])\n",
      "grad: tensor([[ 0.0958],\n",
      "        [-0.0170]])\n",
      "grad: tensor([[ 0.1298],\n",
      "        [-0.0092]])\n",
      "grad: tensor([[-0.0735],\n",
      "        [-0.0208]])\n",
      "grad: tensor([[ 0.1576],\n",
      "        [-0.0136]])\n",
      "grad: tensor([[-0.0256],\n",
      "        [ 0.0202]])\n",
      "grad: tensor([[ 0.0938],\n",
      "        [-0.0209]])\n",
      "grad: tensor([[-0.0742],\n",
      "        [-0.0510]])\n",
      "grad: tensor([[-0.0523],\n",
      "        [-0.0654]])\n",
      "grad: tensor([[-0.4226],\n",
      "        [-0.0099]])\n",
      "grad: tensor([[0.1567],\n",
      "        [0.0644]])\n",
      "grad: tensor([[-0.3014],\n",
      "        [-0.0165]])\n",
      "grad: tensor([[0.0527],\n",
      "        [0.0281]])\n",
      "grad: tensor([[ 0.1549],\n",
      "        [-0.0499]])\n",
      "grad: tensor([[ 0.0874],\n",
      "        [-0.0100]])\n",
      "grad: tensor([[-0.0148],\n",
      "        [-0.0034]])\n",
      "grad: tensor([[ 0.0865],\n",
      "        [-0.0357]])\n",
      "grad: tensor([[ 0.2382],\n",
      "        [-0.0125]])\n",
      "grad: tensor([[-0.2707],\n",
      "        [ 0.0885]])\n",
      "grad: tensor([[-0.2130],\n",
      "        [ 0.0567]])\n",
      "grad: tensor([[-0.2065],\n",
      "        [ 0.0110]])\n",
      "grad: tensor([[ 0.0732],\n",
      "        [-0.0286]])\n",
      "grad: tensor([[0.2727],\n",
      "        [0.0961]])\n",
      "grad: tensor([[-0.1354],\n",
      "        [ 0.0026]])\n",
      "grad: tensor([[-0.0872],\n",
      "        [-0.0143]])\n",
      "grad: tensor([[0.0210],\n",
      "        [0.0717]])\n",
      "grad: tensor([[ 0.2293],\n",
      "        [-0.0796]])\n",
      "grad: tensor([[-0.1996],\n",
      "        [-0.0130]])\n",
      "grad: tensor([[0.3583],\n",
      "        [0.0256]])\n",
      "grad: tensor([[-0.1994],\n",
      "        [ 0.0077]])\n",
      "grad: tensor([[-0.3431],\n",
      "        [ 0.0324]])\n",
      "grad: tensor([[ 0.1030],\n",
      "        [-0.0063]])\n",
      "grad: tensor([[0.0606],\n",
      "        [0.0301]])\n",
      "grad: tensor([[ 0.2199],\n",
      "        [-0.0159]])\n",
      "grad: tensor([[ 0.4049],\n",
      "        [-0.0136]])\n",
      "grad: tensor([[0.1358],\n",
      "        [0.0085]])\n",
      "grad: tensor([[-0.2784],\n",
      "        [-0.0463]])\n",
      "grad: tensor([[-0.1639],\n",
      "        [-0.0281]])\n",
      "grad: tensor([[-0.1548],\n",
      "        [-0.0142]])\n",
      "grad: tensor([[-0.1481],\n",
      "        [-0.0303]])\n",
      "grad: tensor([[0.3816],\n",
      "        [0.0444]])\n",
      "grad: tensor([[-0.1175],\n",
      "        [ 0.0063]])\n",
      "grad: tensor([[-0.0379],\n",
      "        [ 0.0630]])\n",
      "grad: tensor([[ 0.0090],\n",
      "        [-0.0316]])\n",
      "grad: tensor([[-0.0059],\n",
      "        [ 0.0294]])\n",
      "grad: tensor([[0.2453],\n",
      "        [0.0408]])\n",
      "grad: tensor([[-0.1579],\n",
      "        [ 0.0333]])\n",
      "grad: tensor([[0.0212],\n",
      "        [0.0144]])\n",
      "grad: tensor([[-0.0522],\n",
      "        [-0.0466]])\n",
      "grad: tensor([[0.2119],\n",
      "        [0.0221]])\n",
      "grad: tensor([[0.0559],\n",
      "        [0.0467]])\n",
      "grad: tensor([[0.0821],\n",
      "        [0.0094]])\n",
      "grad: tensor([[-0.6390],\n",
      "        [-0.0101]])\n",
      "grad: tensor([[0.2673],\n",
      "        [0.0129]])\n",
      "grad: tensor([[-0.2091],\n",
      "        [-0.0601]])\n",
      "grad: tensor([[0.3430],\n",
      "        [0.0265]])\n",
      "grad: tensor([[-0.0026],\n",
      "        [ 0.0485]])\n",
      "grad: tensor([[ 0.2055],\n",
      "        [-0.0025]])\n",
      "grad: tensor([[0.0528],\n",
      "        [0.0162]])\n",
      "grad: tensor([[-0.1512],\n",
      "        [ 0.0411]])\n",
      "grad: tensor([[ 0.1651],\n",
      "        [-0.0466]])\n",
      "grad: tensor([[-0.1709],\n",
      "        [ 0.0086]])\n",
      "grad: tensor([[-0.1076],\n",
      "        [ 0.0660]])\n",
      "grad: tensor([[-0.3477],\n",
      "        [ 0.0202]])\n",
      "grad: tensor([[ 0.1130],\n",
      "        [-0.0148]])\n",
      "grad: tensor([[ 0.2333],\n",
      "        [-0.0095]])\n",
      "grad: tensor([[ 0.2266],\n",
      "        [-0.0304]])\n",
      "grad: tensor([[-0.2657],\n",
      "        [-0.0685]])\n",
      "grad: tensor([[-0.0550],\n",
      "        [ 0.0144]])\n",
      "grad: tensor([[0.1703],\n",
      "        [0.0515]])\n",
      "grad: tensor([[-0.2298],\n",
      "        [ 0.0217]])\n",
      "grad: tensor([[ 0.2016],\n",
      "        [-0.0054]])\n",
      "grad: tensor([[-0.0268],\n",
      "        [-0.0026]])\n",
      "grad: tensor([[0.1024],\n",
      "        [0.0070]])\n",
      "grad: tensor([[-0.4811],\n",
      "        [ 0.0178]])\n",
      "grad: tensor([[0.1885],\n",
      "        [0.0421]])\n",
      "grad: tensor([[0.2796],\n",
      "        [0.0279]])\n",
      "grad: tensor([[-0.4246],\n",
      "        [ 0.0433]])\n",
      "grad: tensor([[ 0.1933],\n",
      "        [-0.0355]])\n",
      "grad: tensor([[-0.2191],\n",
      "        [-0.0062]])\n",
      "grad: tensor([[ 0.0661],\n",
      "        [-0.0233]])\n",
      "grad: tensor([[ 0.0245],\n",
      "        [-0.0167]])\n",
      "grad: tensor([[-0.0239],\n",
      "        [-0.0390]])\n",
      "grad: tensor([[ 0.0582],\n",
      "        [-0.0204]])\n",
      "grad: tensor([[ 0.0391],\n",
      "        [-0.0145]])\n",
      "grad: tensor([[0.2619],\n",
      "        [0.0425]])\n",
      "grad: tensor([[ 0.1359],\n",
      "        [-0.0010]])\n",
      "grad: tensor([[-0.1880],\n",
      "        [ 0.0306]])\n",
      "grad: tensor([[-0.3485],\n",
      "        [-0.0047]])\n",
      "grad: tensor([[-0.0638],\n",
      "        [ 0.0726]])\n",
      "grad: tensor([[-0.0288],\n",
      "        [-0.0429]])\n",
      "grad: tensor([[0.1086],\n",
      "        [0.0399]])\n",
      "grad: tensor([[-0.3085],\n",
      "        [ 0.0353]])\n",
      "grad: tensor([[ 0.3152],\n",
      "        [-0.0459]])\n",
      "grad: tensor([[-0.0015],\n",
      "        [ 0.0354]])\n",
      "grad: tensor([[ 0.0600],\n",
      "        [-0.0684]])\n",
      "grad: tensor([[0.3089],\n",
      "        [0.0182]])\n",
      "grad: tensor([[ 0.1435],\n",
      "        [-0.0305]])\n",
      "grad: tensor([[-0.2098],\n",
      "        [-0.0467]])\n",
      "grad: tensor([[0.0912],\n",
      "        [0.0430]])\n",
      "grad: tensor([[-0.2988],\n",
      "        [-0.0350]])\n",
      "grad: tensor([[ 0.2339],\n",
      "        [-0.0238]])\n",
      "grad: tensor([[0.0046],\n",
      "        [0.0099]])\n",
      "grad: tensor([[-0.1684],\n",
      "        [-0.0040]])\n",
      "grad: tensor([[ 0.1443],\n",
      "        [-0.0220]])\n",
      "grad: tensor([[-0.1285],\n",
      "        [ 0.0110]])\n",
      "grad: tensor([[-0.0634],\n",
      "        [-0.0406]])\n",
      "grad: tensor([[0.3052],\n",
      "        [0.0134]])\n",
      "grad: tensor([[-0.0732],\n",
      "        [ 0.0518]])\n",
      "grad: tensor([[-0.5441],\n",
      "        [-0.0460]])\n",
      "grad: tensor([[ 0.3205],\n",
      "        [-0.0044]])\n",
      "grad: tensor([[0.2290],\n",
      "        [0.0463]])\n",
      "grad: tensor([[ 0.0081],\n",
      "        [-0.0209]])\n",
      "grad: tensor([[-0.0836],\n",
      "        [-0.0084]])\n",
      "grad: tensor([[ 0.0695],\n",
      "        [-0.0015]])\n",
      "grad: tensor([[-0.0504],\n",
      "        [ 0.0107]])\n",
      "grad: tensor([[-0.0053],\n",
      "        [ 0.0140]])\n",
      "grad: tensor([[-0.2597],\n",
      "        [ 0.0083]])\n",
      "grad: tensor([[ 0.2752],\n",
      "        [-0.0004]])\n",
      "grad: tensor([[-0.1346],\n",
      "        [ 0.0032]])\n",
      "grad: tensor([[-0.0378],\n",
      "        [-0.0064]])\n",
      "grad: tensor([[0.0344],\n",
      "        [0.0474]])\n",
      "grad: tensor([[-0.1580],\n",
      "        [-0.0556]])\n",
      "grad: tensor([[-0.0328],\n",
      "        [ 0.0102]])\n",
      "grad: tensor([[ 0.0214],\n",
      "        [-0.0090]])\n",
      "grad: tensor([[ 0.0427],\n",
      "        [-0.0452]])\n",
      "grad: tensor([[-0.2183],\n",
      "        [-0.0029]])\n",
      "grad: tensor([[0.1538],\n",
      "        [0.0287]])\n",
      "grad: tensor([[0.2738],\n",
      "        [0.0296]])\n",
      "grad: tensor([[-0.1879],\n",
      "        [-0.0067]])\n",
      "grad: tensor([[-0.0346],\n",
      "        [-0.0016]])\n",
      "grad: tensor([[0.0415],\n",
      "        [0.0456]])\n",
      "grad: tensor([[0.3368],\n",
      "        [0.0273]])\n",
      "grad: tensor([[0.0121],\n",
      "        [0.0155]])\n",
      "grad: tensor([[0.0044],\n",
      "        [0.0266]])\n",
      "grad: tensor([[ 0.0065],\n",
      "        [-0.0380]])\n",
      "grad: tensor([[0.2043],\n",
      "        [0.0013]])\n",
      "grad: tensor([[-0.3312],\n",
      "        [ 0.0362]])\n",
      "grad: tensor([[ 0.0426],\n",
      "        [-0.0143]])\n",
      "grad: tensor([[ 0.3232],\n",
      "        [-0.0022]])\n",
      "grad: tensor([[-0.1024],\n",
      "        [-0.0080]])\n",
      "grad: tensor([[0.0614],\n",
      "        [0.0640]])\n",
      "grad: tensor([[-0.2129],\n",
      "        [-0.0488]])\n",
      "grad: tensor([[0.0835],\n",
      "        [0.0033]])\n",
      "grad: tensor([[-0.2649],\n",
      "        [-0.0206]])\n",
      "grad: tensor([[-0.2667],\n",
      "        [-0.0092]])\n",
      "grad: tensor([[0.4862],\n",
      "        [0.0480]])\n",
      "grad: tensor([[-0.0303],\n",
      "        [ 0.0148]])\n",
      "grad: tensor([[0.0367],\n",
      "        [0.0144]])\n",
      "grad: tensor([[-0.2117],\n",
      "        [-0.0193]])\n",
      "grad: tensor([[ 0.2901],\n",
      "        [-0.0659]])\n",
      "grad: tensor([[-0.2361],\n",
      "        [-0.0094]])\n",
      "grad: tensor([[-0.1895],\n",
      "        [ 0.0257]])\n",
      "grad: tensor([[-0.0993],\n",
      "        [ 0.0213]])\n",
      "grad: tensor([[-0.0145],\n",
      "        [-0.0127]])\n",
      "grad: tensor([[ 0.4020],\n",
      "        [-0.0114]])\n",
      "grad: tensor([[-0.3335],\n",
      "        [-0.0160]])\n",
      "grad: tensor([[ 0.0761],\n",
      "        [-0.0201]])\n",
      "grad: tensor([[-0.2235],\n",
      "        [ 0.0013]])\n",
      "grad: tensor([[-0.1869],\n",
      "        [-0.0271]])\n",
      "grad: tensor([[ 0.0741],\n",
      "        [-0.0471]])\n",
      "grad: tensor([[0.0875],\n",
      "        [0.0223]])\n",
      "grad: tensor([[ 0.0352],\n",
      "        [-0.0262]])\n",
      "grad: tensor([[0.1329],\n",
      "        [0.0316]])\n",
      "grad: tensor([[ 0.3459],\n",
      "        [-0.0017]])\n",
      "grad: tensor([[0.2354],\n",
      "        [0.0323]])\n",
      "grad: tensor([[-0.2856],\n",
      "        [ 0.0064]])\n",
      "grad: tensor([[-0.1098],\n",
      "        [ 0.0464]])\n",
      "grad: tensor([[-0.2345],\n",
      "        [-0.0346]])\n",
      "grad: tensor([[0.1295],\n",
      "        [0.0024]])\n",
      "grad: tensor([[0.0031],\n",
      "        [0.0536]])\n",
      "grad: tensor([[0.0389],\n",
      "        [0.0688]])\n",
      "grad: tensor([[ 0.1496],\n",
      "        [-0.0087]])\n",
      "grad: tensor([[-0.0119],\n",
      "        [-0.0666]])\n",
      "grad: tensor([[-0.0277],\n",
      "        [ 0.0406]])\n",
      "grad: tensor([[-0.0418],\n",
      "        [ 0.0235]])\n",
      "grad: tensor([[-0.0364],\n",
      "        [ 0.0159]])\n",
      "grad: tensor([[ 0.1948],\n",
      "        [-0.0037]])\n",
      "grad: tensor([[ 0.0577],\n",
      "        [-0.0308]])\n",
      "grad: tensor([[-0.4619],\n",
      "        [-0.0276]])\n",
      "grad: tensor([[ 0.0843],\n",
      "        [-0.0030]])\n",
      "grad: tensor([[ 0.0103],\n",
      "        [-0.0529]])\n",
      "grad: tensor([[-0.1665],\n",
      "        [ 0.0054]])\n",
      "grad: tensor([[ 0.1229],\n",
      "        [-0.0174]])\n",
      "grad: tensor([[-0.0122],\n",
      "        [-0.0110]])\n",
      "grad: tensor([[ 0.0233],\n",
      "        [-0.0430]])\n",
      "grad: tensor([[0.0259],\n",
      "        [0.0477]])\n",
      "grad: tensor([[ 0.1034],\n",
      "        [-0.0211]])\n",
      "grad: tensor([[-0.0364],\n",
      "        [-0.0232]])\n",
      "grad: tensor([[-0.0803],\n",
      "        [-0.0003]])\n",
      "grad: tensor([[ 0.1827],\n",
      "        [-0.0284]])\n",
      "grad: tensor([[ 0.0508],\n",
      "        [-0.0142]])\n",
      "grad: tensor([[-0.3371],\n",
      "        [ 0.0034]])\n",
      "grad: tensor([[-0.0117],\n",
      "        [-0.0526]])\n",
      "grad: tensor([[0.0106],\n",
      "        [0.0436]])\n",
      "grad: tensor([[-0.1912],\n",
      "        [ 0.0247]])\n",
      "grad: tensor([[0.1685],\n",
      "        [0.0067]])\n",
      "grad: tensor([[-0.2649],\n",
      "        [ 0.0256]])\n",
      "grad: tensor([[ 0.3594],\n",
      "        [-0.0340]])\n",
      "grad: tensor([[ 0.1699],\n",
      "        [-0.0193]])\n",
      "grad: tensor([[ 0.0878],\n",
      "        [-0.0098]])\n",
      "grad: tensor([[ 0.0894],\n",
      "        [-0.0230]])\n",
      "grad: tensor([[-0.3468],\n",
      "        [ 0.0063]])\n",
      "grad: tensor([[-0.1458],\n",
      "        [ 0.0062]])\n",
      "grad: tensor([[ 0.1169],\n",
      "        [-0.0541]])\n",
      "grad: tensor([[-0.0194],\n",
      "        [ 0.0276]])\n",
      "grad: tensor([[-0.1863],\n",
      "        [ 0.0042]])\n",
      "grad: tensor([[0.0882],\n",
      "        [0.0309]])\n",
      "grad: tensor([[ 0.0356],\n",
      "        [-0.0557]])\n",
      "grad: tensor([[ 0.2963],\n",
      "        [-0.0080]])\n",
      "grad: tensor([[ 0.1367],\n",
      "        [-0.0086]])\n",
      "grad: tensor([[-0.0496],\n",
      "        [ 0.0352]])\n",
      "grad: tensor([[ 0.3809],\n",
      "        [-0.0342]])\n",
      "grad: tensor([[-0.4987],\n",
      "        [-0.0236]])\n",
      "grad: tensor([[ 0.1510],\n",
      "        [-0.0596]])\n",
      "grad: tensor([[0.0003],\n",
      "        [0.0281]])\n",
      "grad: tensor([[-0.1137],\n",
      "        [ 0.0050]])\n",
      "grad: tensor([[0.2926],\n",
      "        [0.0651]])\n",
      "grad: tensor([[-0.0733],\n",
      "        [-0.0335]])\n",
      "grad: tensor([[-0.1215],\n",
      "        [-0.0316]])\n",
      "grad: tensor([[-0.0246],\n",
      "        [ 0.0031]])\n",
      "grad: tensor([[ 0.0683],\n",
      "        [-0.0256]])\n",
      "grad: tensor([[-0.1147],\n",
      "        [ 0.0022]])\n",
      "grad: tensor([[-0.1770],\n",
      "        [-0.0214]])\n",
      "grad: tensor([[ 0.0460],\n",
      "        [-0.0275]])\n",
      "grad: tensor([[0.1881],\n",
      "        [0.0173]])\n",
      "grad: tensor([[ 0.2570],\n",
      "        [-0.0731]])\n",
      "grad: tensor([[-0.3684],\n",
      "        [ 0.0183]])\n",
      "grad: tensor([[-0.0045],\n",
      "        [ 0.0347]])\n",
      "grad: tensor([[-0.5217],\n",
      "        [-0.0437]])\n",
      "grad: tensor([[-0.0168],\n",
      "        [ 0.0077]])\n",
      "grad: tensor([[0.2689],\n",
      "        [0.0153]])\n",
      "grad: tensor([[-0.2458],\n",
      "        [ 0.0279]])\n",
      "grad: tensor([[0.4511],\n",
      "        [0.0074]])\n",
      "grad: tensor([[ 0.1465],\n",
      "        [-0.0172]])\n",
      "grad: tensor([[-0.1082],\n",
      "        [-0.0032]])\n",
      "grad: tensor([[-0.0784],\n",
      "        [-0.0500]])\n",
      "grad: tensor([[0.0853],\n",
      "        [0.0395]])\n",
      "grad: tensor([[0.1757],\n",
      "        [0.0407]])\n",
      "grad: tensor([[-0.0033],\n",
      "        [-0.0139]])\n",
      "grad: tensor([[-0.0974],\n",
      "        [ 0.0054]])\n",
      "grad: tensor([[ 0.2592],\n",
      "        [-0.0124]])\n",
      "grad: tensor([[0.1531],\n",
      "        [0.0241]])\n",
      "grad: tensor([[-0.1763],\n",
      "        [-0.0074]])\n",
      "grad: tensor([[ 0.2656],\n",
      "        [-0.0029]])\n",
      "grad: tensor([[-0.0852],\n",
      "        [-0.0126]])\n",
      "grad: tensor([[0.1369],\n",
      "        [0.0291]])\n",
      "grad: tensor([[-0.4204],\n",
      "        [-0.0178]])\n",
      "grad: tensor([[-0.3199],\n",
      "        [-0.0306]])\n",
      "grad: tensor([[ 0.0872],\n",
      "        [-0.0241]])\n",
      "grad: tensor([[-0.0268],\n",
      "        [ 0.0246]])\n",
      "grad: tensor([[ 2.9701e-01],\n",
      "        [-1.0047e-04]])\n",
      "grad: tensor([[-0.1163],\n",
      "        [ 0.0514]])\n",
      "grad: tensor([[-0.3376],\n",
      "        [-0.0005]])\n",
      "grad: tensor([[ 0.0430],\n",
      "        [-0.0188]])\n",
      "grad: tensor([[-0.1981],\n",
      "        [ 0.0202]])\n",
      "grad: tensor([[0.1729],\n",
      "        [0.0471]])\n",
      "grad: tensor([[-0.2084],\n",
      "        [ 0.0161]])\n",
      "grad: tensor([[0.0024],\n",
      "        [0.0236]])\n",
      "grad: tensor([[0.0621],\n",
      "        [0.0454]])\n",
      "grad: tensor([[-0.0457],\n",
      "        [-0.0122]])\n",
      "grad: tensor([[-0.2900],\n",
      "        [ 0.0234]])\n",
      "grad: tensor([[ 0.5651],\n",
      "        [-0.0250]])\n",
      "grad: tensor([[-0.3372],\n",
      "        [ 0.0076]])\n",
      "grad: tensor([[0.1772],\n",
      "        [0.0405]])\n",
      "grad: tensor([[-0.1678],\n",
      "        [ 0.0061]])\n",
      "grad: tensor([[-0.0103],\n",
      "        [-0.0151]])\n",
      "grad: tensor([[ 0.1309],\n",
      "        [-0.0733]])\n",
      "grad: tensor([[ 0.2034],\n",
      "        [-0.0022]])\n",
      "grad: tensor([[-0.0520],\n",
      "        [ 0.0542]])\n",
      "grad: tensor([[ 0.2796],\n",
      "        [-0.0243]])\n",
      "grad: tensor([[-0.2118],\n",
      "        [-0.0051]])\n",
      "grad: tensor([[-0.0839],\n",
      "        [ 0.0185]])\n",
      "grad: tensor([[-0.1227],\n",
      "        [-0.0182]])\n",
      "grad: tensor([[0.5178],\n",
      "        [0.0138]])\n",
      "grad: tensor([[-0.0415],\n",
      "        [-0.0319]])\n",
      "grad: tensor([[0.3249],\n",
      "        [0.0469]])\n",
      "grad: tensor([[-0.4775],\n",
      "        [-0.0412]])\n",
      "grad: tensor([[ 0.3989],\n",
      "        [-0.0339]])\n",
      "grad: tensor([[-0.3512],\n",
      "        [ 0.0135]])\n",
      "grad: tensor([[-0.1407],\n",
      "        [ 0.0408]])\n",
      "grad: tensor([[-0.1027],\n",
      "        [-0.0212]])\n",
      "grad: tensor([[ 0.2204],\n",
      "        [-0.0300]])\n",
      "grad: tensor([[0.0788],\n",
      "        [0.0056]])\n",
      "grad: tensor([[0.1259],\n",
      "        [0.0082]])\n",
      "grad: tensor([[0.0100],\n",
      "        [0.0250]])\n",
      "grad: tensor([[-0.0862],\n",
      "        [ 0.0135]])\n",
      "grad: tensor([[-0.2147],\n",
      "        [-0.0461]])\n",
      "grad: tensor([[-0.2033],\n",
      "        [-0.0517]])\n",
      "grad: tensor([[ 0.0558],\n",
      "        [-0.0205]])\n",
      "grad: tensor([[ 0.0669],\n",
      "        [-0.0399]])\n",
      "grad: tensor([[-0.0660],\n",
      "        [-0.0151]])\n",
      "grad: tensor([[0.1160],\n",
      "        [0.0170]])\n",
      "grad: tensor([[0.1041],\n",
      "        [0.0524]])\n",
      "grad: tensor([[ 0.0264],\n",
      "        [-0.0343]])\n",
      "grad: tensor([[0.2028],\n",
      "        [0.0099]])\n",
      "grad: tensor([[ 0.0713],\n",
      "        [-0.0486]])\n",
      "grad: tensor([[-0.0298],\n",
      "        [-0.0291]])\n",
      "grad: tensor([[-0.4759],\n",
      "        [ 0.0031]])\n",
      "grad: tensor([[-0.0972],\n",
      "        [ 0.0293]])\n",
      "grad: tensor([[0.1706],\n",
      "        [0.0122]])\n",
      "grad: tensor([[-0.1435],\n",
      "        [-0.0527]])\n",
      "grad: tensor([[-0.0019],\n",
      "        [ 0.0598]])\n",
      "grad: tensor([[ 0.2729],\n",
      "        [-0.0353]])\n",
      "grad: tensor([[-0.2693],\n",
      "        [ 0.0042]])\n",
      "grad: tensor([[0.2590],\n",
      "        [0.0309]])\n",
      "grad: tensor([[ 0.0830],\n",
      "        [-0.0269]])\n",
      "grad: tensor([[-0.1594],\n",
      "        [-0.0046]])\n",
      "grad: tensor([[ 0.0328],\n",
      "        [-0.0172]])\n",
      "grad: tensor([[0.2532],\n",
      "        [0.0511]])\n",
      "grad: tensor([[ 0.0397],\n",
      "        [-0.0192]])\n",
      "grad: tensor([[ 0.4936],\n",
      "        [-0.0285]])\n",
      "grad: tensor([[-0.3975],\n",
      "        [ 0.0259]])\n",
      "grad: tensor([[-0.4587],\n",
      "        [-0.0230]])\n",
      "grad: tensor([[-0.2439],\n",
      "        [ 0.0356]])\n",
      "grad: tensor([[-0.0386],\n",
      "        [-0.0104]])\n",
      "grad: tensor([[0.5056],\n",
      "        [0.0011]])\n",
      "grad: tensor([[-0.0872],\n",
      "        [-0.0211]])\n",
      "grad: tensor([[-0.0834],\n",
      "        [ 0.0200]])\n"
     ]
    },
    {
     "name": "stdout",
     "output_type": "stream",
     "text": [
      "grad: tensor([[0.0511],\n",
      "        [0.0267]])\n",
      "grad: tensor([[ 0.3372],\n",
      "        [-0.0322]])\n",
      "grad: tensor([[-0.0139],\n",
      "        [ 0.0156]])\n",
      "grad: tensor([[-0.2936],\n",
      "        [-0.0171]])\n",
      "grad: tensor([[ 0.2811],\n",
      "        [-0.0214]])\n",
      "grad: tensor([[-0.1652],\n",
      "        [ 0.0359]])\n",
      "grad: tensor([[-0.2174],\n",
      "        [ 0.0308]])\n",
      "grad: tensor([[-0.0238],\n",
      "        [ 0.0278]])\n",
      "grad: tensor([[-0.0054],\n",
      "        [ 0.0509]])\n",
      "grad: tensor([[0.2915],\n",
      "        [0.0265]])\n",
      "grad: tensor([[-0.0750],\n",
      "        [ 0.0007]])\n",
      "grad: tensor([[ 0.1500],\n",
      "        [-0.0399]])\n",
      "grad: tensor([[-0.0786],\n",
      "        [-0.0334]])\n",
      "grad: tensor([[-0.2351],\n",
      "        [-0.0006]])\n",
      "grad: tensor([[0.0394],\n",
      "        [0.0438]])\n",
      "grad: tensor([[0.2173],\n",
      "        [0.0340]])\n",
      "grad: tensor([[-0.2215],\n",
      "        [ 0.0243]])\n",
      "grad: tensor([[ 0.1863],\n",
      "        [-0.0382]])\n",
      "grad: tensor([[ 0.0025],\n",
      "        [-0.0189]])\n",
      "grad: tensor([[0.0205],\n",
      "        [0.0161]])\n",
      "grad: tensor([[ 0.2719],\n",
      "        [-0.0063]])\n",
      "grad: tensor([[-0.4548],\n",
      "        [ 0.0167]])\n",
      "grad: tensor([[-0.2235],\n",
      "        [ 0.0166]])\n",
      "grad: tensor([[0.0620],\n",
      "        [0.0005]])\n",
      "grad: tensor([[0.0513],\n",
      "        [0.0009]])\n",
      "grad: tensor([[ 0.3160],\n",
      "        [-0.0236]])\n",
      "grad: tensor([[-0.0669],\n",
      "        [-0.0506]])\n",
      "grad: tensor([[-0.1327],\n",
      "        [-0.0025]])\n",
      "grad: tensor([[0.2829],\n",
      "        [0.0008]])\n",
      "grad: tensor([[-0.2044],\n",
      "        [-0.0149]])\n",
      "grad: tensor([[-0.3667],\n",
      "        [ 0.0324]])\n",
      "grad: tensor([[0.3151],\n",
      "        [0.0407]])\n",
      "grad: tensor([[ 0.1110],\n",
      "        [-0.0257]])\n",
      "grad: tensor([[-0.2641],\n",
      "        [ 0.0054]])\n",
      "grad: tensor([[0.3275],\n",
      "        [0.0368]])\n",
      "grad: tensor([[-0.0547],\n",
      "        [-0.0605]])\n",
      "grad: tensor([[-0.3066],\n",
      "        [ 0.0256]])\n",
      "grad: tensor([[ 0.2219],\n",
      "        [-0.0477]])\n",
      "grad: tensor([[-0.0359],\n",
      "        [ 0.0053]])\n",
      "grad: tensor([[-0.0298],\n",
      "        [ 0.0097]])\n",
      "grad: tensor([[-0.1954],\n",
      "        [-0.0200]])\n",
      "grad: tensor([[-0.0167],\n",
      "        [-0.0542]])\n",
      "grad: tensor([[-0.1849],\n",
      "        [ 0.0242]])\n",
      "grad: tensor([[ 0.2054],\n",
      "        [-0.0529]])\n",
      "grad: tensor([[ 0.0968],\n",
      "        [-0.0070]])\n",
      "grad: tensor([[-0.3055],\n",
      "        [ 0.0086]])\n",
      "grad: tensor([[ 0.2068],\n",
      "        [-0.0338]])\n",
      "grad: tensor([[0.2238],\n",
      "        [0.0449]])\n",
      "grad: tensor([[-0.2628],\n",
      "        [ 0.0104]])\n",
      "grad: tensor([[ 0.1111],\n",
      "        [-0.0088]])\n",
      "grad: tensor([[-0.1640],\n",
      "        [ 0.0463]])\n",
      "grad: tensor([[-0.1506],\n",
      "        [ 0.0362]])\n",
      "grad: tensor([[ 0.2954],\n",
      "        [-0.0912]])\n",
      "grad: tensor([[0.0570],\n",
      "        [0.0312]])\n",
      "grad: tensor([[-0.0513],\n",
      "        [-0.0062]])\n",
      "grad: tensor([[ 0.0928],\n",
      "        [-0.0205]])\n",
      "grad: tensor([[-0.1186],\n",
      "        [-0.0032]])\n",
      "grad: tensor([[0.2176],\n",
      "        [0.0332]])\n",
      "grad: tensor([[ 0.1313],\n",
      "        [-0.0039]])\n",
      "grad: tensor([[-0.2907],\n",
      "        [-0.0222]])\n",
      "grad: tensor([[0.0330],\n",
      "        [0.0033]])\n",
      "grad: tensor([[0.0364],\n",
      "        [0.0154]])\n",
      "grad: tensor([[ 0.0307],\n",
      "        [-0.0242]])\n",
      "grad: tensor([[0.0332],\n",
      "        [0.0174]])\n",
      "grad: tensor([[-0.1302],\n",
      "        [-0.0444]])\n",
      "grad: tensor([[-0.0308],\n",
      "        [ 0.0278]])\n",
      "grad: tensor([[0.2034],\n",
      "        [0.0100]])\n",
      "grad: tensor([[-0.0919],\n",
      "        [-0.0238]])\n",
      "grad: tensor([[-0.0639],\n",
      "        [ 0.0099]])\n",
      "grad: tensor([[0.0714],\n",
      "        [0.0134]])\n",
      "grad: tensor([[-0.2927],\n",
      "        [-0.0121]])\n",
      "grad: tensor([[-0.0369],\n",
      "        [-0.0487]])\n",
      "grad: tensor([[-0.0420],\n",
      "        [-0.0201]])\n",
      "grad: tensor([[0.1076],\n",
      "        [0.0032]])\n",
      "grad: tensor([[ 0.1039],\n",
      "        [-0.0288]])\n",
      "grad: tensor([[-0.0089],\n",
      "        [ 0.0189]])\n",
      "grad: tensor([[ 0.1005],\n",
      "        [-0.0323]])\n",
      "grad: tensor([[ 0.1494],\n",
      "        [-0.0294]])\n",
      "grad: tensor([[-1.9594e-01],\n",
      "        [-8.6370e-05]])\n",
      "grad: tensor([[0.1702],\n",
      "        [0.0034]])\n",
      "grad: tensor([[-0.1492],\n",
      "        [ 0.0221]])\n",
      "grad: tensor([[-0.0831],\n",
      "        [-0.0078]])\n",
      "grad: tensor([[-0.0215],\n",
      "        [-0.0236]])\n",
      "grad: tensor([[ 0.1477],\n",
      "        [-0.0099]])\n",
      "grad: tensor([[-0.3620],\n",
      "        [-0.0022]])\n",
      "grad: tensor([[ 0.3179],\n",
      "        [-0.0185]])\n",
      "grad: tensor([[-0.0370],\n",
      "        [ 0.0186]])\n",
      "grad: tensor([[0.0996],\n",
      "        [0.0112]])\n",
      "grad: tensor([[0.2122],\n",
      "        [0.0295]])\n",
      "grad: tensor([[ 0.0433],\n",
      "        [-0.0008]])\n",
      "grad: tensor([[-0.0415],\n",
      "        [-0.0015]])\n",
      "grad: tensor([[0.1635],\n",
      "        [0.0021]])\n",
      "grad: tensor([[-0.0708],\n",
      "        [-0.0147]])\n",
      "grad: tensor([[-0.1348],\n",
      "        [ 0.0101]])\n",
      "grad: tensor([[-0.1594],\n",
      "        [ 0.0247]])\n",
      "grad: tensor([[-0.2055],\n",
      "        [-0.0428]])\n",
      "grad: tensor([[-0.1696],\n",
      "        [ 0.0164]])\n",
      "grad: tensor([[ 0.1295],\n",
      "        [-0.0359]])\n",
      "grad: tensor([[0.0829],\n",
      "        [0.0506]])\n",
      "grad: tensor([[-0.0541],\n",
      "        [ 0.0147]])\n",
      "grad: tensor([[0.0691],\n",
      "        [0.0030]])\n",
      "grad: tensor([[ 0.1573],\n",
      "        [-0.0174]])\n",
      "grad: tensor([[ 0.1809],\n",
      "        [-0.0253]])\n",
      "grad: tensor([[ 0.0520],\n",
      "        [-0.0492]])\n",
      "grad: tensor([[-0.4803],\n",
      "        [-0.0144]])\n",
      "grad: tensor([[ 0.1615],\n",
      "        [-0.0330]])\n",
      "grad: tensor([[-0.4180],\n",
      "        [-0.0041]])\n",
      "grad: tensor([[ 0.4398],\n",
      "        [-0.0316]])\n",
      "grad: tensor([[-0.0691],\n",
      "        [ 0.0363]])\n",
      "grad: tensor([[-0.1096],\n",
      "        [-0.0448]])\n",
      "grad: tensor([[-0.0031],\n",
      "        [-0.0722]])\n",
      "grad: tensor([[ 0.2140],\n",
      "        [-0.0345]])\n",
      "grad: tensor([[ 0.1952],\n",
      "        [-0.0049]])\n",
      "grad: tensor([[ 0.1360],\n",
      "        [-0.0571]])\n",
      "grad: tensor([[-0.2520],\n",
      "        [-0.0112]])\n",
      "grad: tensor([[-0.1743],\n",
      "        [ 0.0168]])\n",
      "grad: tensor([[-0.1595],\n",
      "        [-0.0361]])\n",
      "grad: tensor([[0.5320],\n",
      "        [0.0763]])\n",
      "grad: tensor([[-0.3624],\n",
      "        [ 0.0378]])\n",
      "grad: tensor([[-0.0941],\n",
      "        [ 0.0156]])\n",
      "grad: tensor([[-0.1565],\n",
      "        [-0.0402]])\n",
      "grad: tensor([[-0.1423],\n",
      "        [ 0.0441]])\n",
      "grad: tensor([[0.4622],\n",
      "        [0.0496]])\n",
      "grad: tensor([[0.1432],\n",
      "        [0.0375]])\n",
      "grad: tensor([[-0.1951],\n",
      "        [ 0.0554]])\n",
      "grad: tensor([[ 0.1145],\n",
      "        [-0.0621]])\n",
      "grad: tensor([[-0.0849],\n",
      "        [ 0.0032]])\n",
      "grad: tensor([[-0.4437],\n",
      "        [ 0.0238]])\n",
      "grad: tensor([[0.3167],\n",
      "        [0.0242]])\n",
      "grad: tensor([[0.4265],\n",
      "        [0.0314]])\n",
      "grad: tensor([[-0.1007],\n",
      "        [ 0.0013]])\n",
      "grad: tensor([[0.0385],\n",
      "        [0.0273]])\n",
      "grad: tensor([[-0.3719],\n",
      "        [-0.0109]])\n",
      "grad: tensor([[0.0459],\n",
      "        [0.0178]])\n",
      "grad: tensor([[ 0.2059],\n",
      "        [-0.0021]])\n",
      "grad: tensor([[0.0468],\n",
      "        [0.0110]])\n",
      "grad: tensor([[-0.0587],\n",
      "        [-0.0184]])\n",
      "grad: tensor([[ 0.0470],\n",
      "        [-0.0097]])\n",
      "grad: tensor([[ 0.1201],\n",
      "        [-0.0282]])\n",
      "grad: tensor([[-0.1443],\n",
      "        [ 0.0022]])\n",
      "grad: tensor([[0.0985],\n",
      "        [0.0093]])\n",
      "grad: tensor([[-0.1717],\n",
      "        [-0.0362]])\n",
      "grad: tensor([[ 0.0629],\n",
      "        [-0.0312]])\n",
      "grad: tensor([[0.2000],\n",
      "        [0.0131]])\n",
      "grad: tensor([[-0.0016],\n",
      "        [ 0.0288]])\n",
      "grad: tensor([[-0.1525],\n",
      "        [ 0.0004]])\n",
      "grad: tensor([[0.1091],\n",
      "        [0.0524]])\n",
      "grad: tensor([[-0.1067],\n",
      "        [ 0.0172]])\n",
      "grad: tensor([[-0.1777],\n",
      "        [ 0.0170]])\n",
      "grad: tensor([[-0.0242],\n",
      "        [-0.0233]])\n",
      "grad: tensor([[0.0958],\n",
      "        [0.0012]])\n",
      "grad: tensor([[0.1175],\n",
      "        [0.0459]])\n",
      "grad: tensor([[ 0.2894],\n",
      "        [-0.0359]])\n",
      "grad: tensor([[-0.2327],\n",
      "        [ 0.0162]])\n",
      "grad: tensor([[0.1732],\n",
      "        [0.0244]])\n",
      "grad: tensor([[0.0937],\n",
      "        [0.0104]])\n",
      "grad: tensor([[-0.3970],\n",
      "        [ 0.0024]])\n",
      "grad: tensor([[ 0.3687],\n",
      "        [-0.0248]])\n",
      "grad: tensor([[-0.1136],\n",
      "        [-0.0238]])\n",
      "grad: tensor([[ 0.0866],\n",
      "        [-0.0133]])\n",
      "grad: tensor([[-0.0769],\n",
      "        [ 0.0312]])\n",
      "grad: tensor([[0.1505],\n",
      "        [0.0005]])\n",
      "grad: tensor([[-0.0434],\n",
      "        [ 0.0142]])\n",
      "grad: tensor([[-0.2900],\n",
      "        [-0.0037]])\n",
      "grad: tensor([[-0.3516],\n",
      "        [-0.0175]])\n",
      "grad: tensor([[-0.0582],\n",
      "        [ 0.0116]])\n",
      "grad: tensor([[0.0612],\n",
      "        [0.0318]])\n",
      "grad: tensor([[-0.2421],\n",
      "        [-0.0592]])\n",
      "grad: tensor([[-0.1090],\n",
      "        [ 0.0437]])\n",
      "grad: tensor([[ 0.1869],\n",
      "        [-0.0286]])\n",
      "grad: tensor([[ 0.2256],\n",
      "        [-0.0488]])\n",
      "grad: tensor([[ 0.1636],\n",
      "        [-0.0098]])\n",
      "grad: tensor([[0.0288],\n",
      "        [0.0061]])\n",
      "grad: tensor([[-0.0069],\n",
      "        [-0.0055]])\n",
      "grad: tensor([[ 0.1213],\n",
      "        [-0.0322]])\n",
      "grad: tensor([[0.0225],\n",
      "        [0.0150]])\n",
      "grad: tensor([[-0.1838],\n",
      "        [-0.0339]])\n",
      "grad: tensor([[0.0044],\n",
      "        [0.0734]])\n",
      "grad: tensor([[ 0.0543],\n",
      "        [-0.0028]])\n",
      "grad: tensor([[-0.1628],\n",
      "        [ 0.0589]])\n",
      "grad: tensor([[0.2168],\n",
      "        [0.0414]])\n",
      "grad: tensor([[-0.2542],\n",
      "        [-0.0114]])\n",
      "grad: tensor([[-0.0033],\n",
      "        [ 0.0016]])\n",
      "grad: tensor([[-0.2072],\n",
      "        [-0.0576]])\n",
      "grad: tensor([[ 0.1387],\n",
      "        [-0.0375]])\n",
      "grad: tensor([[ 0.1771],\n",
      "        [-0.0190]])\n",
      "grad: tensor([[0.2404],\n",
      "        [0.0130]])\n",
      "grad: tensor([[-0.3785],\n",
      "        [-0.0046]])\n",
      "grad: tensor([[ 0.0106],\n",
      "        [-0.0068]])\n",
      "grad: tensor([[-0.1882],\n",
      "        [ 0.0027]])\n",
      "grad: tensor([[-0.2005],\n",
      "        [ 0.0215]])\n",
      "grad: tensor([[-0.0129],\n",
      "        [-0.0264]])\n",
      "grad: tensor([[-0.1804],\n",
      "        [ 0.0260]])\n",
      "grad: tensor([[ 0.1271],\n",
      "        [-0.0435]])\n",
      "grad: tensor([[0.0448],\n",
      "        [0.0630]])\n",
      "grad: tensor([[ 0.0775],\n",
      "        [-0.0359]])\n",
      "grad: tensor([[ 0.0631],\n",
      "        [-0.0446]])\n",
      "grad: tensor([[-0.0053],\n",
      "        [ 0.0526]])\n",
      "grad: tensor([[ 0.2683],\n",
      "        [-0.0263]])\n",
      "grad: tensor([[-0.0708],\n",
      "        [ 0.0102]])\n",
      "grad: tensor([[ 0.2506],\n",
      "        [-0.0057]])\n",
      "grad: tensor([[-0.1593],\n",
      "        [ 0.0152]])\n",
      "grad: tensor([[0.1204],\n",
      "        [0.0023]])\n",
      "grad: tensor([[-0.1029],\n",
      "        [ 0.0121]])\n",
      "grad: tensor([[ 0.1629],\n",
      "        [-0.0010]])\n",
      "grad: tensor([[-0.1362],\n",
      "        [ 0.0285]])\n",
      "grad: tensor([[0.1461],\n",
      "        [0.0306]])\n",
      "grad: tensor([[-0.0570],\n",
      "        [-0.0028]])\n",
      "grad: tensor([[ 0.0780],\n",
      "        [-0.0636]])\n",
      "grad: tensor([[-0.2314],\n",
      "        [ 0.0122]])\n",
      "grad: tensor([[-0.2343],\n",
      "        [-0.0104]])\n",
      "grad: tensor([[0.1638],\n",
      "        [0.0274]])\n",
      "grad: tensor([[ 0.2387],\n",
      "        [-0.0286]])\n",
      "grad: tensor([[-0.1242],\n",
      "        [-0.0082]])\n",
      "grad: tensor([[-0.0308],\n",
      "        [ 0.0389]])\n",
      "grad: tensor([[-0.1804],\n",
      "        [-0.0172]])\n",
      "grad: tensor([[-0.0857],\n",
      "        [ 0.0345]])\n",
      "grad: tensor([[0.4071],\n",
      "        [0.0075]])\n",
      "grad: tensor([[0.0738],\n",
      "        [0.0133]])\n",
      "grad: tensor([[-0.1529],\n",
      "        [ 0.0006]])\n",
      "grad: tensor([[0.0991],\n",
      "        [0.0215]])\n",
      "grad: tensor([[-0.0366],\n",
      "        [-0.0189]])\n",
      "grad: tensor([[ 0.0496],\n",
      "        [-0.0181]])\n",
      "grad: tensor([[-0.0264],\n",
      "        [ 0.0447]])\n",
      "grad: tensor([[0.0418],\n",
      "        [0.0123]])\n",
      "grad: tensor([[-0.0411],\n",
      "        [ 0.0221]])\n",
      "grad: tensor([[0.2398],\n",
      "        [0.0020]])\n",
      "grad: tensor([[-0.2329],\n",
      "        [ 0.0080]])\n",
      "grad: tensor([[0.1069],\n",
      "        [0.0052]])\n",
      "grad: tensor([[ 0.2062],\n",
      "        [-0.0255]])\n",
      "grad: tensor([[ 0.2980],\n",
      "        [-0.0065]])\n",
      "grad: tensor([[-0.3647],\n",
      "        [ 0.0358]])\n",
      "grad: tensor([[-0.4818],\n",
      "        [ 0.0072]])\n",
      "grad: tensor([[0.1636],\n",
      "        [0.0369]])\n",
      "grad: tensor([[ 0.0191],\n",
      "        [-0.0224]])\n",
      "grad: tensor([[-0.2267],\n",
      "        [-0.0430]])\n",
      "grad: tensor([[ 0.0573],\n",
      "        [-0.0387]])\n",
      "grad: tensor([[ 0.0130],\n",
      "        [-0.0198]])\n",
      "grad: tensor([[0.1719],\n",
      "        [0.0512]])\n",
      "grad: tensor([[ 0.0894],\n",
      "        [-0.0071]])\n",
      "grad: tensor([[-0.0613],\n",
      "        [ 0.1057]])\n",
      "grad: tensor([[0.0657],\n",
      "        [0.0125]])\n",
      "grad: tensor([[-0.0153],\n",
      "        [ 0.0422]])\n",
      "grad: tensor([[ 0.0215],\n",
      "        [-0.0045]])\n",
      "grad: tensor([[2.4374e-01],\n",
      "        [1.3664e-05]])\n",
      "grad: tensor([[ 0.0274],\n",
      "        [-0.0189]])\n",
      "grad: tensor([[-0.3336],\n",
      "        [ 0.0341]])\n",
      "grad: tensor([[0.0333],\n",
      "        [0.0096]])\n",
      "grad: tensor([[-0.1117],\n",
      "        [ 0.0523]])\n",
      "grad: tensor([[ 0.1417],\n",
      "        [-0.0038]])\n",
      "grad: tensor([[-0.1184],\n",
      "        [ 0.0149]])\n",
      "grad: tensor([[0.0842],\n",
      "        [0.0485]])\n",
      "grad: tensor([[-0.0440],\n",
      "        [ 0.0209]])\n",
      "grad: tensor([[-0.0705],\n",
      "        [-0.0598]])\n",
      "grad: tensor([[0.1116],\n",
      "        [0.0675]])\n",
      "grad: tensor([[-0.0294],\n",
      "        [-0.0153]])\n",
      "grad: tensor([[-0.0928],\n",
      "        [-0.0162]])\n",
      "grad: tensor([[0.1210],\n",
      "        [0.0507]])\n",
      "grad: tensor([[-0.0568],\n",
      "        [-0.0827]])\n",
      "grad: tensor([[ 0.2022],\n",
      "        [-0.0234]])\n",
      "grad: tensor([[ 0.0756],\n",
      "        [-0.0091]])\n",
      "grad: tensor([[-0.2433],\n",
      "        [-0.0159]])\n",
      "grad: tensor([[0.0105],\n",
      "        [0.0179]])\n",
      "grad: tensor([[ 0.0748],\n",
      "        [-0.0129]])\n",
      "grad: tensor([[0.1618],\n",
      "        [0.0145]])\n",
      "grad: tensor([[0.0091],\n",
      "        [0.0251]])\n",
      "grad: tensor([[-0.1304],\n",
      "        [ 0.0141]])\n",
      "grad: tensor([[-0.2084],\n",
      "        [-0.0334]])\n",
      "grad: tensor([[0.1404],\n",
      "        [0.0263]])\n",
      "grad: tensor([[-0.3447],\n",
      "        [ 0.0091]])\n",
      "grad: tensor([[0.2342],\n",
      "        [0.0571]])\n",
      "grad: tensor([[-0.0858],\n",
      "        [ 0.0148]])\n",
      "grad: tensor([[-0.0875],\n",
      "        [-0.0386]])\n",
      "grad: tensor([[ 0.1797],\n",
      "        [-0.0478]])\n",
      "grad: tensor([[0.0591],\n",
      "        [0.0023]])\n",
      "grad: tensor([[-0.0438],\n",
      "        [-0.0749]])\n",
      "grad: tensor([[-0.0210],\n",
      "        [-0.0030]])\n",
      "grad: tensor([[-0.3998],\n",
      "        [ 0.0119]])\n",
      "grad: tensor([[-0.2094],\n",
      "        [-0.0175]])\n",
      "grad: tensor([[0.1852],\n",
      "        [0.0440]])\n",
      "grad: tensor([[0.1843],\n",
      "        [0.0396]])\n",
      "grad: tensor([[0.4296],\n",
      "        [0.0147]])\n",
      "grad: tensor([[0.0874],\n",
      "        [0.0229]])\n",
      "grad: tensor([[-0.0035],\n",
      "        [ 0.0483]])\n",
      "grad: tensor([[ 0.0060],\n",
      "        [-0.0114]])\n",
      "grad: tensor([[-0.0326],\n",
      "        [-0.0120]])\n",
      "grad: tensor([[-0.3077],\n",
      "        [ 0.0302]])\n",
      "grad: tensor([[0.0343],\n",
      "        [0.0012]])\n",
      "grad: tensor([[-0.0766],\n",
      "        [ 0.0215]])\n",
      "grad: tensor([[0.1432],\n",
      "        [0.0179]])\n",
      "grad: tensor([[0.1099],\n",
      "        [0.0479]])\n",
      "grad: tensor([[-0.1643],\n",
      "        [-0.0287]])\n",
      "grad: tensor([[-0.1809],\n",
      "        [-0.0372]])\n",
      "grad: tensor([[0.2483],\n",
      "        [0.0137]])\n",
      "grad: tensor([[-0.0693],\n",
      "        [ 0.0045]])\n",
      "grad: tensor([[-0.1795],\n",
      "        [ 0.0289]])\n",
      "grad: tensor([[-0.1848],\n",
      "        [-0.0340]])\n",
      "grad: tensor([[0.3150],\n",
      "        [0.0146]])\n",
      "grad: tensor([[ 0.2201],\n",
      "        [-0.0482]])\n",
      "grad: tensor([[-0.1241],\n",
      "        [ 0.0178]])\n",
      "grad: tensor([[ 0.1229],\n",
      "        [-0.0120]])\n",
      "grad: tensor([[ 0.1142],\n",
      "        [-0.0212]])\n",
      "grad: tensor([[-0.2253],\n",
      "        [ 0.0121]])\n",
      "grad: tensor([[-0.3045],\n",
      "        [ 0.0203]])\n",
      "grad: tensor([[ 0.3170],\n",
      "        [-0.0516]])\n",
      "grad: tensor([[-0.2070],\n",
      "        [ 0.0134]])\n",
      "grad: tensor([[ 0.1140],\n",
      "        [-0.0200]])\n",
      "grad: tensor([[ 0.0183],\n",
      "        [-0.0259]])\n",
      "grad: tensor([[0.1220],\n",
      "        [0.0207]])\n",
      "grad: tensor([[ 0.4312],\n",
      "        [-0.0026]])\n",
      "grad: tensor([[0.0809],\n",
      "        [0.0090]])\n",
      "grad: tensor([[0.0582],\n",
      "        [0.0568]])\n",
      "grad: tensor([[-0.2596],\n",
      "        [ 0.0852]])\n",
      "grad: tensor([[-0.1979],\n",
      "        [-0.0446]])\n",
      "grad: tensor([[-0.0272],\n",
      "        [ 0.0340]])\n",
      "grad: tensor([[0.3980],\n",
      "        [0.0051]])\n"
     ]
    },
    {
     "name": "stdout",
     "output_type": "stream",
     "text": [
      "grad: tensor([[-0.2947],\n",
      "        [-0.0376]])\n",
      "grad: tensor([[ 0.1564],\n",
      "        [-0.0149]])\n",
      "grad: tensor([[-0.4117],\n",
      "        [-0.0341]])\n",
      "grad: tensor([[ 0.4194],\n",
      "        [-0.0319]])\n",
      "grad: tensor([[-0.2364],\n",
      "        [-0.0161]])\n",
      "grad: tensor([[-0.0090],\n",
      "        [ 0.0196]])\n",
      "grad: tensor([[-0.3012],\n",
      "        [ 0.0090]])\n",
      "grad: tensor([[ 0.1964],\n",
      "        [-0.0070]])\n",
      "grad: tensor([[0.0094],\n",
      "        [0.0373]])\n"
     ]
    }
   ],
   "source": [
    "\n",
    "X_ = ch.cat([X, ch.ones(X.size(0), 1)], axis=1)\n",
    "# calculate original ols \n",
    "gt = LinearRegression(fit_intercept=False)\n",
    "gt.fit(X_.numpy(), y)\n",
    "\n",
    "weight = ch.nn.Parameter(ch.from_numpy(gt.coef_).T)\n",
    "\n",
    "opt = ch.optim.SGD([weight], lr=1e-2)\n",
    "\n",
    "\n",
    "loader = ch.utils.data.DataLoader(ch.utils.data.TensorDataset(X_, y), batch_size=100, shuffle=True)\n",
    "\n",
    "# iterate over epochs\n",
    "for i in range(10):\n",
    "\n",
    "    for batch in loader: \n",
    "        opt.zero_grad()\n",
    "        x_, y_ = batch\n",
    "        pred = x_@weight\n",
    "        \n",
    "        \n",
    "        loss = TruncatedMSE.apply(pred, y_, oracle.Identity(), noise_var)\n",
    "        loss.backward()\n",
    "        opt.step()\n",
    "        \n",
    "        print('grad: {}'.format(weight.grad))\n",
    "        "
   ]
  },
  {
   "cell_type": "code",
   "execution_count": 67,
   "metadata": {},
   "outputs": [
    {
     "data": {
      "text/plain": [
       "Parameter containing:\n",
       "tensor([[0.3696],\n",
       "        [0.2583]], requires_grad=True)"
      ]
     },
     "execution_count": 67,
     "metadata": {},
     "output_type": "execute_result"
    }
   ],
   "source": []
  },
  {
   "cell_type": "code",
   "execution_count": 58,
   "metadata": {},
   "outputs": [
    {
     "data": {
      "text/plain": [
       "array([[59653.242, 10913.049]], dtype=float32)"
      ]
     },
     "execution_count": 58,
     "metadata": {},
     "output_type": "execute_result"
    }
   ],
   "source": [
    "gt.coef_"
   ]
  },
  {
   "cell_type": "code",
   "execution_count": null,
   "metadata": {},
   "outputs": [],
   "source": []
  }
 ],
 "metadata": {
  "colab": {
   "collapsed_sections": [],
   "name": "Varying Noise Variance.ipynb",
   "provenance": []
  },
  "kernelspec": {
   "display_name": "Python 2",
   "language": "python",
   "name": "python2"
  },
  "language_info": {
   "codemirror_mode": {
    "name": "ipython",
    "version": 3
   },
   "file_extension": ".py",
   "mimetype": "text/x-python",
   "name": "python",
   "nbconvert_exporter": "python",
   "pygments_lexer": "ipython3",
   "version": "3.7.4"
  },
  "latex_envs": {
   "LaTeX_envs_menu_present": true,
   "autoclose": false,
   "autocomplete": true,
   "bibliofile": "biblio.bib",
   "cite_by": "apalike",
   "current_citInitial": 1,
   "eqLabelWithNumbers": true,
   "eqNumInitial": 1,
   "hotkeys": {
    "equation": "Ctrl-E",
    "itemize": "Ctrl-I"
   },
   "labels_anchors": false,
   "latex_user_defs": false,
   "report_style_numbering": false,
   "user_envs_cfg": false
  },
  "toc": {
   "base_numbering": 1,
   "nav_menu": {},
   "number_sections": true,
   "sideBar": true,
   "skip_h1_title": false,
   "title_cell": "Table of Contents",
   "title_sidebar": "Contents",
   "toc_cell": false,
   "toc_position": {},
   "toc_section_display": true,
   "toc_window_display": false
  },
  "varInspector": {
   "cols": {
    "lenName": 16,
    "lenType": 16,
    "lenVar": 40
   },
   "kernels_config": {
    "python": {
     "delete_cmd_postfix": "",
     "delete_cmd_prefix": "del ",
     "library": "var_list.py",
     "varRefreshCmd": "print(var_dic_list())"
    },
    "r": {
     "delete_cmd_postfix": ") ",
     "delete_cmd_prefix": "rm(",
     "library": "var_list.r",
     "varRefreshCmd": "cat(var_dic_list()) "
    }
   },
   "types_to_exclude": [
    "module",
    "function",
    "builtin_function_or_method",
    "instance",
    "_Feature"
   ],
   "window_display": false
  }
 },
 "nbformat": 4,
 "nbformat_minor": 1
}
